{
 "cells": [
  {
   "cell_type": "code",
   "execution_count": 1,
   "id": "d104a620",
   "metadata": {},
   "outputs": [],
   "source": [
    "# program to find factorial of a number"
   ]
  },
  {
   "cell_type": "code",
   "execution_count": 2,
   "id": "9fe5d28d",
   "metadata": {},
   "outputs": [
    {
     "name": "stdout",
     "output_type": "stream",
     "text": [
      "Enter Number:4\n",
      "Factorial= 24\n"
     ]
    }
   ],
   "source": [
    "i=int(input(\"Enter Number:\"))\n",
    "fac=1\n",
    "while(i>0):\n",
    "    fac=fac*i\n",
    "    i=i-1\n",
    "print(\"Factorial=\",fac)"
   ]
  },
  {
   "cell_type": "code",
   "execution_count": 3,
   "id": "f09b0f63",
   "metadata": {},
   "outputs": [],
   "source": [
    "#Program to find if a number is prime or composite"
   ]
  },
  {
   "cell_type": "code",
   "execution_count": 5,
   "id": "0d5bff65",
   "metadata": {},
   "outputs": [
    {
     "name": "stdout",
     "output_type": "stream",
     "text": [
      "Enter Number:6\n",
      "Composite Number\n"
     ]
    }
   ],
   "source": [
    "n=int(input(\"Enter Number:\"))\n",
    "count=0\n",
    "i=1\n",
    "while(i<=n):\n",
    "    if(n%i==0):\n",
    "        count=count+1\n",
    "    i=i+1\n",
    "if(count==2):\n",
    "    print(\"Prime Number\")\n",
    "else:\n",
    "    print(\"Composite Number\")"
   ]
  },
  {
   "cell_type": "code",
   "execution_count": 6,
   "id": "7e306c02",
   "metadata": {},
   "outputs": [],
   "source": [
    "#Program to find if a string is Palindrome or not:"
   ]
  },
  {
   "cell_type": "code",
   "execution_count": 8,
   "id": "5a261969",
   "metadata": {},
   "outputs": [
    {
     "name": "stdout",
     "output_type": "stream",
     "text": [
      "Enter String:anand\n",
      "Not Palindrome String\n"
     ]
    }
   ],
   "source": [
    "a=input(\"Enter String:\")\n",
    "b=a[-1::-1]\n",
    "if(a==b):\n",
    "    print(\"Palindrome String\")\n",
    "else:\n",
    "    print(\"Not Palindrome String\")"
   ]
  },
  {
   "cell_type": "code",
   "execution_count": 9,
   "id": "0c14e7df",
   "metadata": {},
   "outputs": [],
   "source": [
    "#program to find the third side of a right angled triangle given the remaining two sides"
   ]
  },
  {
   "cell_type": "code",
   "execution_count": 10,
   "id": "406bc7ad",
   "metadata": {},
   "outputs": [
    {
     "name": "stdout",
     "output_type": "stream",
     "text": [
      "Hypotenuse=17.0\n",
      "Adjacent=15.0\n",
      "Opposite=8.0\n",
      "You know the answer!\n"
     ]
    }
   ],
   "source": [
    "def pythagoras(opposite_side,adjacent_side,hypotenuse):\n",
    "    if opposite_side==str(\"x\"):\n",
    "        return(\"Opposite=\"+str(((hypotenuse**2)-(adjacent_side**2))**0.5))\n",
    "    elif adjacent_side==str(\"x\"):\n",
    "        return(\"Adjacent=\"+str(((hypotenuse**2)-(opposite_side**2))**0.5))\n",
    "    elif hypotenuse==str(\"x\"):\n",
    "        return(\"Hypotenuse=\"+str(((opposite_side**2)+(adjacent_side**2))**0.5))\n",
    "    else:\n",
    "        return \"You know the answer!\"\n",
    "\n",
    "print(pythagoras(8,15,'x'))\n",
    "print(pythagoras(8,'x',17))\n",
    "print(pythagoras('x',15,17))\n",
    "print(pythagoras(8,15,17))\n",
    "\n",
    "        "
   ]
  },
  {
   "cell_type": "code",
   "execution_count": 11,
   "id": "774f36e7",
   "metadata": {},
   "outputs": [],
   "source": [
    "# program to find out frequency of all characters in a string"
   ]
  },
  {
   "cell_type": "code",
   "execution_count": 12,
   "id": "6d206939",
   "metadata": {},
   "outputs": [
    {
     "name": "stdout",
     "output_type": "stream",
     "text": [
      "Enter the stringanand\n",
      "{'a': 2, 'n': 2, 'd': 1}\n"
     ]
    }
   ],
   "source": [
    "str1=input(\"Enter the string\")\n",
    "d1=dict()\n",
    "for c in str1:\n",
    "    if c in d1:\n",
    "        d1[c]=d1[c]+1\n",
    "    else:\n",
    "        d1[c]=1\n",
    "print(d1)"
   ]
  },
  {
   "cell_type": "code",
   "execution_count": null,
   "id": "8e34bca1",
   "metadata": {},
   "outputs": [],
   "source": []
  }
 ],
 "metadata": {
  "kernelspec": {
   "display_name": "Python 3 (ipykernel)",
   "language": "python",
   "name": "python3"
  },
  "language_info": {
   "codemirror_mode": {
    "name": "ipython",
    "version": 3
   },
   "file_extension": ".py",
   "mimetype": "text/x-python",
   "name": "python",
   "nbconvert_exporter": "python",
   "pygments_lexer": "ipython3",
   "version": "3.9.7"
  }
 },
 "nbformat": 4,
 "nbformat_minor": 5
}
