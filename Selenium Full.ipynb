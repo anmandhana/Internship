{
 "cells": [
  {
   "cell_type": "code",
   "execution_count": 1,
   "id": "02b686e2",
   "metadata": {
    "scrolled": true
   },
   "outputs": [
    {
     "name": "stdout",
     "output_type": "stream",
     "text": [
      "Collecting selenium\n",
      "  Downloading selenium-4.1.3-py3-none-any.whl (968 kB)\n",
      "Collecting trio-websocket~=0.9\n",
      "  Downloading trio_websocket-0.9.2-py3-none-any.whl (16 kB)\n",
      "Collecting trio~=0.17\n",
      "  Downloading trio-0.20.0-py3-none-any.whl (359 kB)\n",
      "Requirement already satisfied: urllib3[secure,socks]~=1.26 in c:\\users\\lenovo\\anaconda3\\lib\\site-packages (from selenium) (1.26.7)\n",
      "Collecting outcome\n",
      "  Downloading outcome-1.1.0-py2.py3-none-any.whl (9.7 kB)\n",
      "Requirement already satisfied: sortedcontainers in c:\\users\\lenovo\\anaconda3\\lib\\site-packages (from trio~=0.17->selenium) (2.4.0)\n",
      "Requirement already satisfied: attrs>=19.2.0 in c:\\users\\lenovo\\anaconda3\\lib\\site-packages (from trio~=0.17->selenium) (21.2.0)\n",
      "Requirement already satisfied: cffi>=1.14 in c:\\users\\lenovo\\anaconda3\\lib\\site-packages (from trio~=0.17->selenium) (1.14.6)\n",
      "Requirement already satisfied: idna in c:\\users\\lenovo\\anaconda3\\lib\\site-packages (from trio~=0.17->selenium) (3.2)\n",
      "Requirement already satisfied: sniffio in c:\\users\\lenovo\\anaconda3\\lib\\site-packages (from trio~=0.17->selenium) (1.2.0)\n",
      "Requirement already satisfied: async-generator>=1.9 in c:\\users\\lenovo\\anaconda3\\lib\\site-packages (from trio~=0.17->selenium) (1.10)\n",
      "Requirement already satisfied: pycparser in c:\\users\\lenovo\\anaconda3\\lib\\site-packages (from cffi>=1.14->trio~=0.17->selenium) (2.20)\n",
      "Collecting wsproto>=0.14\n",
      "  Downloading wsproto-1.1.0-py3-none-any.whl (24 kB)\n",
      "Requirement already satisfied: pyOpenSSL>=0.14 in c:\\users\\lenovo\\anaconda3\\lib\\site-packages (from urllib3[secure,socks]~=1.26->selenium) (21.0.0)\n",
      "Requirement already satisfied: cryptography>=1.3.4 in c:\\users\\lenovo\\anaconda3\\lib\\site-packages (from urllib3[secure,socks]~=1.26->selenium) (3.4.8)\n",
      "Requirement already satisfied: certifi in c:\\users\\lenovo\\anaconda3\\lib\\site-packages (from urllib3[secure,socks]~=1.26->selenium) (2021.10.8)\n",
      "Requirement already satisfied: PySocks!=1.5.7,<2.0,>=1.5.6 in c:\\users\\lenovo\\anaconda3\\lib\\site-packages (from urllib3[secure,socks]~=1.26->selenium) (1.7.1)\n",
      "Requirement already satisfied: six>=1.5.2 in c:\\users\\lenovo\\anaconda3\\lib\\site-packages (from pyOpenSSL>=0.14->urllib3[secure,socks]~=1.26->selenium) (1.16.0)\n",
      "Collecting h11<1,>=0.9.0\n",
      "  Downloading h11-0.13.0-py3-none-any.whl (58 kB)\n",
      "Installing collected packages: outcome, h11, wsproto, trio, trio-websocket, selenium\n",
      "Successfully installed h11-0.13.0 outcome-1.1.0 selenium-4.1.3 trio-0.20.0 trio-websocket-0.9.2 wsproto-1.1.0\n"
     ]
    }
   ],
   "source": [
    "! pip install selenium"
   ]
  },
  {
   "cell_type": "code",
   "execution_count": 1,
   "id": "99fc9f98",
   "metadata": {},
   "outputs": [],
   "source": [
    "import selenium\n",
    "import pandas as pd\n",
    "from selenium import webdriver\n",
    "import warnings\n",
    "warnings.filterwarnings(\"ignore\")\n",
    "import time\n",
    "import numpy as np"
   ]
  },
  {
   "cell_type": "code",
   "execution_count": 2,
   "id": "7dd3c85c",
   "metadata": {},
   "outputs": [],
   "source": [
    "driver=webdriver.Chrome(r\"C:\\web driver\\chromedriver.exe\")"
   ]
  },
  {
   "cell_type": "code",
   "execution_count": 21,
   "id": "d0d4432a",
   "metadata": {},
   "outputs": [],
   "source": [
    "driver=webdriver.Chrome(\"chromedriver.exe\")\n",
    "time.sleep(2)"
   ]
  },
  {
   "cell_type": "code",
   "execution_count": 22,
   "id": "078cc9b4",
   "metadata": {},
   "outputs": [],
   "source": [
    "#driver.close()"
   ]
  },
  {
   "cell_type": "code",
   "execution_count": 13,
   "id": "981c4971",
   "metadata": {},
   "outputs": [],
   "source": [
    "driver.get('https://www.naukri.com/')"
   ]
  },
  {
   "cell_type": "code",
   "execution_count": 4,
   "id": "454ea244",
   "metadata": {},
   "outputs": [],
   "source": [
    "search_field_designation=driver.find_element_by_class_name(\"suggestor-input\")\n",
    "search_field_designation.send_keys(\"Data Analyst\")"
   ]
  },
  {
   "cell_type": "code",
   "execution_count": 5,
   "id": "7c292dc7",
   "metadata": {},
   "outputs": [],
   "source": [
    "search_field_location=driver.find_element_by_xpath('/html/body/div/div[2]/div[3]/div/div/div[3]/div/div/div/input')\n",
    "search_field_location.send_keys(\"Bangalore\")"
   ]
  },
  {
   "cell_type": "code",
   "execution_count": 6,
   "id": "cc1a714f",
   "metadata": {},
   "outputs": [],
   "source": [
    "search_button=driver.find_element_by_xpath(\"/html/body/div/div[2]/div[3]/div/div/div[6]\")\n",
    "search_button.click()"
   ]
  },
  {
   "cell_type": "code",
   "execution_count": 12,
   "id": "931904ab",
   "metadata": {},
   "outputs": [],
   "source": [
    "job_title=[]\n",
    "job_location=[]\n",
    "company_name=[]\n",
    "experiences=[]"
   ]
  },
  {
   "cell_type": "code",
   "execution_count": 13,
   "id": "65724cda",
   "metadata": {},
   "outputs": [
    {
     "data": {
      "text/plain": [
       "[<selenium.webdriver.remote.webelement.WebElement (session=\"b4d8a0e2e4a0c82cbb8853c974e5a39d\", element=\"cc618cd5-aaf7-4eee-889f-e9e5a95ad516\")>,\n",
       " <selenium.webdriver.remote.webelement.WebElement (session=\"b4d8a0e2e4a0c82cbb8853c974e5a39d\", element=\"ab4b10b1-9a5e-4c2c-ba78-fa3cae8a9553\")>,\n",
       " <selenium.webdriver.remote.webelement.WebElement (session=\"b4d8a0e2e4a0c82cbb8853c974e5a39d\", element=\"0390cf22-4746-4b67-869e-a225dfef2d6e\")>,\n",
       " <selenium.webdriver.remote.webelement.WebElement (session=\"b4d8a0e2e4a0c82cbb8853c974e5a39d\", element=\"0fdda385-9739-4c63-990f-56c2e9b268cd\")>,\n",
       " <selenium.webdriver.remote.webelement.WebElement (session=\"b4d8a0e2e4a0c82cbb8853c974e5a39d\", element=\"752282dc-db54-4e09-9c10-c01d43f5be54\")>,\n",
       " <selenium.webdriver.remote.webelement.WebElement (session=\"b4d8a0e2e4a0c82cbb8853c974e5a39d\", element=\"843a0fc0-dfa9-455b-98e5-91ca8b30662c\")>,\n",
       " <selenium.webdriver.remote.webelement.WebElement (session=\"b4d8a0e2e4a0c82cbb8853c974e5a39d\", element=\"765d9bdc-b95e-45a6-b78f-d94ddc2c0a96\")>,\n",
       " <selenium.webdriver.remote.webelement.WebElement (session=\"b4d8a0e2e4a0c82cbb8853c974e5a39d\", element=\"fce88b44-0a49-42a9-bbf0-236c80f01d35\")>,\n",
       " <selenium.webdriver.remote.webelement.WebElement (session=\"b4d8a0e2e4a0c82cbb8853c974e5a39d\", element=\"7d31b122-ccb3-42a3-896e-029c987f3b6f\")>,\n",
       " <selenium.webdriver.remote.webelement.WebElement (session=\"b4d8a0e2e4a0c82cbb8853c974e5a39d\", element=\"8e205f5c-c9aa-43da-b4c6-5953f969335e\")>]"
      ]
     },
     "execution_count": 13,
     "metadata": {},
     "output_type": "execute_result"
    }
   ],
   "source": [
    "title_tags=driver.find_elements_by_xpath(\"//a[@class='title fw500 ellipsis']\")\n",
    "title_tags[0:10]"
   ]
  },
  {
   "cell_type": "code",
   "execution_count": 14,
   "id": "149d68f4",
   "metadata": {},
   "outputs": [],
   "source": [
    "for i in title_tags:\n",
    "    title=i.text\n",
    "    job_title.append(title)\n",
    "job_title=job_title[0:10]"
   ]
  },
  {
   "cell_type": "code",
   "execution_count": 15,
   "id": "7bde4ab6",
   "metadata": {},
   "outputs": [
    {
     "data": {
      "text/plain": [
       "[<selenium.webdriver.remote.webelement.WebElement (session=\"b4d8a0e2e4a0c82cbb8853c974e5a39d\", element=\"2bb6c266-1fb1-4867-b071-670aec97b350\")>,\n",
       " <selenium.webdriver.remote.webelement.WebElement (session=\"b4d8a0e2e4a0c82cbb8853c974e5a39d\", element=\"68611aae-47bf-4166-9b68-95d800a315b9\")>,\n",
       " <selenium.webdriver.remote.webelement.WebElement (session=\"b4d8a0e2e4a0c82cbb8853c974e5a39d\", element=\"4795cfcd-1b16-40e8-9b4e-00405e869a1a\")>,\n",
       " <selenium.webdriver.remote.webelement.WebElement (session=\"b4d8a0e2e4a0c82cbb8853c974e5a39d\", element=\"43af6dae-57d6-4fc1-844a-d8020c89582d\")>,\n",
       " <selenium.webdriver.remote.webelement.WebElement (session=\"b4d8a0e2e4a0c82cbb8853c974e5a39d\", element=\"516ec1e6-5d92-4afc-b373-0f59970e81c4\")>,\n",
       " <selenium.webdriver.remote.webelement.WebElement (session=\"b4d8a0e2e4a0c82cbb8853c974e5a39d\", element=\"b8d81722-ae90-4605-ae43-66f78b897a10\")>,\n",
       " <selenium.webdriver.remote.webelement.WebElement (session=\"b4d8a0e2e4a0c82cbb8853c974e5a39d\", element=\"cac75911-bcb4-4671-a82d-7c38987a2af3\")>,\n",
       " <selenium.webdriver.remote.webelement.WebElement (session=\"b4d8a0e2e4a0c82cbb8853c974e5a39d\", element=\"d9de85a1-ef4c-4cdd-a891-42ef351b3520\")>,\n",
       " <selenium.webdriver.remote.webelement.WebElement (session=\"b4d8a0e2e4a0c82cbb8853c974e5a39d\", element=\"fbaab6b9-90c3-40f7-b7cc-e98338b03d90\")>,\n",
       " <selenium.webdriver.remote.webelement.WebElement (session=\"b4d8a0e2e4a0c82cbb8853c974e5a39d\", element=\"9a57377a-201a-4692-beff-ebebbeeff3d0\")>]"
      ]
     },
     "execution_count": 15,
     "metadata": {},
     "output_type": "execute_result"
    }
   ],
   "source": [
    "loc_tag=driver.find_elements_by_xpath(\"//li[@class='fleft grey-text br2 placeHolderLi location']\")\n",
    "loc_tag[0:10]"
   ]
  },
  {
   "cell_type": "code",
   "execution_count": 16,
   "id": "6596eaa5",
   "metadata": {},
   "outputs": [],
   "source": [
    "for i in loc_tag:\n",
    "    loc=i.text\n",
    "    job_location.append(loc)\n",
    "job_location=job_location[0:10]"
   ]
  },
  {
   "cell_type": "code",
   "execution_count": 17,
   "id": "bbc63f91",
   "metadata": {},
   "outputs": [
    {
     "data": {
      "text/plain": [
       "[<selenium.webdriver.remote.webelement.WebElement (session=\"b4d8a0e2e4a0c82cbb8853c974e5a39d\", element=\"59f23bf6-7e39-4ce8-9ded-fc0849b7a46e\")>,\n",
       " <selenium.webdriver.remote.webelement.WebElement (session=\"b4d8a0e2e4a0c82cbb8853c974e5a39d\", element=\"158345f1-bbb2-4916-b6eb-25f230a90267\")>,\n",
       " <selenium.webdriver.remote.webelement.WebElement (session=\"b4d8a0e2e4a0c82cbb8853c974e5a39d\", element=\"df06cbbd-e50c-401a-b65e-60e99cdc3a8c\")>,\n",
       " <selenium.webdriver.remote.webelement.WebElement (session=\"b4d8a0e2e4a0c82cbb8853c974e5a39d\", element=\"1b782a86-71cb-47c0-bb8f-73eb33c68f01\")>,\n",
       " <selenium.webdriver.remote.webelement.WebElement (session=\"b4d8a0e2e4a0c82cbb8853c974e5a39d\", element=\"793eef2f-6497-482f-9daa-26ba383ce44c\")>,\n",
       " <selenium.webdriver.remote.webelement.WebElement (session=\"b4d8a0e2e4a0c82cbb8853c974e5a39d\", element=\"81f9f317-e232-4f8f-be8f-79e5a173966e\")>,\n",
       " <selenium.webdriver.remote.webelement.WebElement (session=\"b4d8a0e2e4a0c82cbb8853c974e5a39d\", element=\"8cedee20-27d7-4744-b595-abd1462d7dfc\")>,\n",
       " <selenium.webdriver.remote.webelement.WebElement (session=\"b4d8a0e2e4a0c82cbb8853c974e5a39d\", element=\"88525f3d-a954-4946-a70f-a393028ae1c3\")>,\n",
       " <selenium.webdriver.remote.webelement.WebElement (session=\"b4d8a0e2e4a0c82cbb8853c974e5a39d\", element=\"739c8a28-9521-4e47-b28a-f873092005fd\")>,\n",
       " <selenium.webdriver.remote.webelement.WebElement (session=\"b4d8a0e2e4a0c82cbb8853c974e5a39d\", element=\"8d665175-0d41-47b6-992d-4cd9e66f7f71\")>]"
      ]
     },
     "execution_count": 17,
     "metadata": {},
     "output_type": "execute_result"
    }
   ],
   "source": [
    "company_tag=driver.find_elements_by_xpath(\"//a[@class='subTitle ellipsis fleft']\")\n",
    "company_tag[0:10]"
   ]
  },
  {
   "cell_type": "code",
   "execution_count": 18,
   "id": "d1dc31c3",
   "metadata": {},
   "outputs": [],
   "source": [
    "for i in company_tag:\n",
    "    company=i.text\n",
    "    company_name.append(company)\n",
    "company_name=company_name[0:10]"
   ]
  },
  {
   "cell_type": "code",
   "execution_count": 19,
   "id": "5761c064",
   "metadata": {},
   "outputs": [
    {
     "data": {
      "text/plain": [
       "[<selenium.webdriver.remote.webelement.WebElement (session=\"b4d8a0e2e4a0c82cbb8853c974e5a39d\", element=\"a36cfe72-0329-4abb-9cb8-21b8467c139a\")>,\n",
       " <selenium.webdriver.remote.webelement.WebElement (session=\"b4d8a0e2e4a0c82cbb8853c974e5a39d\", element=\"1af0e453-6564-45ed-9233-e0aa064041d4\")>,\n",
       " <selenium.webdriver.remote.webelement.WebElement (session=\"b4d8a0e2e4a0c82cbb8853c974e5a39d\", element=\"19752d39-b9f1-45bd-afe0-071ce6024a15\")>,\n",
       " <selenium.webdriver.remote.webelement.WebElement (session=\"b4d8a0e2e4a0c82cbb8853c974e5a39d\", element=\"6a92b75b-c527-4f4d-92e5-4b17d40fed2e\")>,\n",
       " <selenium.webdriver.remote.webelement.WebElement (session=\"b4d8a0e2e4a0c82cbb8853c974e5a39d\", element=\"f30536f9-0860-43b0-9df8-b54a98dac4a7\")>,\n",
       " <selenium.webdriver.remote.webelement.WebElement (session=\"b4d8a0e2e4a0c82cbb8853c974e5a39d\", element=\"fc7672a0-35fa-48fe-a336-94d29119d2e8\")>,\n",
       " <selenium.webdriver.remote.webelement.WebElement (session=\"b4d8a0e2e4a0c82cbb8853c974e5a39d\", element=\"8f59ae9a-cdeb-4a5c-aebd-71ea340a7359\")>,\n",
       " <selenium.webdriver.remote.webelement.WebElement (session=\"b4d8a0e2e4a0c82cbb8853c974e5a39d\", element=\"5e978d2e-ba3e-4f8c-885b-fd48fcfe4b75\")>,\n",
       " <selenium.webdriver.remote.webelement.WebElement (session=\"b4d8a0e2e4a0c82cbb8853c974e5a39d\", element=\"128210d7-6f8f-4e4e-92f2-9a3a216a51a8\")>,\n",
       " <selenium.webdriver.remote.webelement.WebElement (session=\"b4d8a0e2e4a0c82cbb8853c974e5a39d\", element=\"a16b2a85-54d5-4da8-a593-7a9312c94f73\")>]"
      ]
     },
     "execution_count": 19,
     "metadata": {},
     "output_type": "execute_result"
    }
   ],
   "source": [
    "experience=driver.find_elements_by_xpath(\"//li[@class='fleft grey-text br2 placeHolderLi experience']\")\n",
    "experience[0:10]"
   ]
  },
  {
   "cell_type": "code",
   "execution_count": 20,
   "id": "41bffc0b",
   "metadata": {},
   "outputs": [],
   "source": [
    "for i in experience:\n",
    "    experience=i.text\n",
    "    experiences.append(experience)\n",
    "experiences=experiences[0:10]"
   ]
  },
  {
   "cell_type": "code",
   "execution_count": 21,
   "id": "c87dac98",
   "metadata": {},
   "outputs": [
    {
     "data": {
      "text/html": [
       "<div>\n",
       "<style scoped>\n",
       "    .dataframe tbody tr th:only-of-type {\n",
       "        vertical-align: middle;\n",
       "    }\n",
       "\n",
       "    .dataframe tbody tr th {\n",
       "        vertical-align: top;\n",
       "    }\n",
       "\n",
       "    .dataframe thead th {\n",
       "        text-align: right;\n",
       "    }\n",
       "</style>\n",
       "<table border=\"1\" class=\"dataframe\">\n",
       "  <thead>\n",
       "    <tr style=\"text-align: right;\">\n",
       "      <th></th>\n",
       "      <th>JobTitle</th>\n",
       "      <th>Location</th>\n",
       "      <th>Company</th>\n",
       "      <th>Experience</th>\n",
       "    </tr>\n",
       "  </thead>\n",
       "  <tbody>\n",
       "    <tr>\n",
       "      <th>0</th>\n",
       "      <td>Business and Data Analyst</td>\n",
       "      <td>Bangalore/Bengaluru\\n(WFH during Covid)</td>\n",
       "      <td>CAREERDOST ENTERPRISE</td>\n",
       "      <td>0-5 Yrs</td>\n",
       "    </tr>\n",
       "    <tr>\n",
       "      <th>1</th>\n",
       "      <td>Officer - Category Demand Management ( Data An...</td>\n",
       "      <td>Bangalore/Bengaluru</td>\n",
       "      <td>Myntra</td>\n",
       "      <td>1-4 Yrs</td>\n",
       "    </tr>\n",
       "    <tr>\n",
       "      <th>2</th>\n",
       "      <td>Software Technologist II - Data Analyst</td>\n",
       "      <td>Bangalore/Bengaluru</td>\n",
       "      <td>Philips</td>\n",
       "      <td>5-8 Yrs</td>\n",
       "    </tr>\n",
       "    <tr>\n",
       "      <th>3</th>\n",
       "      <td>SAS Analyst / data Analyst / Business analyst ...</td>\n",
       "      <td>Bangalore/Bengaluru, Delhi / NCR, Mumbai (All ...</td>\n",
       "      <td>Leading US MNC into analytics</td>\n",
       "      <td>2-7 Yrs</td>\n",
       "    </tr>\n",
       "    <tr>\n",
       "      <th>4</th>\n",
       "      <td>Senior Data Analyst</td>\n",
       "      <td>Noida, Indore, Hyderabad/Secunderabad, Pune, G...</td>\n",
       "      <td>ClearTrail Technologies</td>\n",
       "      <td>4-8 Yrs</td>\n",
       "    </tr>\n",
       "    <tr>\n",
       "      <th>5</th>\n",
       "      <td>Data Analyst</td>\n",
       "      <td>Chennai, Bangalore/Bengaluru, kerala</td>\n",
       "      <td>Malayala Manorama</td>\n",
       "      <td>2-7 Yrs</td>\n",
       "    </tr>\n",
       "    <tr>\n",
       "      <th>6</th>\n",
       "      <td>Data Analyst II</td>\n",
       "      <td>Bangalore/Bengaluru</td>\n",
       "      <td>Cerner</td>\n",
       "      <td>6-10 Yrs</td>\n",
       "    </tr>\n",
       "    <tr>\n",
       "      <th>7</th>\n",
       "      <td>Senior Data Analyst II</td>\n",
       "      <td>Bangalore/Bengaluru</td>\n",
       "      <td>Flipkart</td>\n",
       "      <td>2-4 Yrs</td>\n",
       "    </tr>\n",
       "    <tr>\n",
       "      <th>8</th>\n",
       "      <td>Senior Data Analyst II</td>\n",
       "      <td>Bangalore/Bengaluru</td>\n",
       "      <td>Flipkart</td>\n",
       "      <td>3-6 Yrs</td>\n",
       "    </tr>\n",
       "    <tr>\n",
       "      <th>9</th>\n",
       "      <td>Consultant - Data Analyst</td>\n",
       "      <td>Bangalore/Bengaluru, Delhi / NCR, Mumbai (All ...</td>\n",
       "      <td>Jobs Territory</td>\n",
       "      <td>0-2 Yrs</td>\n",
       "    </tr>\n",
       "  </tbody>\n",
       "</table>\n",
       "</div>"
      ],
      "text/plain": [
       "                                            JobTitle  \\\n",
       "0                          Business and Data Analyst   \n",
       "1  Officer - Category Demand Management ( Data An...   \n",
       "2            Software Technologist II - Data Analyst   \n",
       "3  SAS Analyst / data Analyst / Business analyst ...   \n",
       "4                                Senior Data Analyst   \n",
       "5                                       Data Analyst   \n",
       "6                                    Data Analyst II   \n",
       "7                             Senior Data Analyst II   \n",
       "8                             Senior Data Analyst II   \n",
       "9                          Consultant - Data Analyst   \n",
       "\n",
       "                                            Location  \\\n",
       "0            Bangalore/Bengaluru\\n(WFH during Covid)   \n",
       "1                                Bangalore/Bengaluru   \n",
       "2                                Bangalore/Bengaluru   \n",
       "3  Bangalore/Bengaluru, Delhi / NCR, Mumbai (All ...   \n",
       "4  Noida, Indore, Hyderabad/Secunderabad, Pune, G...   \n",
       "5               Chennai, Bangalore/Bengaluru, kerala   \n",
       "6                                Bangalore/Bengaluru   \n",
       "7                                Bangalore/Bengaluru   \n",
       "8                                Bangalore/Bengaluru   \n",
       "9  Bangalore/Bengaluru, Delhi / NCR, Mumbai (All ...   \n",
       "\n",
       "                         Company Experience  \n",
       "0          CAREERDOST ENTERPRISE    0-5 Yrs  \n",
       "1                         Myntra    1-4 Yrs  \n",
       "2                        Philips    5-8 Yrs  \n",
       "3  Leading US MNC into analytics    2-7 Yrs  \n",
       "4        ClearTrail Technologies    4-8 Yrs  \n",
       "5              Malayala Manorama    2-7 Yrs  \n",
       "6                         Cerner   6-10 Yrs  \n",
       "7                       Flipkart    2-4 Yrs  \n",
       "8                       Flipkart    3-6 Yrs  \n",
       "9                 Jobs Territory    0-2 Yrs  "
      ]
     },
     "execution_count": 21,
     "metadata": {},
     "output_type": "execute_result"
    }
   ],
   "source": [
    "df=pd.DataFrame({'JobTitle':job_title,'Location':job_location,'Company':company_name,'Experience':experiences})\n",
    "df"
   ]
  },
  {
   "cell_type": "code",
   "execution_count": 22,
   "id": "dc4127e9",
   "metadata": {},
   "outputs": [],
   "source": [
    "driver.close()"
   ]
  },
  {
   "cell_type": "code",
   "execution_count": 4,
   "id": "434e1c4b",
   "metadata": {},
   "outputs": [],
   "source": [
    "search_field_designation=driver.find_element_by_class_name(\"suggestor-input\")\n",
    "search_field_designation.send_keys(\"Data Scientist\")"
   ]
  },
  {
   "cell_type": "code",
   "execution_count": 5,
   "id": "6a39dbba",
   "metadata": {},
   "outputs": [],
   "source": [
    "search_field_location=driver.find_element_by_xpath('/html/body/div/div[2]/div[3]/div/div/div[3]/div/div/div/input')\n",
    "search_field_location.send_keys(\"Bangalore\")"
   ]
  },
  {
   "cell_type": "code",
   "execution_count": 7,
   "id": "42b1a5d8",
   "metadata": {},
   "outputs": [],
   "source": [
    "search_button2=driver.find_element_by_xpath(\"/html/body/div/div[2]/div[3]/div/div/div[6]\")\n",
    "search_button2.click()"
   ]
  },
  {
   "cell_type": "code",
   "execution_count": 36,
   "id": "e2cc299a",
   "metadata": {},
   "outputs": [],
   "source": [
    "job_titles=[]\n",
    "job_locations=[]\n",
    "company_names=[]"
   ]
  },
  {
   "cell_type": "code",
   "execution_count": 13,
   "id": "bbefb60f",
   "metadata": {
    "scrolled": true
   },
   "outputs": [
    {
     "data": {
      "text/plain": [
       "[<selenium.webdriver.remote.webelement.WebElement (session=\"c5ae1f199961ce2c70e52a6e3769569e\", element=\"76273f84-7484-450a-b88f-5c2c5d2f2aac\")>,\n",
       " <selenium.webdriver.remote.webelement.WebElement (session=\"c5ae1f199961ce2c70e52a6e3769569e\", element=\"d35c850c-5471-4268-bac0-e9390f6726d6\")>,\n",
       " <selenium.webdriver.remote.webelement.WebElement (session=\"c5ae1f199961ce2c70e52a6e3769569e\", element=\"3cf76af2-a9d7-437f-8186-a52de726bde2\")>,\n",
       " <selenium.webdriver.remote.webelement.WebElement (session=\"c5ae1f199961ce2c70e52a6e3769569e\", element=\"e5fd41db-4a8b-4bd4-97b8-25b790c0c947\")>,\n",
       " <selenium.webdriver.remote.webelement.WebElement (session=\"c5ae1f199961ce2c70e52a6e3769569e\", element=\"5f6e7bf2-ad68-4e9e-a6af-344ca57c19f9\")>,\n",
       " <selenium.webdriver.remote.webelement.WebElement (session=\"c5ae1f199961ce2c70e52a6e3769569e\", element=\"7233cd5f-4f52-4950-b0df-cb32c275c993\")>,\n",
       " <selenium.webdriver.remote.webelement.WebElement (session=\"c5ae1f199961ce2c70e52a6e3769569e\", element=\"a37ba11e-705e-4193-9db4-fbbd385fdf99\")>,\n",
       " <selenium.webdriver.remote.webelement.WebElement (session=\"c5ae1f199961ce2c70e52a6e3769569e\", element=\"e2920bc0-7472-470f-9f16-1be4ef2fd9e2\")>,\n",
       " <selenium.webdriver.remote.webelement.WebElement (session=\"c5ae1f199961ce2c70e52a6e3769569e\", element=\"d8911d0a-7b65-482c-97d0-8231753b687b\")>,\n",
       " <selenium.webdriver.remote.webelement.WebElement (session=\"c5ae1f199961ce2c70e52a6e3769569e\", element=\"3c664561-a168-4126-a08c-1a9a76060092\")>]"
      ]
     },
     "execution_count": 13,
     "metadata": {},
     "output_type": "execute_result"
    }
   ],
   "source": [
    "job_title=driver.find_elements_by_xpath(\"//a[@class='title fw500 ellipsis']\")\n",
    "job_title[0:10]"
   ]
  },
  {
   "cell_type": "code",
   "execution_count": 47,
   "id": "834aa6af",
   "metadata": {},
   "outputs": [],
   "source": [
    "for i in job_title:\n",
    "    title=i.text\n",
    "    job_titles.append(title)\n",
    "job_titles=job_titles[0:10]"
   ]
  },
  {
   "cell_type": "code",
   "execution_count": 48,
   "id": "ca6d5623",
   "metadata": {},
   "outputs": [
    {
     "data": {
      "text/plain": [
       "['Senior Data Scientist',\n",
       " 'Associate Data Scientist',\n",
       " 'Senior Data Scientist (IN4)',\n",
       " 'Senior Data Scientist',\n",
       " 'Senior Data Scientist',\n",
       " 'Lead Data Scientist',\n",
       " 'Senior Data Scientist',\n",
       " 'Senior Data Scientist',\n",
       " 'Senior Data Scientist',\n",
       " 'Staff Engineer Data Scientist']"
      ]
     },
     "execution_count": 48,
     "metadata": {},
     "output_type": "execute_result"
    }
   ],
   "source": [
    "job_titles"
   ]
  },
  {
   "cell_type": "code",
   "execution_count": 49,
   "id": "02366082",
   "metadata": {},
   "outputs": [
    {
     "data": {
      "text/plain": [
       "[<selenium.webdriver.remote.webelement.WebElement (session=\"c5ae1f199961ce2c70e52a6e3769569e\", element=\"7295cd71-5e57-4afc-98a5-6c2369a965d5\")>,\n",
       " <selenium.webdriver.remote.webelement.WebElement (session=\"c5ae1f199961ce2c70e52a6e3769569e\", element=\"f22f570c-c6e9-4652-98b2-d9417d447d0e\")>,\n",
       " <selenium.webdriver.remote.webelement.WebElement (session=\"c5ae1f199961ce2c70e52a6e3769569e\", element=\"8ee795b4-b1c0-42c6-80f5-4c4b46541280\")>,\n",
       " <selenium.webdriver.remote.webelement.WebElement (session=\"c5ae1f199961ce2c70e52a6e3769569e\", element=\"ef82a2b2-b73a-4211-8831-cfa65e4a77c7\")>,\n",
       " <selenium.webdriver.remote.webelement.WebElement (session=\"c5ae1f199961ce2c70e52a6e3769569e\", element=\"95ecc886-a1f2-4ae7-b6d5-cf37176f3cc2\")>,\n",
       " <selenium.webdriver.remote.webelement.WebElement (session=\"c5ae1f199961ce2c70e52a6e3769569e\", element=\"6ac745e4-64c6-4c6e-b0b4-da9de5ccadf7\")>,\n",
       " <selenium.webdriver.remote.webelement.WebElement (session=\"c5ae1f199961ce2c70e52a6e3769569e\", element=\"fd8e021a-cb52-48c2-b8fb-5d31e493ba29\")>,\n",
       " <selenium.webdriver.remote.webelement.WebElement (session=\"c5ae1f199961ce2c70e52a6e3769569e\", element=\"90ff30f2-306c-4db7-8383-bcbd7f282b02\")>,\n",
       " <selenium.webdriver.remote.webelement.WebElement (session=\"c5ae1f199961ce2c70e52a6e3769569e\", element=\"314f2f8b-b8ad-4347-8999-fb4b0db5b172\")>,\n",
       " <selenium.webdriver.remote.webelement.WebElement (session=\"c5ae1f199961ce2c70e52a6e3769569e\", element=\"09f3e020-9a0e-48b2-8189-d3f656853876\")>]"
      ]
     },
     "execution_count": 49,
     "metadata": {},
     "output_type": "execute_result"
    }
   ],
   "source": [
    "job_location=driver.find_elements_by_xpath(\"//li[@class='fleft grey-text br2 placeHolderLi location']\")\n",
    "job_location[0:10]"
   ]
  },
  {
   "cell_type": "code",
   "execution_count": 50,
   "id": "1f4a15aa",
   "metadata": {},
   "outputs": [],
   "source": [
    "for i in job_location:\n",
    "    title=i.text\n",
    "    job_locations.append(title)\n",
    "job_locations=job_locations[0:10]"
   ]
  },
  {
   "cell_type": "code",
   "execution_count": 51,
   "id": "32348d40",
   "metadata": {},
   "outputs": [
    {
     "data": {
      "text/plain": [
       "['Bangalore/Bengaluru',\n",
       " 'Mumbai, Pune, Bangalore/Bengaluru, Mumbai',\n",
       " 'Bangalore/Bengaluru',\n",
       " 'Bangalore/Bengaluru',\n",
       " 'Bangalore/Bengaluru',\n",
       " 'Bangalore/Bengaluru',\n",
       " 'Bangalore/Bengaluru',\n",
       " 'Bangalore/Bengaluru',\n",
       " 'Bangalore/Bengaluru',\n",
       " 'Bangalore/Bengaluru']"
      ]
     },
     "execution_count": 51,
     "metadata": {},
     "output_type": "execute_result"
    }
   ],
   "source": [
    "job_locations"
   ]
  },
  {
   "cell_type": "code",
   "execution_count": 52,
   "id": "1ed68275",
   "metadata": {},
   "outputs": [
    {
     "data": {
      "text/plain": [
       "[<selenium.webdriver.remote.webelement.WebElement (session=\"c5ae1f199961ce2c70e52a6e3769569e\", element=\"54bba064-4182-4642-943b-5d66fc1418a2\")>,\n",
       " <selenium.webdriver.remote.webelement.WebElement (session=\"c5ae1f199961ce2c70e52a6e3769569e\", element=\"da1b4c4f-d8f5-44fb-ba2a-9725147e9ceb\")>,\n",
       " <selenium.webdriver.remote.webelement.WebElement (session=\"c5ae1f199961ce2c70e52a6e3769569e\", element=\"e386e0b9-3f84-4bbb-b7cd-4c0d7d226ef1\")>,\n",
       " <selenium.webdriver.remote.webelement.WebElement (session=\"c5ae1f199961ce2c70e52a6e3769569e\", element=\"c8f14b8f-a2f1-4f3a-bb90-f90972f53c88\")>,\n",
       " <selenium.webdriver.remote.webelement.WebElement (session=\"c5ae1f199961ce2c70e52a6e3769569e\", element=\"51a36fb9-ee59-440a-b378-e85405690cde\")>,\n",
       " <selenium.webdriver.remote.webelement.WebElement (session=\"c5ae1f199961ce2c70e52a6e3769569e\", element=\"a98873e2-dc1e-42cd-9f96-688ee3e99594\")>,\n",
       " <selenium.webdriver.remote.webelement.WebElement (session=\"c5ae1f199961ce2c70e52a6e3769569e\", element=\"0ad6212a-8236-4c71-bd6c-1ae44de6157e\")>,\n",
       " <selenium.webdriver.remote.webelement.WebElement (session=\"c5ae1f199961ce2c70e52a6e3769569e\", element=\"8ad3053d-4e94-4990-b755-0b523d1d6b57\")>,\n",
       " <selenium.webdriver.remote.webelement.WebElement (session=\"c5ae1f199961ce2c70e52a6e3769569e\", element=\"f72e01e4-09e9-43de-873f-6ab004b5699d\")>,\n",
       " <selenium.webdriver.remote.webelement.WebElement (session=\"c5ae1f199961ce2c70e52a6e3769569e\", element=\"df16d757-772d-49b7-8f93-e2ece63073f3\")>]"
      ]
     },
     "execution_count": 52,
     "metadata": {},
     "output_type": "execute_result"
    }
   ],
   "source": [
    "company_tags=driver.find_elements_by_xpath(\"//a[@class='subTitle ellipsis fleft']\")\n",
    "company_tags[0:10]"
   ]
  },
  {
   "cell_type": "code",
   "execution_count": 53,
   "id": "1a15045f",
   "metadata": {},
   "outputs": [
    {
     "data": {
      "text/plain": [
       "['Walmart',\n",
       " 'IDFC FIRST Bank',\n",
       " 'Walmart',\n",
       " 'Walmart',\n",
       " 'Ericsson Global Services',\n",
       " 'Groww',\n",
       " 'Truecaller',\n",
       " 'PayU',\n",
       " 'Gojek',\n",
       " 'Infineon Technologies Pvt Ltd']"
      ]
     },
     "execution_count": 53,
     "metadata": {},
     "output_type": "execute_result"
    }
   ],
   "source": [
    "for i in company_tags:\n",
    "    company_name=i.text\n",
    "    company_names.append(company_name)\n",
    "company_names[0:10]"
   ]
  },
  {
   "cell_type": "code",
   "execution_count": 54,
   "id": "4bcb43a0",
   "metadata": {},
   "outputs": [
    {
     "data": {
      "text/plain": [
       "['Walmart',\n",
       " 'IDFC FIRST Bank',\n",
       " 'Walmart',\n",
       " 'Walmart',\n",
       " 'Ericsson Global Services',\n",
       " 'Groww',\n",
       " 'Truecaller',\n",
       " 'PayU',\n",
       " 'Gojek',\n",
       " 'Infineon Technologies Pvt Ltd']"
      ]
     },
     "execution_count": 54,
     "metadata": {},
     "output_type": "execute_result"
    }
   ],
   "source": [
    "companies=company_names[0:10]\n",
    "companies"
   ]
  },
  {
   "cell_type": "code",
   "execution_count": 55,
   "id": "84f5e4d2",
   "metadata": {},
   "outputs": [
    {
     "data": {
      "text/html": [
       "<div>\n",
       "<style scoped>\n",
       "    .dataframe tbody tr th:only-of-type {\n",
       "        vertical-align: middle;\n",
       "    }\n",
       "\n",
       "    .dataframe tbody tr th {\n",
       "        vertical-align: top;\n",
       "    }\n",
       "\n",
       "    .dataframe thead th {\n",
       "        text-align: right;\n",
       "    }\n",
       "</style>\n",
       "<table border=\"1\" class=\"dataframe\">\n",
       "  <thead>\n",
       "    <tr style=\"text-align: right;\">\n",
       "      <th></th>\n",
       "      <th>JobTitles</th>\n",
       "      <th>Locations</th>\n",
       "      <th>Companies</th>\n",
       "    </tr>\n",
       "  </thead>\n",
       "  <tbody>\n",
       "    <tr>\n",
       "      <th>0</th>\n",
       "      <td>Senior Data Scientist</td>\n",
       "      <td>Bangalore/Bengaluru</td>\n",
       "      <td>Walmart</td>\n",
       "    </tr>\n",
       "    <tr>\n",
       "      <th>1</th>\n",
       "      <td>Associate Data Scientist</td>\n",
       "      <td>Mumbai, Pune, Bangalore/Bengaluru, Mumbai</td>\n",
       "      <td>IDFC FIRST Bank</td>\n",
       "    </tr>\n",
       "    <tr>\n",
       "      <th>2</th>\n",
       "      <td>Senior Data Scientist (IN4)</td>\n",
       "      <td>Bangalore/Bengaluru</td>\n",
       "      <td>Walmart</td>\n",
       "    </tr>\n",
       "    <tr>\n",
       "      <th>3</th>\n",
       "      <td>Senior Data Scientist</td>\n",
       "      <td>Bangalore/Bengaluru</td>\n",
       "      <td>Walmart</td>\n",
       "    </tr>\n",
       "    <tr>\n",
       "      <th>4</th>\n",
       "      <td>Senior Data Scientist</td>\n",
       "      <td>Bangalore/Bengaluru</td>\n",
       "      <td>Ericsson Global Services</td>\n",
       "    </tr>\n",
       "    <tr>\n",
       "      <th>5</th>\n",
       "      <td>Lead Data Scientist</td>\n",
       "      <td>Bangalore/Bengaluru</td>\n",
       "      <td>Groww</td>\n",
       "    </tr>\n",
       "    <tr>\n",
       "      <th>6</th>\n",
       "      <td>Senior Data Scientist</td>\n",
       "      <td>Bangalore/Bengaluru</td>\n",
       "      <td>Truecaller</td>\n",
       "    </tr>\n",
       "    <tr>\n",
       "      <th>7</th>\n",
       "      <td>Senior Data Scientist</td>\n",
       "      <td>Bangalore/Bengaluru</td>\n",
       "      <td>PayU</td>\n",
       "    </tr>\n",
       "    <tr>\n",
       "      <th>8</th>\n",
       "      <td>Senior Data Scientist</td>\n",
       "      <td>Bangalore/Bengaluru</td>\n",
       "      <td>Gojek</td>\n",
       "    </tr>\n",
       "    <tr>\n",
       "      <th>9</th>\n",
       "      <td>Staff Engineer Data Scientist</td>\n",
       "      <td>Bangalore/Bengaluru</td>\n",
       "      <td>Infineon Technologies Pvt Ltd</td>\n",
       "    </tr>\n",
       "  </tbody>\n",
       "</table>\n",
       "</div>"
      ],
      "text/plain": [
       "                       JobTitles                                  Locations  \\\n",
       "0          Senior Data Scientist                        Bangalore/Bengaluru   \n",
       "1       Associate Data Scientist  Mumbai, Pune, Bangalore/Bengaluru, Mumbai   \n",
       "2    Senior Data Scientist (IN4)                        Bangalore/Bengaluru   \n",
       "3          Senior Data Scientist                        Bangalore/Bengaluru   \n",
       "4          Senior Data Scientist                        Bangalore/Bengaluru   \n",
       "5            Lead Data Scientist                        Bangalore/Bengaluru   \n",
       "6          Senior Data Scientist                        Bangalore/Bengaluru   \n",
       "7          Senior Data Scientist                        Bangalore/Bengaluru   \n",
       "8          Senior Data Scientist                        Bangalore/Bengaluru   \n",
       "9  Staff Engineer Data Scientist                        Bangalore/Bengaluru   \n",
       "\n",
       "                       Companies  \n",
       "0                        Walmart  \n",
       "1                IDFC FIRST Bank  \n",
       "2                        Walmart  \n",
       "3                        Walmart  \n",
       "4       Ericsson Global Services  \n",
       "5                          Groww  \n",
       "6                     Truecaller  \n",
       "7                           PayU  \n",
       "8                          Gojek  \n",
       "9  Infineon Technologies Pvt Ltd  "
      ]
     },
     "execution_count": 55,
     "metadata": {},
     "output_type": "execute_result"
    }
   ],
   "source": [
    "df=pd.DataFrame({'JobTitles':job_titles,'Locations':job_locations,'Companies':companies})\n",
    "df"
   ]
  },
  {
   "cell_type": "code",
   "execution_count": 10,
   "id": "337532b7",
   "metadata": {},
   "outputs": [],
   "source": [
    "driver.close()"
   ]
  },
  {
   "cell_type": "code",
   "execution_count": 14,
   "id": "24e3748e",
   "metadata": {},
   "outputs": [],
   "source": [
    "search_field_designation=driver.find_element_by_class_name(\"suggestor-input\")\n",
    "search_field_designation.send_keys(\"Data Scientist\")"
   ]
  },
  {
   "cell_type": "code",
   "execution_count": 15,
   "id": "14bafc3a",
   "metadata": {},
   "outputs": [],
   "source": [
    "search_button=driver.find_element_by_xpath(\"/html/body/div/div[2]/div[3]/div/div/div[6]\")\n",
    "search_button.click()"
   ]
  },
  {
   "cell_type": "code",
   "execution_count": 16,
   "id": "2b0227b3",
   "metadata": {},
   "outputs": [],
   "source": [
    "search_button=driver.find_element_by_xpath(\"/html/body/div[1]/div[3]/div[2]/section[1]/div[2]/div[4]/div[2]/div[3]/label/i\")\n",
    "search_button.click()"
   ]
  },
  {
   "cell_type": "code",
   "execution_count": 17,
   "id": "b71e969c",
   "metadata": {},
   "outputs": [],
   "source": [
    "search_button=driver.find_element_by_xpath(\"/html/body/div[1]/div[3]/div[2]/section[1]/div[2]/div[5]/div[2]/div[2]/label/i\")\n",
    "search_button.click()"
   ]
  },
  {
   "cell_type": "code",
   "execution_count": 18,
   "id": "e647e42d",
   "metadata": {},
   "outputs": [],
   "source": [
    "job_title=[]\n",
    "job_location=[]\n",
    "company_name=[]\n",
    "experiences=[]"
   ]
  },
  {
   "cell_type": "code",
   "execution_count": 19,
   "id": "ca715156",
   "metadata": {},
   "outputs": [
    {
     "data": {
      "text/plain": [
       "[<selenium.webdriver.remote.webelement.WebElement (session=\"f1ac4986f7e2b0aaf7ff35f91238643f\", element=\"0509ba7b-d255-456d-aa5a-15852a251d20\")>,\n",
       " <selenium.webdriver.remote.webelement.WebElement (session=\"f1ac4986f7e2b0aaf7ff35f91238643f\", element=\"fde8541c-e4c4-4108-b2e5-a7412a0c48be\")>,\n",
       " <selenium.webdriver.remote.webelement.WebElement (session=\"f1ac4986f7e2b0aaf7ff35f91238643f\", element=\"dd364e9e-24e8-46cb-9a81-2e9eea22c4ca\")>,\n",
       " <selenium.webdriver.remote.webelement.WebElement (session=\"f1ac4986f7e2b0aaf7ff35f91238643f\", element=\"8379c127-7e19-4896-aedc-7a1fd0212ffd\")>,\n",
       " <selenium.webdriver.remote.webelement.WebElement (session=\"f1ac4986f7e2b0aaf7ff35f91238643f\", element=\"49442a74-3fb6-4e17-8588-5eba2b2c950a\")>,\n",
       " <selenium.webdriver.remote.webelement.WebElement (session=\"f1ac4986f7e2b0aaf7ff35f91238643f\", element=\"77d6fa05-72a0-4ac7-b6b0-8574c108d03a\")>,\n",
       " <selenium.webdriver.remote.webelement.WebElement (session=\"f1ac4986f7e2b0aaf7ff35f91238643f\", element=\"d2b246ab-b416-4e9a-9bb9-a1ca5e412d60\")>,\n",
       " <selenium.webdriver.remote.webelement.WebElement (session=\"f1ac4986f7e2b0aaf7ff35f91238643f\", element=\"39004173-3fc2-4c7d-a01b-ff9044d080cb\")>,\n",
       " <selenium.webdriver.remote.webelement.WebElement (session=\"f1ac4986f7e2b0aaf7ff35f91238643f\", element=\"51d511fa-6503-40f4-88a7-c1bd2213db23\")>,\n",
       " <selenium.webdriver.remote.webelement.WebElement (session=\"f1ac4986f7e2b0aaf7ff35f91238643f\", element=\"0fbd2dda-1490-4038-be9f-19038edbfcbf\")>]"
      ]
     },
     "execution_count": 19,
     "metadata": {},
     "output_type": "execute_result"
    }
   ],
   "source": [
    "title_tags=driver.find_elements_by_xpath(\"//a[@class='title fw500 ellipsis']\")\n",
    "title_tags[0:10]"
   ]
  },
  {
   "cell_type": "code",
   "execution_count": 20,
   "id": "4b873d85",
   "metadata": {},
   "outputs": [],
   "source": [
    "for i in title_tags:\n",
    "    title=i.text\n",
    "    job_title.append(title)\n",
    "job_title=job_title[0:10]"
   ]
  },
  {
   "cell_type": "code",
   "execution_count": 21,
   "id": "1c0240ea",
   "metadata": {},
   "outputs": [
    {
     "data": {
      "text/plain": [
       "['Associate Data Scientist',\n",
       " 'Hiring For Senior Data Scientist-Noida',\n",
       " 'Opening For Data Scientist',\n",
       " 'Data Scientist/ Machine Learning, 2022 Passout Can also apply',\n",
       " 'Data Scientist (freelance)',\n",
       " 'Data Scientist',\n",
       " 'Data Scientist',\n",
       " 'Senior Data Scientist',\n",
       " 'Lead Data Scientist',\n",
       " 'Data Scientist - Python/SQL']"
      ]
     },
     "execution_count": 21,
     "metadata": {},
     "output_type": "execute_result"
    }
   ],
   "source": [
    "job_title"
   ]
  },
  {
   "cell_type": "code",
   "execution_count": 22,
   "id": "4fa71f78",
   "metadata": {},
   "outputs": [
    {
     "data": {
      "text/plain": [
       "[<selenium.webdriver.remote.webelement.WebElement (session=\"f1ac4986f7e2b0aaf7ff35f91238643f\", element=\"09501fd4-ab70-41d6-9680-3bccef13b094\")>,\n",
       " <selenium.webdriver.remote.webelement.WebElement (session=\"f1ac4986f7e2b0aaf7ff35f91238643f\", element=\"147c3e81-3356-4f05-8f35-0ed0170c78ed\")>,\n",
       " <selenium.webdriver.remote.webelement.WebElement (session=\"f1ac4986f7e2b0aaf7ff35f91238643f\", element=\"bbf0ef49-6908-4b21-acda-27981566078b\")>,\n",
       " <selenium.webdriver.remote.webelement.WebElement (session=\"f1ac4986f7e2b0aaf7ff35f91238643f\", element=\"836ab84b-47e5-4a24-8553-2ec500de321d\")>,\n",
       " <selenium.webdriver.remote.webelement.WebElement (session=\"f1ac4986f7e2b0aaf7ff35f91238643f\", element=\"82712523-4e9f-4b8c-95ff-00a4eecefe45\")>,\n",
       " <selenium.webdriver.remote.webelement.WebElement (session=\"f1ac4986f7e2b0aaf7ff35f91238643f\", element=\"db92fa5e-2d7e-4ea2-aedf-2b90ec776546\")>,\n",
       " <selenium.webdriver.remote.webelement.WebElement (session=\"f1ac4986f7e2b0aaf7ff35f91238643f\", element=\"454cdeac-2960-4c70-ae6b-73a0827181ca\")>,\n",
       " <selenium.webdriver.remote.webelement.WebElement (session=\"f1ac4986f7e2b0aaf7ff35f91238643f\", element=\"12a7fd5a-3953-48ac-99ac-287bfb86d277\")>,\n",
       " <selenium.webdriver.remote.webelement.WebElement (session=\"f1ac4986f7e2b0aaf7ff35f91238643f\", element=\"731c4553-ccbf-4bd4-964f-9b04e0ab3ad5\")>,\n",
       " <selenium.webdriver.remote.webelement.WebElement (session=\"f1ac4986f7e2b0aaf7ff35f91238643f\", element=\"3a67ae46-d436-40f6-babe-40b663051661\")>]"
      ]
     },
     "execution_count": 22,
     "metadata": {},
     "output_type": "execute_result"
    }
   ],
   "source": [
    "loc_tag=driver.find_elements_by_xpath(\"//li[@class='fleft grey-text br2 placeHolderLi location']\")\n",
    "loc_tag[0:10]"
   ]
  },
  {
   "cell_type": "code",
   "execution_count": 23,
   "id": "ed9593d8",
   "metadata": {},
   "outputs": [],
   "source": [
    "for i in loc_tag:\n",
    "    loc=i.text\n",
    "    job_location.append(loc)\n",
    "job_location=job_location[0:10]"
   ]
  },
  {
   "cell_type": "code",
   "execution_count": 24,
   "id": "7360dd42",
   "metadata": {},
   "outputs": [
    {
     "data": {
      "text/plain": [
       "['Gurgaon/Gurugram',\n",
       " 'Noida, Greater Noida, Delhi / NCR',\n",
       " 'Gurgaon/Gurugram',\n",
       " 'Hyderabad/Secunderabad, Ahmedabad, Chennai, Bangalore/Bengaluru, Delhi / NCR, Mumbai (All Areas)',\n",
       " 'New Delhi, Delhi',\n",
       " 'Gurgaon, Bengaluru',\n",
       " 'New Delhi',\n",
       " 'Delhi',\n",
       " 'Gurgaon/Gurugram',\n",
       " 'Noida, Kota, Mumbai, Chandigarh, Lucknow, Agra, Gurgaon/Gurugram, Jaipur, Bangalore/Bengaluru']"
      ]
     },
     "execution_count": 24,
     "metadata": {},
     "output_type": "execute_result"
    }
   ],
   "source": [
    "job_location"
   ]
  },
  {
   "cell_type": "code",
   "execution_count": 25,
   "id": "59ac9c4b",
   "metadata": {},
   "outputs": [
    {
     "data": {
      "text/plain": [
       "[<selenium.webdriver.remote.webelement.WebElement (session=\"f1ac4986f7e2b0aaf7ff35f91238643f\", element=\"117516ab-df68-42af-8268-2612954248a4\")>,\n",
       " <selenium.webdriver.remote.webelement.WebElement (session=\"f1ac4986f7e2b0aaf7ff35f91238643f\", element=\"cd7dc747-a01a-4d20-b404-ccbe7ac14d05\")>,\n",
       " <selenium.webdriver.remote.webelement.WebElement (session=\"f1ac4986f7e2b0aaf7ff35f91238643f\", element=\"8a822276-acca-4d0e-9453-1e668603c663\")>,\n",
       " <selenium.webdriver.remote.webelement.WebElement (session=\"f1ac4986f7e2b0aaf7ff35f91238643f\", element=\"87d3db6d-5c28-410d-b72c-b114f41e47d6\")>,\n",
       " <selenium.webdriver.remote.webelement.WebElement (session=\"f1ac4986f7e2b0aaf7ff35f91238643f\", element=\"3d06609d-cdbd-4a40-859d-2efb4c9f3748\")>,\n",
       " <selenium.webdriver.remote.webelement.WebElement (session=\"f1ac4986f7e2b0aaf7ff35f91238643f\", element=\"9d4ae891-2742-43f2-a153-9e0e43bb2046\")>,\n",
       " <selenium.webdriver.remote.webelement.WebElement (session=\"f1ac4986f7e2b0aaf7ff35f91238643f\", element=\"5a0c0c0c-cfdc-4b1d-bc70-0a14b55af444\")>,\n",
       " <selenium.webdriver.remote.webelement.WebElement (session=\"f1ac4986f7e2b0aaf7ff35f91238643f\", element=\"7061c40c-c13b-452b-84e4-03a0a24a41a6\")>,\n",
       " <selenium.webdriver.remote.webelement.WebElement (session=\"f1ac4986f7e2b0aaf7ff35f91238643f\", element=\"abdb2c6e-d4a1-4fb4-b232-aa24eceb2fce\")>,\n",
       " <selenium.webdriver.remote.webelement.WebElement (session=\"f1ac4986f7e2b0aaf7ff35f91238643f\", element=\"7bc76f73-a937-41c4-b7e2-5ff780416dea\")>]"
      ]
     },
     "execution_count": 25,
     "metadata": {},
     "output_type": "execute_result"
    }
   ],
   "source": [
    "company_tag=driver.find_elements_by_xpath(\"//a[@class='subTitle ellipsis fleft']\")\n",
    "company_tag[0:10]"
   ]
  },
  {
   "cell_type": "code",
   "execution_count": 26,
   "id": "af8d0fa9",
   "metadata": {},
   "outputs": [],
   "source": [
    "for i in company_tag:\n",
    "    company=i.text\n",
    "    company_name.append(company)\n",
    "company_name=company_name[0:10]"
   ]
  },
  {
   "cell_type": "code",
   "execution_count": 27,
   "id": "79fa2013",
   "metadata": {},
   "outputs": [
    {
     "data": {
      "text/plain": [
       "['Optum',\n",
       " 'Lumiq.ai',\n",
       " 'Care Health Insurance',\n",
       " 'Creative Hands HR Consultancy',\n",
       " '2Coms',\n",
       " 'BlackBuck',\n",
       " 'Boston Consulting Group',\n",
       " 'iNICU',\n",
       " 'KIA INDIA PRIVATE LIMITED',\n",
       " 'AVE-Promagne']"
      ]
     },
     "execution_count": 27,
     "metadata": {},
     "output_type": "execute_result"
    }
   ],
   "source": [
    "company_name"
   ]
  },
  {
   "cell_type": "code",
   "execution_count": 28,
   "id": "4d8d9945",
   "metadata": {},
   "outputs": [
    {
     "data": {
      "text/plain": [
       "[<selenium.webdriver.remote.webelement.WebElement (session=\"f1ac4986f7e2b0aaf7ff35f91238643f\", element=\"bf7bda18-0179-4d72-9ba4-bffb723c6915\")>,\n",
       " <selenium.webdriver.remote.webelement.WebElement (session=\"f1ac4986f7e2b0aaf7ff35f91238643f\", element=\"c1a2c131-3df6-4af5-9c5c-dc4367dbaff9\")>,\n",
       " <selenium.webdriver.remote.webelement.WebElement (session=\"f1ac4986f7e2b0aaf7ff35f91238643f\", element=\"878607aa-e9c9-463d-b44e-b8482408d128\")>,\n",
       " <selenium.webdriver.remote.webelement.WebElement (session=\"f1ac4986f7e2b0aaf7ff35f91238643f\", element=\"4e2fbcf0-b95a-40cb-903c-d97210a1effd\")>,\n",
       " <selenium.webdriver.remote.webelement.WebElement (session=\"f1ac4986f7e2b0aaf7ff35f91238643f\", element=\"ea5ce86b-6380-4f18-b956-c4af59100692\")>,\n",
       " <selenium.webdriver.remote.webelement.WebElement (session=\"f1ac4986f7e2b0aaf7ff35f91238643f\", element=\"ce7dbd90-b6f2-498a-bb6c-144ad5244236\")>,\n",
       " <selenium.webdriver.remote.webelement.WebElement (session=\"f1ac4986f7e2b0aaf7ff35f91238643f\", element=\"9346d38c-0974-4cf0-803e-49b55059dfda\")>,\n",
       " <selenium.webdriver.remote.webelement.WebElement (session=\"f1ac4986f7e2b0aaf7ff35f91238643f\", element=\"11a76081-a882-4367-a12a-da4610594628\")>,\n",
       " <selenium.webdriver.remote.webelement.WebElement (session=\"f1ac4986f7e2b0aaf7ff35f91238643f\", element=\"d985f6a1-99cf-4382-8002-3e66508d0658\")>,\n",
       " <selenium.webdriver.remote.webelement.WebElement (session=\"f1ac4986f7e2b0aaf7ff35f91238643f\", element=\"5a737bcb-5ea5-4eba-837d-15db9ad00843\")>]"
      ]
     },
     "execution_count": 28,
     "metadata": {},
     "output_type": "execute_result"
    }
   ],
   "source": [
    "experience=driver.find_elements_by_xpath(\"//li[@class='fleft grey-text br2 placeHolderLi experience']\")\n",
    "experience[0:10]"
   ]
  },
  {
   "cell_type": "code",
   "execution_count": 29,
   "id": "a55abe99",
   "metadata": {},
   "outputs": [],
   "source": [
    "for i in experience:\n",
    "    experience=i.text\n",
    "    experiences.append(experience)\n",
    "experiences=experiences[0:10]"
   ]
  },
  {
   "cell_type": "code",
   "execution_count": 30,
   "id": "9b3ef187",
   "metadata": {},
   "outputs": [
    {
     "data": {
      "text/plain": [
       "['1-5 Yrs',\n",
       " '2-6 Yrs',\n",
       " '1-5 Yrs',\n",
       " '0-4 Yrs',\n",
       " '2-7 Yrs',\n",
       " '3-7 Yrs',\n",
       " '2-5 Yrs',\n",
       " '1-5 Yrs',\n",
       " '7-10 Yrs',\n",
       " '3-8 Yrs']"
      ]
     },
     "execution_count": 30,
     "metadata": {},
     "output_type": "execute_result"
    }
   ],
   "source": [
    "experiences"
   ]
  },
  {
   "cell_type": "code",
   "execution_count": 31,
   "id": "6cc0e6da",
   "metadata": {},
   "outputs": [
    {
     "data": {
      "text/html": [
       "<div>\n",
       "<style scoped>\n",
       "    .dataframe tbody tr th:only-of-type {\n",
       "        vertical-align: middle;\n",
       "    }\n",
       "\n",
       "    .dataframe tbody tr th {\n",
       "        vertical-align: top;\n",
       "    }\n",
       "\n",
       "    .dataframe thead th {\n",
       "        text-align: right;\n",
       "    }\n",
       "</style>\n",
       "<table border=\"1\" class=\"dataframe\">\n",
       "  <thead>\n",
       "    <tr style=\"text-align: right;\">\n",
       "      <th></th>\n",
       "      <th>JobTitle</th>\n",
       "      <th>Location</th>\n",
       "      <th>Company</th>\n",
       "      <th>Experience</th>\n",
       "    </tr>\n",
       "  </thead>\n",
       "  <tbody>\n",
       "    <tr>\n",
       "      <th>0</th>\n",
       "      <td>Associate Data Scientist</td>\n",
       "      <td>Gurgaon/Gurugram</td>\n",
       "      <td>Optum</td>\n",
       "      <td>1-5 Yrs</td>\n",
       "    </tr>\n",
       "    <tr>\n",
       "      <th>1</th>\n",
       "      <td>Hiring For Senior Data Scientist-Noida</td>\n",
       "      <td>Noida, Greater Noida, Delhi / NCR</td>\n",
       "      <td>Lumiq.ai</td>\n",
       "      <td>2-6 Yrs</td>\n",
       "    </tr>\n",
       "    <tr>\n",
       "      <th>2</th>\n",
       "      <td>Opening For Data Scientist</td>\n",
       "      <td>Gurgaon/Gurugram</td>\n",
       "      <td>Care Health Insurance</td>\n",
       "      <td>1-5 Yrs</td>\n",
       "    </tr>\n",
       "    <tr>\n",
       "      <th>3</th>\n",
       "      <td>Data Scientist/ Machine Learning, 2022 Passout...</td>\n",
       "      <td>Hyderabad/Secunderabad, Ahmedabad, Chennai, Ba...</td>\n",
       "      <td>Creative Hands HR Consultancy</td>\n",
       "      <td>0-4 Yrs</td>\n",
       "    </tr>\n",
       "    <tr>\n",
       "      <th>4</th>\n",
       "      <td>Data Scientist (freelance)</td>\n",
       "      <td>New Delhi, Delhi</td>\n",
       "      <td>2Coms</td>\n",
       "      <td>2-7 Yrs</td>\n",
       "    </tr>\n",
       "    <tr>\n",
       "      <th>5</th>\n",
       "      <td>Data Scientist</td>\n",
       "      <td>Gurgaon, Bengaluru</td>\n",
       "      <td>BlackBuck</td>\n",
       "      <td>3-7 Yrs</td>\n",
       "    </tr>\n",
       "    <tr>\n",
       "      <th>6</th>\n",
       "      <td>Data Scientist</td>\n",
       "      <td>New Delhi</td>\n",
       "      <td>Boston Consulting Group</td>\n",
       "      <td>2-5 Yrs</td>\n",
       "    </tr>\n",
       "    <tr>\n",
       "      <th>7</th>\n",
       "      <td>Senior Data Scientist</td>\n",
       "      <td>Delhi</td>\n",
       "      <td>iNICU</td>\n",
       "      <td>1-5 Yrs</td>\n",
       "    </tr>\n",
       "    <tr>\n",
       "      <th>8</th>\n",
       "      <td>Lead Data Scientist</td>\n",
       "      <td>Gurgaon/Gurugram</td>\n",
       "      <td>KIA INDIA PRIVATE LIMITED</td>\n",
       "      <td>7-10 Yrs</td>\n",
       "    </tr>\n",
       "    <tr>\n",
       "      <th>9</th>\n",
       "      <td>Data Scientist - Python/SQL</td>\n",
       "      <td>Noida, Kota, Mumbai, Chandigarh, Lucknow, Agra...</td>\n",
       "      <td>AVE-Promagne</td>\n",
       "      <td>3-8 Yrs</td>\n",
       "    </tr>\n",
       "  </tbody>\n",
       "</table>\n",
       "</div>"
      ],
      "text/plain": [
       "                                            JobTitle  \\\n",
       "0                           Associate Data Scientist   \n",
       "1             Hiring For Senior Data Scientist-Noida   \n",
       "2                         Opening For Data Scientist   \n",
       "3  Data Scientist/ Machine Learning, 2022 Passout...   \n",
       "4                         Data Scientist (freelance)   \n",
       "5                                     Data Scientist   \n",
       "6                                     Data Scientist   \n",
       "7                              Senior Data Scientist   \n",
       "8                                Lead Data Scientist   \n",
       "9                        Data Scientist - Python/SQL   \n",
       "\n",
       "                                            Location  \\\n",
       "0                                   Gurgaon/Gurugram   \n",
       "1                  Noida, Greater Noida, Delhi / NCR   \n",
       "2                                   Gurgaon/Gurugram   \n",
       "3  Hyderabad/Secunderabad, Ahmedabad, Chennai, Ba...   \n",
       "4                                   New Delhi, Delhi   \n",
       "5                                 Gurgaon, Bengaluru   \n",
       "6                                          New Delhi   \n",
       "7                                              Delhi   \n",
       "8                                   Gurgaon/Gurugram   \n",
       "9  Noida, Kota, Mumbai, Chandigarh, Lucknow, Agra...   \n",
       "\n",
       "                         Company Experience  \n",
       "0                          Optum    1-5 Yrs  \n",
       "1                       Lumiq.ai    2-6 Yrs  \n",
       "2          Care Health Insurance    1-5 Yrs  \n",
       "3  Creative Hands HR Consultancy    0-4 Yrs  \n",
       "4                          2Coms    2-7 Yrs  \n",
       "5                      BlackBuck    3-7 Yrs  \n",
       "6        Boston Consulting Group    2-5 Yrs  \n",
       "7                          iNICU    1-5 Yrs  \n",
       "8      KIA INDIA PRIVATE LIMITED   7-10 Yrs  \n",
       "9                   AVE-Promagne    3-8 Yrs  "
      ]
     },
     "execution_count": 31,
     "metadata": {},
     "output_type": "execute_result"
    }
   ],
   "source": [
    "df=pd.DataFrame({'JobTitle':job_title,'Location':job_location,'Company':company_name,'Experience':experiences})\n",
    "df"
   ]
  },
  {
   "cell_type": "code",
   "execution_count": 11,
   "id": "19b6d263",
   "metadata": {},
   "outputs": [],
   "source": [
    "driver.get('https://www.flipkart.com/')"
   ]
  },
  {
   "cell_type": "code",
   "execution_count": 12,
   "id": "c2c71b05",
   "metadata": {},
   "outputs": [],
   "source": [
    "search_field_designation=driver.find_element_by_xpath(\"/html/body/div[1]/div/div[1]/div[1]/div[2]/div[2]/form/div/div/input\")\n",
    "search_field_designation.send_keys(\"Sunglasses\")"
   ]
  },
  {
   "cell_type": "code",
   "execution_count": 14,
   "id": "ebd98504",
   "metadata": {},
   "outputs": [],
   "source": [
    "search_button=driver.find_element_by_xpath(\"/html/body/div[1]/div/div[1]/div[1]/div[2]/div[2]/form/div/button\")\n",
    "search_button.click()"
   ]
  },
  {
   "cell_type": "code",
   "execution_count": 30,
   "id": "a16adfde",
   "metadata": {},
   "outputs": [],
   "source": [
    "brand=[]\n",
    "for i in range(0,3):\n",
    "    b_tags=driver.find_elements_by_xpath(\"//div[@class='_2WkVRV']\")\n",
    "    for i in b_tags:\n",
    "        br=i.text\n",
    "        brand.append(br)\n",
    "    next_button=driver.find_element_by_xpath(\"/html/body/div[1]/div/div[3]/div[1]/div[2]/div[12]/div/div/nav/a[11]\")\n",
    "    next_button.click()\n",
    "    time.sleep(5)"
   ]
  },
  {
   "cell_type": "code",
   "execution_count": 31,
   "id": "4ba3b045",
   "metadata": {},
   "outputs": [
    {
     "data": {
      "text/plain": [
       "['AISLIN',\n",
       " 'Poloport',\n",
       " 'Elligator',\n",
       " 'BAJERO',\n",
       " 'AISLIN',\n",
       " 'SUNBEE',\n",
       " 'Ray-Ban',\n",
       " 'CRYSTAL CART',\n",
       " 'ROYAL SON',\n",
       " 'ROYAL SON',\n",
       " 'Ray-Ban',\n",
       " 'Ray-Ban',\n",
       " 'PIRASO',\n",
       " 'kingsunglasses',\n",
       " 'NuVew',\n",
       " 'BAJERO',\n",
       " 'john jacobs',\n",
       " 'Elligator',\n",
       " 'ROZZETTA CRAFT',\n",
       " 'CRYSTAL CART',\n",
       " 'AISLIN',\n",
       " 'NuVew',\n",
       " 'Ray-Ban',\n",
       " 'SKYZA INDIA',\n",
       " 'Ray-Ban',\n",
       " 'HAMIW COLLECTION',\n",
       " 'AISLIN',\n",
       " 'AISLIN',\n",
       " 'ROYAL SON',\n",
       " 'Ray-Ban',\n",
       " 'GANSTA',\n",
       " 'CART2DEAL',\n",
       " 'Ray-Ban',\n",
       " 'AISLIN',\n",
       " 'Ray-Ban',\n",
       " 'ROYAL SON',\n",
       " 'Ray-Ban',\n",
       " 'ROYAL SON',\n",
       " 'Ray-Ban',\n",
       " 'VINCENT CHASE',\n",
       " 'PETER JONES',\n",
       " 'Fastrack',\n",
       " 'dynafast',\n",
       " 'ROYAL SON',\n",
       " 'Ray-Ban',\n",
       " 'AISLIN',\n",
       " 'ROYAL SON',\n",
       " 'LOUIS KOUROS',\n",
       " 'VINCENT CHASE',\n",
       " 'NuVew',\n",
       " 'AISLIN',\n",
       " 'LOUIS KOUROS',\n",
       " 'Fastrack',\n",
       " 'ROYAL SON',\n",
       " 'AISLIN',\n",
       " 'ROYAL SON',\n",
       " 'AISLIN',\n",
       " 'Rich Club',\n",
       " 'ROYAL SON',\n",
       " 'AISLIN',\n",
       " 'EMDEE COLLECTION',\n",
       " 'HN Enterprises',\n",
       " 'Billion',\n",
       " 'AISLIN',\n",
       " 'PETER JONES',\n",
       " 'Elgator',\n",
       " 'UNIQUE FACTORY',\n",
       " 'AISLIN',\n",
       " 'Ar creation',\n",
       " 'AISLIN',\n",
       " 'CART2DEAL',\n",
       " 'AISLIN',\n",
       " 'SRPM',\n",
       " 'hipe',\n",
       " 'NuVew',\n",
       " 'AISLIN',\n",
       " 'Doctist',\n",
       " 'EYEXACK',\n",
       " 'AISLIN',\n",
       " 'NuVew',\n",
       " 'Ray-Ban',\n",
       " 'AISLIN',\n",
       " 'AISLIN',\n",
       " 'CRYSTAL CART',\n",
       " 'chawla fashion',\n",
       " 'bulgaria',\n",
       " 'GANSTA',\n",
       " 'AISLIN',\n",
       " 'RBGIIT',\n",
       " 'Freddy',\n",
       " 'Ray-Ban',\n",
       " 'NuVew',\n",
       " 'Ray-Ban',\n",
       " 'AISLIN',\n",
       " 'Ray-Ban',\n",
       " 'AISLIN',\n",
       " 'AISLIN',\n",
       " 'PETER JONES',\n",
       " 'MODE',\n",
       " 'AISLIN',\n",
       " 'AISLIN',\n",
       " 'DEIXELS',\n",
       " 'Ray-Ban',\n",
       " 'NuVew',\n",
       " 'Bio-th',\n",
       " 'Ray-Ban',\n",
       " 'AISLIN',\n",
       " 'ROYAL SON',\n",
       " 'bulgaria',\n",
       " 'ROYAL SON',\n",
       " 'AISLIN',\n",
       " 'EYEWEARLABS',\n",
       " 'Lee Topper',\n",
       " 'chawla fashion',\n",
       " 'United Colors of Benetton',\n",
       " 'NuVew',\n",
       " 'NuVew',\n",
       " 'AISLIN',\n",
       " 'MODE',\n",
       " 'GANSTA']"
      ]
     },
     "execution_count": 31,
     "metadata": {},
     "output_type": "execute_result"
    }
   ],
   "source": [
    "brand"
   ]
  },
  {
   "cell_type": "code",
   "execution_count": 32,
   "id": "a5f0cce0",
   "metadata": {},
   "outputs": [
    {
     "data": {
      "text/plain": [
       "120"
      ]
     },
     "execution_count": 32,
     "metadata": {},
     "output_type": "execute_result"
    }
   ],
   "source": [
    "len(brand)"
   ]
  },
  {
   "cell_type": "code",
   "execution_count": 20,
   "id": "b7452f87",
   "metadata": {},
   "outputs": [],
   "source": [
    "description=[]\n",
    "for i in range(0,3):\n",
    "    d_tags=driver.find_elements_by_xpath(\"//a[@class='IRpwTa']\")\n",
    "    for i in d_tags:\n",
    "        de=i.text\n",
    "        description.append(de)\n",
    "    next_button=driver.find_element_by_xpath(\"/html/body/div[1]/div/div[3]/div[1]/div[2]/div[12]/div/div/nav/a[11]\")\n",
    "    next_button.click()\n",
    "    time.sleep(5)"
   ]
  },
  {
   "cell_type": "code",
   "execution_count": 19,
   "id": "65ef816b",
   "metadata": {},
   "outputs": [
    {
     "data": {
      "text/plain": [
       "['UV Protection Wayfarer Sunglasses (Free Size)',\n",
       " 'UV Protection Aviator Sunglasses (62)',\n",
       " 'Polarized, Riding Glasses, Night Vision Sports, Wrap-ar...',\n",
       " 'UV Protection, Riding Glasses, Others Aviator, Wayfarer...',\n",
       " 'UV Protection Over-sized Sunglasses (65)',\n",
       " 'by Lenskart Polarized, UV Protection Wayfarer Sunglasse...',\n",
       " 'Gradient, UV Protection Wayfarer Sunglasses (Free Size)',\n",
       " 'UV Protection, Polarized, Riding Glasses Retro Square S...',\n",
       " 'UV Protection Wayfarer Sunglasses (Free Size)',\n",
       " 'UV Protection Round Sunglasses (54)',\n",
       " 'UV Protection Wayfarer Sunglasses (52)',\n",
       " 'UV Protection, Gradient Rectangular Sunglasses (Free Si...',\n",
       " 'UV Protection Aviator Sunglasses (58)',\n",
       " 'Mirrored, UV Protection Wayfarer Sunglasses (Free Size)',\n",
       " 'UV Protection Retro Square Sunglasses (53)',\n",
       " 'Riding Glasses, UV Protection, Mirrored Retro Square Su...',\n",
       " 'UV Protection Wayfarer Sunglasses (53)',\n",
       " 'UV Protection Rectangular Sunglasses (52)',\n",
       " 'UV Protection Retro Square Sunglasses (Free Size)',\n",
       " 'Polarized Wayfarer Sunglasses (Free Size)',\n",
       " 'UV Protection Retro Square Sunglasses (Free Size)',\n",
       " 'Polarized Wayfarer Sunglasses (Free Size)',\n",
       " 'Mirrored, Gradient, Riding Glasses Round Sunglasses (55...',\n",
       " 'UV Protection Spectacle Sunglasses (Free Size)',\n",
       " 'UV Protection Aviator Sunglasses (57)',\n",
       " 'Mirrored, UV Protection Wayfarer Sunglasses (Free Size)',\n",
       " 'UV Protection Aviator Sunglasses (55)',\n",
       " 'Mirrored Aviator Sunglasses (63)',\n",
       " 'UV Protection Wayfarer Sunglasses (Free Size)',\n",
       " 'UV Protection Wayfarer Sunglasses (55)',\n",
       " 'UV Protection, Gradient Butterfly, Retro Square Sunglas...',\n",
       " 'Mirrored Aviator Sunglasses (63)',\n",
       " 'Riding Glasses, UV Protection, Others Aviator Sunglasse...',\n",
       " 'UV Protection Aviator Sunglasses (Free Size)',\n",
       " 'Mirrored Aviator Sunglasses (32)',\n",
       " 'Mirrored, UV Protection Aviator Sunglasses (58)',\n",
       " 'UV Protection, Gradient Round Sunglasses (Free Size)',\n",
       " 'UV Protection, Night Vision, Riding Glasses, Gradient, ...',\n",
       " 'UV Protection, Mirrored Sports Sunglasses (Free Size)',\n",
       " 'Others Aviator Sunglasses (63)',\n",
       " 'UV Protection, Mirrored Sports Sunglasses (Free Size)',\n",
       " 'UV Protection Aviator Sunglasses (58)',\n",
       " 'UV Protection, Night Vision, Riding Glasses, Gradient, ...',\n",
       " 'UV Protection, Gradient Rectangular Sunglasses (Free Si...',\n",
       " 'UV Protection, Mirrored Sports Sunglasses (62)',\n",
       " 'UV Protection, Riding Glasses Wayfarer Sunglasses (53)',\n",
       " 'by Lenskart Polarized, UV Protection Cat-eye Sunglasses...',\n",
       " 'UV Protection, Gradient Rectangular Sunglasses (Free Si...',\n",
       " 'UV Protection Rectangular Sunglasses (55)',\n",
       " 'UV Protection Round Sunglasses (Free Size)',\n",
       " 'UV Protection Aviator Sunglasses (Free Size)',\n",
       " 'UV Protection, Gradient Rectangular Sunglasses (Free Si...',\n",
       " 'UV Protection Shield Sunglasses (Free Size)',\n",
       " 'by Lenskart Polarized, UV Protection Rectangular Sungla...',\n",
       " 'UV Protection Rectangular Sunglasses (Free Size)',\n",
       " 'UV Protection, Riding Glasses, Mirrored Aviator Sunglas...',\n",
       " 'Toughened Glass Lens, UV Protection Wayfarer, Rectangul...',\n",
       " 'UV Protection Round Sunglasses (53)',\n",
       " 'UV Protection Wrap-around Sunglasses (63)',\n",
       " 'Mirrored, Riding Glasses, UV Protection Sports Sunglass...',\n",
       " 'Mirrored Wayfarer Sunglasses (55)',\n",
       " 'UV Protection Aviator Sunglasses (57)',\n",
       " 'UV Protection Oval Sunglasses (Free Size)',\n",
       " 'by Lenskart UV Protection Round Sunglasses (48)',\n",
       " 'UV Protection Round Sunglasses (Free Size)',\n",
       " 'UV Protection, Polarized, Mirrored Rectangular Sunglass...',\n",
       " 'UV Protection Rectangular Sunglasses (55)',\n",
       " 'Mirrored, UV Protection, Riding Glasses Aviator Sunglas...',\n",
       " 'UV Protection, Gradient Rectangular Sunglasses (Free Si...',\n",
       " 'Polarized Retro Square Sunglasses (Free Size)',\n",
       " 'UV Protection Round Sunglasses (Free Size)',\n",
       " 'UV Protection Aviator Sunglasses (60)',\n",
       " 'Polarized Aviator Sunglasses (Free Size)',\n",
       " 'UV Protection Oval Sunglasses (57)',\n",
       " 'UV Protection Wayfarer Sunglasses (Free Size)',\n",
       " 'by Lenskart UV Protection Rectangular Sunglasses (54)',\n",
       " 'UV Protection, Polarized, Mirrored Round Sunglasses (Fr...',\n",
       " 'UV Protection, Mirrored Round Sunglasses (Free Size)',\n",
       " 'Polarized Wayfarer Sunglasses (Free Size)',\n",
       " 'UV Protection Over-sized Sunglasses (57)',\n",
       " 'UV Protection, Polarized, Mirrored Round Sunglasses (Fr...',\n",
       " 'Polarized Wayfarer Sunglasses (Free Size)',\n",
       " 'UV Protection, Mirrored Round Sunglasses (Free Size)',\n",
       " 'Riding Glasses, UV Protection, Mirrored Retro Square Su...',\n",
       " 'Mirrored, UV Protection Round Sunglasses (57)',\n",
       " 'Riding Glasses, Night Vision Wrap-around Sunglasses (Fr...',\n",
       " 'Gradient, Toughened Glass Lens, UV Protection Retro Squ...',\n",
       " 'UV Protection Rectangular Sunglasses (52)',\n",
       " 'Mirrored, UV Protection Wayfarer Sunglasses (Free Size)',\n",
       " 'UV Protection, Gradient Wayfarer Sunglasses (55)',\n",
       " 'UV Protection Aviator Sunglasses (Free Size)',\n",
       " 'UV Protection Aviator Sunglasses (60)',\n",
       " 'UV Protection Aviator Sunglasses (55)',\n",
       " 'UV Protection Sports Sunglasses (62)',\n",
       " 'UV Protection Wayfarer Sunglasses (Free Size)',\n",
       " 'Polarized, UV Protection Wrap-around Sunglasses (62)',\n",
       " 'UV Protection, Mirrored, Gradient Round Sunglasses (51)',\n",
       " 'UV Protection, Mirrored Sports Sunglasses (62)',\n",
       " 'UV Protection Round Sunglasses (Free Size)',\n",
       " 'Polarized, UV Protection Sports Sunglasses (68)',\n",
       " 'UV Protection Round Sunglasses (55)',\n",
       " 'Gradient, UV Protection Wayfarer Sunglasses (Free Size)',\n",
       " 'UV Protection, Polarized Round Sunglasses (50)',\n",
       " 'Polarized, Riding Glasses Sports, Wrap-around Sunglasse...',\n",
       " 'Mirrored Aviator Sunglasses (55)',\n",
       " 'UV Protection, Riding Glasses Retro Square, Spectacle ...',\n",
       " 'UV Protection Round Sunglasses (47)',\n",
       " 'Polarized, Riding Glasses Sports, Wrap-around Sunglasse...',\n",
       " 'UV Protection Wayfarer Sunglasses (Free Size)',\n",
       " 'UV Protection, Gradient Retro Square Sunglasses (Free S...',\n",
       " 'UV Protection Aviator Sunglasses (Free Size)',\n",
       " 'UV Protection Cat-eye Sunglasses (60)',\n",
       " 'UV Protection, Others Round, Aviator Sunglasses (54)',\n",
       " 'UV Protection, Riding Glasses, Others Aviator, Wayfarer...',\n",
       " 'UV Protection, Mirrored Wayfarer Sunglasses (Free Size)',\n",
       " 'Gradient, UV Protection Round Sunglasses (Free Size)',\n",
       " 'UV Protection Sports Sunglasses (Free Size)',\n",
       " 'Others Wayfarer, Retro Square Sunglasses (50)',\n",
       " 'UV Protection Rectangular Sunglasses (52)']"
      ]
     },
     "execution_count": 19,
     "metadata": {},
     "output_type": "execute_result"
    }
   ],
   "source": [
    "description"
   ]
  },
  {
   "cell_type": "code",
   "execution_count": 21,
   "id": "90978a72",
   "metadata": {},
   "outputs": [
    {
     "data": {
      "text/plain": [
       "120"
      ]
     },
     "execution_count": 21,
     "metadata": {},
     "output_type": "execute_result"
    }
   ],
   "source": [
    "len(description)"
   ]
  },
  {
   "cell_type": "code",
   "execution_count": 23,
   "id": "43d0c0ee",
   "metadata": {},
   "outputs": [],
   "source": [
    "prices=[]\n",
    "for i in range(0,3):\n",
    "    pr_tags=driver.find_elements_by_xpath(\"//div[@class='_30jeq3']\")\n",
    "    for i in pr_tags:\n",
    "        price=i.text\n",
    "        prices.append(price)\n",
    "    next_button=driver.find_element_by_xpath(\"/html/body/div[1]/div/div[3]/div[1]/div[2]/div[12]/div/div/nav/a[11]\")\n",
    "    next_button.click()\n",
    "    time.sleep(5)"
   ]
  },
  {
   "cell_type": "code",
   "execution_count": 24,
   "id": "38122efb",
   "metadata": {},
   "outputs": [
    {
     "data": {
      "text/plain": [
       "['₹429',\n",
       " '₹339',\n",
       " '₹649',\n",
       " '₹599',\n",
       " '₹295',\n",
       " '₹236',\n",
       " '₹299',\n",
       " '₹1,598',\n",
       " '₹225',\n",
       " '₹649',\n",
       " '₹283',\n",
       " '₹649',\n",
       " '₹474',\n",
       " '₹719',\n",
       " '₹599',\n",
       " '₹1,234',\n",
       " '₹1,099',\n",
       " '₹195',\n",
       " '₹229',\n",
       " '₹249',\n",
       " '₹333',\n",
       " '₹224',\n",
       " '₹299',\n",
       " '₹540',\n",
       " '₹229',\n",
       " '₹259',\n",
       " '₹224',\n",
       " '₹1,025',\n",
       " '₹170',\n",
       " '₹599',\n",
       " '₹599',\n",
       " '₹498',\n",
       " '₹699',\n",
       " '₹265',\n",
       " '₹315',\n",
       " '₹375',\n",
       " '₹219',\n",
       " '₹280',\n",
       " '₹450',\n",
       " '₹229',\n",
       " '₹209',\n",
       " '₹410',\n",
       " '₹299',\n",
       " '₹219',\n",
       " '₹639',\n",
       " '₹170',\n",
       " '₹749',\n",
       " '₹630',\n",
       " '₹599',\n",
       " '₹649',\n",
       " '₹616',\n",
       " '₹249',\n",
       " '₹999',\n",
       " '₹699',\n",
       " '₹288',\n",
       " '₹4,489',\n",
       " '₹849',\n",
       " '₹221',\n",
       " '₹209',\n",
       " '₹3,289',\n",
       " '₹450',\n",
       " '₹759',\n",
       " '₹499',\n",
       " '₹3,349',\n",
       " '₹599',\n",
       " '₹214',\n",
       " '₹264',\n",
       " '₹5,389',\n",
       " '₹189',\n",
       " '₹498',\n",
       " '₹245',\n",
       " '₹7,619',\n",
       " '₹379',\n",
       " '₹349',\n",
       " '₹214',\n",
       " '₹6,709',\n",
       " '₹699',\n",
       " '₹171',\n",
       " '₹249',\n",
       " '₹649',\n",
       " '₹189',\n",
       " '₹4,609',\n",
       " '₹745',\n",
       " '₹5,029',\n",
       " '₹649',\n",
       " '₹395',\n",
       " '₹664',\n",
       " '₹9,439',\n",
       " '₹498',\n",
       " '₹798',\n",
       " '₹2,697',\n",
       " '₹6,569',\n",
       " '₹6,709',\n",
       " '₹284',\n",
       " '₹403',\n",
       " '₹3,909',\n",
       " '₹219',\n",
       " '₹616',\n",
       " '₹498',\n",
       " '₹6,219',\n",
       " '₹721',\n",
       " '₹276',\n",
       " '₹175',\n",
       " '₹649',\n",
       " '₹349',\n",
       " '₹289',\n",
       " '₹699',\n",
       " '₹1,492',\n",
       " '₹245',\n",
       " '₹478',\n",
       " '₹845',\n",
       " '₹474',\n",
       " '₹224',\n",
       " '₹585',\n",
       " '₹1,599',\n",
       " '₹195',\n",
       " '₹6,149',\n",
       " '₹224',\n",
       " '₹1,099',\n",
       " '₹759']"
      ]
     },
     "execution_count": 24,
     "metadata": {},
     "output_type": "execute_result"
    }
   ],
   "source": [
    "prices"
   ]
  },
  {
   "cell_type": "code",
   "execution_count": 25,
   "id": "70a4d326",
   "metadata": {},
   "outputs": [
    {
     "data": {
      "text/plain": [
       "120"
      ]
     },
     "execution_count": 25,
     "metadata": {},
     "output_type": "execute_result"
    }
   ],
   "source": [
    "len(prices)"
   ]
  },
  {
   "cell_type": "code",
   "execution_count": 26,
   "id": "4becc6e3",
   "metadata": {},
   "outputs": [],
   "source": [
    "offers=[]\n",
    "for i in range(0,3):\n",
    "    off_tags=driver.find_elements_by_xpath(\"//div[@class='_3Ay6Sb']\")\n",
    "    for i in off_tags:\n",
    "        offer=i.text\n",
    "        offers.append(offer)\n",
    "    next_button=driver.find_element_by_xpath(\"/html/body/div[1]/div/div[3]/div[1]/div[2]/div[12]/div/div/nav/a[11]\")\n",
    "    next_button.click()\n",
    "    time.sleep(5)"
   ]
  },
  {
   "cell_type": "code",
   "execution_count": 28,
   "id": "c62e894e",
   "metadata": {},
   "outputs": [
    {
     "data": {
      "text/plain": [
       "['36% off',\n",
       " '50% off',\n",
       " '27% off',\n",
       " '25% off',\n",
       " '88% off',\n",
       " '85% off',\n",
       " '88% off',\n",
       " '67% off',\n",
       " '85% off',\n",
       " '27% off',\n",
       " '78% off',\n",
       " '86% off',\n",
       " '76% off',\n",
       " '20% off',\n",
       " '25% off',\n",
       " '84% off',\n",
       " '15% off',\n",
       " '88% off',\n",
       " '82% off',\n",
       " '75% off',\n",
       " '83% off',\n",
       " '85% off',\n",
       " '85% off',\n",
       " '72% off',\n",
       " '80% off',\n",
       " '80% off',\n",
       " '85% off',\n",
       " '70% off',\n",
       " '87% off',\n",
       " '25% off',\n",
       " '25% off',\n",
       " '64% off',\n",
       " '41% off',\n",
       " '86% off',\n",
       " '68% off',\n",
       " '67% off',\n",
       " '78% off',\n",
       " '89% off',\n",
       " '69% off',\n",
       " '67% off',\n",
       " '82% off',\n",
       " '84% off',\n",
       " '78% off',\n",
       " '63% off',\n",
       " '20% off',\n",
       " '86% off',\n",
       " '70% off',\n",
       " '78% off',\n",
       " '40% off',\n",
       " '27% off',\n",
       " '75% off',\n",
       " '40% off',\n",
       " '23% off',\n",
       " '22% off',\n",
       " '80% off',\n",
       " '87% off',\n",
       " '15% off',\n",
       " '77% off',\n",
       " '79% off',\n",
       " '78% off',\n",
       " '79% off',\n",
       " '15% off',\n",
       " '78% off',\n",
       " '40% off',\n",
       " '25% off',\n",
       " '78% off',\n",
       " '79% off',\n",
       " '40% off',\n",
       " '72% off',\n",
       " '67% off',\n",
       " '83% off',\n",
       " '30% off',\n",
       " '81% off',\n",
       " '78% off',\n",
       " '86% off',\n",
       " '30% off',\n",
       " '41% off',\n",
       " '82% off',\n",
       " '87% off',\n",
       " '67% off',\n",
       " '78% off',\n",
       " '30% off',\n",
       " '84% off',\n",
       " '30% off',\n",
       " '79% off',\n",
       " '67% off',\n",
       " '66% off',\n",
       " '30% off',\n",
       " '30% off',\n",
       " '82% off',\n",
       " '10% off',\n",
       " '30% off',\n",
       " '85% off',\n",
       " '72% off',\n",
       " '70% off',\n",
       " '30% off',\n",
       " '69% off',\n",
       " '63% off',\n",
       " '83% off',\n",
       " '67% off',\n",
       " '76% off',\n",
       " '86% off',\n",
       " '85% off',\n",
       " '30% off',\n",
       " '72% off',\n",
       " '72% off',\n",
       " '71% off',\n",
       " '76% off',\n",
       " '53% off',\n",
       " '83% off',\n",
       " '77% off',\n",
       " '67% off',\n",
       " '20% off',\n",
       " '77% off',\n",
       " '15% off',\n",
       " '62% off',\n",
       " '69% off',\n",
       " '30% off',\n",
       " '68% off',\n",
       " '40% off']"
      ]
     },
     "execution_count": 28,
     "metadata": {},
     "output_type": "execute_result"
    }
   ],
   "source": [
    "offers"
   ]
  },
  {
   "cell_type": "code",
   "execution_count": 29,
   "id": "411cd99f",
   "metadata": {},
   "outputs": [
    {
     "data": {
      "text/plain": [
       "120"
      ]
     },
     "execution_count": 29,
     "metadata": {},
     "output_type": "execute_result"
    }
   ],
   "source": [
    "len(offers)"
   ]
  },
  {
   "cell_type": "code",
   "execution_count": 33,
   "id": "14649d15",
   "metadata": {},
   "outputs": [],
   "source": [
    "brand=brand[0:100]\n",
    "offers=offers[0:100]\n",
    "prices=prices[0:100]\n",
    "description=description[0:100]"
   ]
  },
  {
   "cell_type": "code",
   "execution_count": 34,
   "id": "cd537c1b",
   "metadata": {},
   "outputs": [
    {
     "data": {
      "text/html": [
       "<div>\n",
       "<style scoped>\n",
       "    .dataframe tbody tr th:only-of-type {\n",
       "        vertical-align: middle;\n",
       "    }\n",
       "\n",
       "    .dataframe tbody tr th {\n",
       "        vertical-align: top;\n",
       "    }\n",
       "\n",
       "    .dataframe thead th {\n",
       "        text-align: right;\n",
       "    }\n",
       "</style>\n",
       "<table border=\"1\" class=\"dataframe\">\n",
       "  <thead>\n",
       "    <tr style=\"text-align: right;\">\n",
       "      <th></th>\n",
       "      <th>Brand</th>\n",
       "      <th>ProductDescription</th>\n",
       "      <th>Prices</th>\n",
       "      <th>Offers</th>\n",
       "    </tr>\n",
       "  </thead>\n",
       "  <tbody>\n",
       "    <tr>\n",
       "      <th>0</th>\n",
       "      <td>AISLIN</td>\n",
       "      <td>Mirrored, Night Vision Oval Sunglasses (Free S...</td>\n",
       "      <td>₹429</td>\n",
       "      <td>36% off</td>\n",
       "    </tr>\n",
       "    <tr>\n",
       "      <th>1</th>\n",
       "      <td>Poloport</td>\n",
       "      <td>Gradient, Toughened Glass Lens, UV Protection ...</td>\n",
       "      <td>₹339</td>\n",
       "      <td>50% off</td>\n",
       "    </tr>\n",
       "    <tr>\n",
       "      <th>2</th>\n",
       "      <td>Elligator</td>\n",
       "      <td>UV Protection Wayfarer Sunglasses (Free Size)</td>\n",
       "      <td>₹649</td>\n",
       "      <td>27% off</td>\n",
       "    </tr>\n",
       "    <tr>\n",
       "      <th>3</th>\n",
       "      <td>BAJERO</td>\n",
       "      <td>UV Protection Rectangular Sunglasses (Free Size)</td>\n",
       "      <td>₹599</td>\n",
       "      <td>25% off</td>\n",
       "    </tr>\n",
       "    <tr>\n",
       "      <th>4</th>\n",
       "      <td>AISLIN</td>\n",
       "      <td>UV Protection Round Sunglasses (54)</td>\n",
       "      <td>₹295</td>\n",
       "      <td>88% off</td>\n",
       "    </tr>\n",
       "    <tr>\n",
       "      <th>...</th>\n",
       "      <td>...</td>\n",
       "      <td>...</td>\n",
       "      <td>...</td>\n",
       "      <td>...</td>\n",
       "    </tr>\n",
       "    <tr>\n",
       "      <th>95</th>\n",
       "      <td>AISLIN</td>\n",
       "      <td>Mirrored Aviator Sunglasses (58)</td>\n",
       "      <td>₹3,909</td>\n",
       "      <td>30% off</td>\n",
       "    </tr>\n",
       "    <tr>\n",
       "      <th>96</th>\n",
       "      <td>AISLIN</td>\n",
       "      <td>Polarized, UV Protection Retro Square Sunglass...</td>\n",
       "      <td>₹219</td>\n",
       "      <td>69% off</td>\n",
       "    </tr>\n",
       "    <tr>\n",
       "      <th>97</th>\n",
       "      <td>PETER JONES</td>\n",
       "      <td>Polarized, UV Protection Wrap-around Sunglasse...</td>\n",
       "      <td>₹616</td>\n",
       "      <td>63% off</td>\n",
       "    </tr>\n",
       "    <tr>\n",
       "      <th>98</th>\n",
       "      <td>MODE</td>\n",
       "      <td>UV Protection, Night Vision, Riding Glasses Ov...</td>\n",
       "      <td>₹498</td>\n",
       "      <td>83% off</td>\n",
       "    </tr>\n",
       "    <tr>\n",
       "      <th>99</th>\n",
       "      <td>AISLIN</td>\n",
       "      <td>UV Protection Wayfarer Sunglasses (56)</td>\n",
       "      <td>₹6,219</td>\n",
       "      <td>67% off</td>\n",
       "    </tr>\n",
       "  </tbody>\n",
       "</table>\n",
       "<p>100 rows × 4 columns</p>\n",
       "</div>"
      ],
      "text/plain": [
       "          Brand                                 ProductDescription  Prices  \\\n",
       "0        AISLIN  Mirrored, Night Vision Oval Sunglasses (Free S...    ₹429   \n",
       "1      Poloport  Gradient, Toughened Glass Lens, UV Protection ...    ₹339   \n",
       "2     Elligator      UV Protection Wayfarer Sunglasses (Free Size)    ₹649   \n",
       "3        BAJERO   UV Protection Rectangular Sunglasses (Free Size)    ₹599   \n",
       "4        AISLIN                UV Protection Round Sunglasses (54)    ₹295   \n",
       "..          ...                                                ...     ...   \n",
       "95       AISLIN                   Mirrored Aviator Sunglasses (58)  ₹3,909   \n",
       "96       AISLIN  Polarized, UV Protection Retro Square Sunglass...    ₹219   \n",
       "97  PETER JONES  Polarized, UV Protection Wrap-around Sunglasse...    ₹616   \n",
       "98         MODE  UV Protection, Night Vision, Riding Glasses Ov...    ₹498   \n",
       "99       AISLIN             UV Protection Wayfarer Sunglasses (56)  ₹6,219   \n",
       "\n",
       "     Offers  \n",
       "0   36% off  \n",
       "1   50% off  \n",
       "2   27% off  \n",
       "3   25% off  \n",
       "4   88% off  \n",
       "..      ...  \n",
       "95  30% off  \n",
       "96  69% off  \n",
       "97  63% off  \n",
       "98  83% off  \n",
       "99  67% off  \n",
       "\n",
       "[100 rows x 4 columns]"
      ]
     },
     "execution_count": 34,
     "metadata": {},
     "output_type": "execute_result"
    }
   ],
   "source": [
    "df=pd.DataFrame({'Brand':brand,'ProductDescription':description,'Prices':prices,'Offers':offers})\n",
    "df"
   ]
  },
  {
   "cell_type": "code",
   "execution_count": 35,
   "id": "c378879f",
   "metadata": {},
   "outputs": [],
   "source": [
    "driver.close()"
   ]
  },
  {
   "cell_type": "code",
   "execution_count": 3,
   "id": "4d966406",
   "metadata": {},
   "outputs": [],
   "source": [
    "driver.get('https://www.ambitionbox.com/')"
   ]
  },
  {
   "cell_type": "code",
   "execution_count": 4,
   "id": "aa02bc61",
   "metadata": {},
   "outputs": [],
   "source": [
    "search_button=driver.find_element_by_xpath(\"/html/body/div[1]/nav/nav/a[6]\")\n",
    "search_button.click()"
   ]
  },
  {
   "cell_type": "code",
   "execution_count": 6,
   "id": "3022fbda",
   "metadata": {},
   "outputs": [],
   "source": [
    "search_field_designation=driver.find_element_by_xpath(\"/html/body/div/div/div/div[2]/div[1]/div[1]/div/div/div/div/span/input\")\n",
    "search_field_designation.send_keys(\"Data Scientist\")"
   ]
  },
  {
   "cell_type": "code",
   "execution_count": 7,
   "id": "ea09f636",
   "metadata": {},
   "outputs": [],
   "source": [
    "search_button=driver.find_element_by_xpath(\"/html/body/div/div/div/div[2]/div[1]/div[1]/div/div/div/button/span\")\n",
    "search_button.click()"
   ]
  },
  {
   "cell_type": "code",
   "execution_count": 8,
   "id": "14168218",
   "metadata": {},
   "outputs": [],
   "source": [
    "search_button=driver.find_element_by_xpath(\"/html/body/div/div/div/div[2]/div[1]/div[2]/div[1]/div/div/div/div[2]/div[1]/p\")\n",
    "search_button.click()"
   ]
  },
  {
   "cell_type": "code",
   "execution_count": 10,
   "id": "73e36fc6",
   "metadata": {},
   "outputs": [],
   "source": [
    "search_field_designation=driver.find_element_by_xpath(\"/html/body/div/div/div/div[2]/div[1]/div[2]/div[1]/div/div/div/div[2]/div[2]/div/div[2]/input\")\n",
    "search_field_designation.send_keys(\"Noida\")"
   ]
  },
  {
   "cell_type": "code",
   "execution_count": 11,
   "id": "9dc90fbb",
   "metadata": {},
   "outputs": [],
   "source": [
    "search_button=driver.find_element_by_xpath(\"/html/body/div/div/div/div[2]/div[1]/div[2]/div[1]/div/div/div/div[2]/div[2]/div/div[3]/div[1]/div[1]/div/label\")\n",
    "search_button.click()"
   ]
  },
  {
   "cell_type": "code",
   "execution_count": 14,
   "id": "3fbe28fc",
   "metadata": {},
   "outputs": [
    {
     "data": {
      "text/plain": [
       "[<selenium.webdriver.remote.webelement.WebElement (session=\"092a2ec2a8f116b61818e4a472ca5d5d\", element=\"3b9565bb-5ce8-4121-842d-5eb7a3f509a4\")>,\n",
       " <selenium.webdriver.remote.webelement.WebElement (session=\"092a2ec2a8f116b61818e4a472ca5d5d\", element=\"602ccc36-1f9b-4cf2-b6d2-ba3fcab4ec14\")>,\n",
       " <selenium.webdriver.remote.webelement.WebElement (session=\"092a2ec2a8f116b61818e4a472ca5d5d\", element=\"66cbe913-c591-42f9-88f2-fa00864495fe\")>,\n",
       " <selenium.webdriver.remote.webelement.WebElement (session=\"092a2ec2a8f116b61818e4a472ca5d5d\", element=\"421c80a7-df70-4430-9635-9db90e435f08\")>,\n",
       " <selenium.webdriver.remote.webelement.WebElement (session=\"092a2ec2a8f116b61818e4a472ca5d5d\", element=\"72dcf418-5085-4869-8a0f-6019cec64523\")>,\n",
       " <selenium.webdriver.remote.webelement.WebElement (session=\"092a2ec2a8f116b61818e4a472ca5d5d\", element=\"1a26e103-6109-4534-9ec8-9dc0f5b077b3\")>,\n",
       " <selenium.webdriver.remote.webelement.WebElement (session=\"092a2ec2a8f116b61818e4a472ca5d5d\", element=\"e783ea68-89ea-43b7-bd5d-cd05b5aee1b5\")>,\n",
       " <selenium.webdriver.remote.webelement.WebElement (session=\"092a2ec2a8f116b61818e4a472ca5d5d\", element=\"85b34e82-ebad-4068-b40f-e25ff53db685\")>,\n",
       " <selenium.webdriver.remote.webelement.WebElement (session=\"092a2ec2a8f116b61818e4a472ca5d5d\", element=\"be393ea3-0f73-47f8-a688-4622305e2b45\")>,\n",
       " <selenium.webdriver.remote.webelement.WebElement (session=\"092a2ec2a8f116b61818e4a472ca5d5d\", element=\"2a05c963-4148-4807-9739-91cb2c64d222\")>]"
      ]
     },
     "execution_count": 14,
     "metadata": {},
     "output_type": "execute_result"
    }
   ],
   "source": [
    "company_tags=driver.find_elements_by_xpath(\"//p[@class='company body-medium']\")\n",
    "company_tags[0:10]"
   ]
  },
  {
   "cell_type": "code",
   "execution_count": 16,
   "id": "3f6871d7",
   "metadata": {},
   "outputs": [],
   "source": [
    "company_name=[]\n",
    "for i in company_tags:\n",
    "    company=i.text\n",
    "    company_name.append(company)\n",
    "company_name=company_name[0:10]"
   ]
  },
  {
   "cell_type": "code",
   "execution_count": 17,
   "id": "89d6a76b",
   "metadata": {},
   "outputs": [
    {
     "data": {
      "text/plain": [
       "['GENPACT India Private Limited',\n",
       " 'EXL Services.com ( I ) Pvt. Ltd.',\n",
       " 'GENPACT India Private Limited',\n",
       " 'TECHNIP GLOBAL BUSINESS SERVICES PRIVATE LIMITED',\n",
       " 'Tech Mahindra Ltd',\n",
       " 'GENPACT India Private Limited',\n",
       " 'Bristlecone India Limited',\n",
       " 'Zyoin',\n",
       " 'Ashkom Media India Private Limited',\n",
       " 'Newgen Software Technologies Ltd.']"
      ]
     },
     "execution_count": 17,
     "metadata": {},
     "output_type": "execute_result"
    }
   ],
   "source": [
    "company_name"
   ]
  },
  {
   "cell_type": "code",
   "execution_count": 21,
   "id": "f5e45f57",
   "metadata": {},
   "outputs": [
    {
     "data": {
      "text/plain": [
       "[<selenium.webdriver.remote.webelement.WebElement (session=\"092a2ec2a8f116b61818e4a472ca5d5d\", element=\"f2f4a7f8-0134-4c55-ac49-42a764263a9b\")>,\n",
       " <selenium.webdriver.remote.webelement.WebElement (session=\"092a2ec2a8f116b61818e4a472ca5d5d\", element=\"4d5f20a4-59d6-4f97-ba74-24cf35676582\")>,\n",
       " <selenium.webdriver.remote.webelement.WebElement (session=\"092a2ec2a8f116b61818e4a472ca5d5d\", element=\"1fc096b2-f226-4b94-9545-4d3620648ea2\")>,\n",
       " <selenium.webdriver.remote.webelement.WebElement (session=\"092a2ec2a8f116b61818e4a472ca5d5d\", element=\"c337102b-a5fa-44db-98b2-f58aaa1a1fa7\")>,\n",
       " <selenium.webdriver.remote.webelement.WebElement (session=\"092a2ec2a8f116b61818e4a472ca5d5d\", element=\"61adc59a-6060-4fab-8cc7-ea7d3c71aca4\")>,\n",
       " <selenium.webdriver.remote.webelement.WebElement (session=\"092a2ec2a8f116b61818e4a472ca5d5d\", element=\"480657a2-266f-4233-b04f-37dd2bc9e46d\")>,\n",
       " <selenium.webdriver.remote.webelement.WebElement (session=\"092a2ec2a8f116b61818e4a472ca5d5d\", element=\"22c927df-d263-46f1-ba37-05806da94eee\")>,\n",
       " <selenium.webdriver.remote.webelement.WebElement (session=\"092a2ec2a8f116b61818e4a472ca5d5d\", element=\"9b38cbf0-a814-4e3b-a229-580a34bc8e5d\")>,\n",
       " <selenium.webdriver.remote.webelement.WebElement (session=\"092a2ec2a8f116b61818e4a472ca5d5d\", element=\"ead2b53c-31a0-4364-a0f0-ba9a93eabcc2\")>,\n",
       " <selenium.webdriver.remote.webelement.WebElement (session=\"092a2ec2a8f116b61818e4a472ca5d5d\", element=\"64be64b4-1b37-4362-bb12-3bf38bfa60e5\")>,\n",
       " <selenium.webdriver.remote.webelement.WebElement (session=\"092a2ec2a8f116b61818e4a472ca5d5d\", element=\"a4a0083a-1515-4ff1-ac73-a353ec8a372d\")>,\n",
       " <selenium.webdriver.remote.webelement.WebElement (session=\"092a2ec2a8f116b61818e4a472ca5d5d\", element=\"f005f8e3-71be-4cf2-ab3c-35f06e5f2550\")>,\n",
       " <selenium.webdriver.remote.webelement.WebElement (session=\"092a2ec2a8f116b61818e4a472ca5d5d\", element=\"ace5118c-c58a-459f-a742-1db590dcb888\")>,\n",
       " <selenium.webdriver.remote.webelement.WebElement (session=\"092a2ec2a8f116b61818e4a472ca5d5d\", element=\"d43b0b6a-2938-4421-9ea5-14e2d631873f\")>,\n",
       " <selenium.webdriver.remote.webelement.WebElement (session=\"092a2ec2a8f116b61818e4a472ca5d5d\", element=\"6d6375f3-b4c9-4541-a144-5e618f5bd54b\")>,\n",
       " <selenium.webdriver.remote.webelement.WebElement (session=\"092a2ec2a8f116b61818e4a472ca5d5d\", element=\"d0efcbf7-b164-41fe-8e80-1e0b7dc576fa\")>,\n",
       " <selenium.webdriver.remote.webelement.WebElement (session=\"092a2ec2a8f116b61818e4a472ca5d5d\", element=\"279846ec-3cf1-425f-8eaf-91afc8df85cf\")>,\n",
       " <selenium.webdriver.remote.webelement.WebElement (session=\"092a2ec2a8f116b61818e4a472ca5d5d\", element=\"cfc2dacf-c692-42f1-9568-eccae2831a1b\")>,\n",
       " <selenium.webdriver.remote.webelement.WebElement (session=\"092a2ec2a8f116b61818e4a472ca5d5d\", element=\"add7ca98-5306-4d16-9dd8-8fab74cb0094\")>,\n",
       " <selenium.webdriver.remote.webelement.WebElement (session=\"092a2ec2a8f116b61818e4a472ca5d5d\", element=\"3b0a9c70-437a-41fb-9747-95f99c898af0\")>]"
      ]
     },
     "execution_count": 21,
     "metadata": {},
     "output_type": "execute_result"
    }
   ],
   "source": [
    "days_tags=driver.find_elements_by_xpath(\"//span[@class='body-small-l']\")\n",
    "days_tags[0:20]"
   ]
  },
  {
   "cell_type": "code",
   "execution_count": 22,
   "id": "e0a5e96d",
   "metadata": {},
   "outputs": [],
   "source": [
    "no_of_days_ago=[]\n",
    "for i in days_tags:\n",
    "    days=i.text\n",
    "    no_of_days_ago.append(days)\n",
    "no_of_days_ago=no_of_days_ago[0:20]"
   ]
  },
  {
   "cell_type": "code",
   "execution_count": 23,
   "id": "21dae859",
   "metadata": {},
   "outputs": [
    {
     "data": {
      "text/plain": [
       "['10d ago',\n",
       " 'via naukri.com',\n",
       " '3d ago',\n",
       " 'via naukri.com',\n",
       " '15d ago',\n",
       " 'via naukri.com',\n",
       " '17hr ago',\n",
       " 'via naukri.com',\n",
       " '29d ago',\n",
       " 'via naukri.com',\n",
       " '1mon ago',\n",
       " 'via naukri.com',\n",
       " '10d ago',\n",
       " 'via naukri.com',\n",
       " '14d ago',\n",
       " 'via hirist.com',\n",
       " '17hr ago',\n",
       " 'via naukri.com',\n",
       " '16d ago',\n",
       " 'via naukri.com']"
      ]
     },
     "execution_count": 23,
     "metadata": {},
     "output_type": "execute_result"
    }
   ],
   "source": [
    "no_of_days_ago"
   ]
  },
  {
   "cell_type": "code",
   "execution_count": 24,
   "id": "dc7436f0",
   "metadata": {},
   "outputs": [],
   "source": [
    "nos_of_days_ago=no_of_days_ago[::2]"
   ]
  },
  {
   "cell_type": "code",
   "execution_count": 25,
   "id": "beb0ac29",
   "metadata": {},
   "outputs": [
    {
     "data": {
      "text/plain": [
       "['10d ago',\n",
       " '3d ago',\n",
       " '15d ago',\n",
       " '17hr ago',\n",
       " '29d ago',\n",
       " '1mon ago',\n",
       " '10d ago',\n",
       " '14d ago',\n",
       " '17hr ago',\n",
       " '16d ago']"
      ]
     },
     "execution_count": 25,
     "metadata": {},
     "output_type": "execute_result"
    }
   ],
   "source": [
    "nos_of_days_ago"
   ]
  },
  {
   "cell_type": "code",
   "execution_count": 26,
   "id": "5e648dac",
   "metadata": {},
   "outputs": [
    {
     "data": {
      "text/plain": [
       "[<selenium.webdriver.remote.webelement.WebElement (session=\"092a2ec2a8f116b61818e4a472ca5d5d\", element=\"1970fd3d-f9c5-4014-a4e6-9883ba162d4c\")>,\n",
       " <selenium.webdriver.remote.webelement.WebElement (session=\"092a2ec2a8f116b61818e4a472ca5d5d\", element=\"a06deef3-bbed-4803-91cb-3c2976f43b5c\")>,\n",
       " <selenium.webdriver.remote.webelement.WebElement (session=\"092a2ec2a8f116b61818e4a472ca5d5d\", element=\"0ebe20d5-f9f2-4a8f-bb77-38662311c4b9\")>,\n",
       " <selenium.webdriver.remote.webelement.WebElement (session=\"092a2ec2a8f116b61818e4a472ca5d5d\", element=\"407fdfdb-b4d1-464c-9d3a-d8a7d103833f\")>,\n",
       " <selenium.webdriver.remote.webelement.WebElement (session=\"092a2ec2a8f116b61818e4a472ca5d5d\", element=\"8f9844af-db0a-462a-a2a2-aed6a523b6ec\")>,\n",
       " <selenium.webdriver.remote.webelement.WebElement (session=\"092a2ec2a8f116b61818e4a472ca5d5d\", element=\"2a1a94f4-716e-423f-a3ed-ad7f70b0c2d8\")>,\n",
       " <selenium.webdriver.remote.webelement.WebElement (session=\"092a2ec2a8f116b61818e4a472ca5d5d\", element=\"eda0ef5d-9af9-4468-83b5-0a1c1cbc98ff\")>,\n",
       " <selenium.webdriver.remote.webelement.WebElement (session=\"092a2ec2a8f116b61818e4a472ca5d5d\", element=\"6afec8b3-7cee-44ee-bc86-d5b25a3c7d10\")>,\n",
       " <selenium.webdriver.remote.webelement.WebElement (session=\"092a2ec2a8f116b61818e4a472ca5d5d\", element=\"6a4d74e6-5ceb-4e0c-8ec7-9ba04d5333c2\")>,\n",
       " <selenium.webdriver.remote.webelement.WebElement (session=\"092a2ec2a8f116b61818e4a472ca5d5d\", element=\"3712820d-7867-4947-b879-0300818747b0\")>]"
      ]
     },
     "execution_count": 26,
     "metadata": {},
     "output_type": "execute_result"
    }
   ],
   "source": [
    "ratings_tags=driver.find_elements_by_xpath(\"//span[@class='body-small']\")\n",
    "ratings_tags[0:10]"
   ]
  },
  {
   "cell_type": "code",
   "execution_count": 27,
   "id": "a54f1878",
   "metadata": {},
   "outputs": [],
   "source": [
    "ratings=[]\n",
    "for i in ratings_tags:\n",
    "    rating=i.text\n",
    "    ratings.append(rating)\n",
    "ratings=ratings[0:10]"
   ]
  },
  {
   "cell_type": "code",
   "execution_count": 28,
   "id": "9504de84",
   "metadata": {},
   "outputs": [
    {
     "data": {
      "text/plain": [
       "['4.0', '3.9', '4.0', '3.9', '3.7', '4.0', '3.8', '4.1', '3.7', '3.5']"
      ]
     },
     "execution_count": 28,
     "metadata": {},
     "output_type": "execute_result"
    }
   ],
   "source": [
    "ratings"
   ]
  },
  {
   "cell_type": "code",
   "execution_count": 29,
   "id": "d0134b46",
   "metadata": {},
   "outputs": [
    {
     "data": {
      "text/html": [
       "<div>\n",
       "<style scoped>\n",
       "    .dataframe tbody tr th:only-of-type {\n",
       "        vertical-align: middle;\n",
       "    }\n",
       "\n",
       "    .dataframe tbody tr th {\n",
       "        vertical-align: top;\n",
       "    }\n",
       "\n",
       "    .dataframe thead th {\n",
       "        text-align: right;\n",
       "    }\n",
       "</style>\n",
       "<table border=\"1\" class=\"dataframe\">\n",
       "  <thead>\n",
       "    <tr style=\"text-align: right;\">\n",
       "      <th></th>\n",
       "      <th>CompanyName</th>\n",
       "      <th>No. of Days Ago</th>\n",
       "      <th>Rating of the company</th>\n",
       "    </tr>\n",
       "  </thead>\n",
       "  <tbody>\n",
       "    <tr>\n",
       "      <th>0</th>\n",
       "      <td>GENPACT India Private Limited</td>\n",
       "      <td>10d ago</td>\n",
       "      <td>4.0</td>\n",
       "    </tr>\n",
       "    <tr>\n",
       "      <th>1</th>\n",
       "      <td>EXL Services.com ( I ) Pvt. Ltd.</td>\n",
       "      <td>3d ago</td>\n",
       "      <td>3.9</td>\n",
       "    </tr>\n",
       "    <tr>\n",
       "      <th>2</th>\n",
       "      <td>GENPACT India Private Limited</td>\n",
       "      <td>15d ago</td>\n",
       "      <td>4.0</td>\n",
       "    </tr>\n",
       "    <tr>\n",
       "      <th>3</th>\n",
       "      <td>TECHNIP GLOBAL BUSINESS SERVICES PRIVATE LIMITED</td>\n",
       "      <td>17hr ago</td>\n",
       "      <td>3.9</td>\n",
       "    </tr>\n",
       "    <tr>\n",
       "      <th>4</th>\n",
       "      <td>Tech Mahindra Ltd</td>\n",
       "      <td>29d ago</td>\n",
       "      <td>3.7</td>\n",
       "    </tr>\n",
       "    <tr>\n",
       "      <th>5</th>\n",
       "      <td>GENPACT India Private Limited</td>\n",
       "      <td>1mon ago</td>\n",
       "      <td>4.0</td>\n",
       "    </tr>\n",
       "    <tr>\n",
       "      <th>6</th>\n",
       "      <td>Bristlecone India Limited</td>\n",
       "      <td>10d ago</td>\n",
       "      <td>3.8</td>\n",
       "    </tr>\n",
       "    <tr>\n",
       "      <th>7</th>\n",
       "      <td>Zyoin</td>\n",
       "      <td>14d ago</td>\n",
       "      <td>4.1</td>\n",
       "    </tr>\n",
       "    <tr>\n",
       "      <th>8</th>\n",
       "      <td>Ashkom Media India Private Limited</td>\n",
       "      <td>17hr ago</td>\n",
       "      <td>3.7</td>\n",
       "    </tr>\n",
       "    <tr>\n",
       "      <th>9</th>\n",
       "      <td>Newgen Software Technologies Ltd.</td>\n",
       "      <td>16d ago</td>\n",
       "      <td>3.5</td>\n",
       "    </tr>\n",
       "  </tbody>\n",
       "</table>\n",
       "</div>"
      ],
      "text/plain": [
       "                                        CompanyName No. of Days Ago  \\\n",
       "0                     GENPACT India Private Limited         10d ago   \n",
       "1                  EXL Services.com ( I ) Pvt. Ltd.          3d ago   \n",
       "2                     GENPACT India Private Limited         15d ago   \n",
       "3  TECHNIP GLOBAL BUSINESS SERVICES PRIVATE LIMITED        17hr ago   \n",
       "4                                 Tech Mahindra Ltd         29d ago   \n",
       "5                     GENPACT India Private Limited        1mon ago   \n",
       "6                         Bristlecone India Limited         10d ago   \n",
       "7                                             Zyoin         14d ago   \n",
       "8                Ashkom Media India Private Limited        17hr ago   \n",
       "9                 Newgen Software Technologies Ltd.         16d ago   \n",
       "\n",
       "  Rating of the company  \n",
       "0                   4.0  \n",
       "1                   3.9  \n",
       "2                   4.0  \n",
       "3                   3.9  \n",
       "4                   3.7  \n",
       "5                   4.0  \n",
       "6                   3.8  \n",
       "7                   4.1  \n",
       "8                   3.7  \n",
       "9                   3.5  "
      ]
     },
     "execution_count": 29,
     "metadata": {},
     "output_type": "execute_result"
    }
   ],
   "source": [
    "df=pd.DataFrame({'CompanyName':company_name,'No. of Days Ago':nos_of_days_ago,'Rating of the company':ratings})\n",
    "df"
   ]
  },
  {
   "cell_type": "code",
   "execution_count": 30,
   "id": "fed8af83",
   "metadata": {},
   "outputs": [],
   "source": [
    "driver.close()"
   ]
  },
  {
   "cell_type": "code",
   "execution_count": 4,
   "id": "9ccc6cab",
   "metadata": {},
   "outputs": [],
   "source": [
    "driver.get('https://www.amazon.in/')"
   ]
  },
  {
   "cell_type": "code",
   "execution_count": 5,
   "id": "dbe8df39",
   "metadata": {},
   "outputs": [],
   "source": [
    "search_field_designation=driver.find_element_by_xpath(\"/html/body/div[1]/header/div/div[1]/div[2]/div/form/div[2]/div[1]/input\")\n",
    "search_field_designation.send_keys(\"Laptop\")"
   ]
  },
  {
   "cell_type": "code",
   "execution_count": 6,
   "id": "541b4b34",
   "metadata": {},
   "outputs": [],
   "source": [
    "search_button=driver.find_element_by_xpath(\"/html/body/div[1]/header/div/div[1]/div[2]/div/form/div[3]/div/span/input\")\n",
    "search_button.click()"
   ]
  },
  {
   "cell_type": "code",
   "execution_count": 7,
   "id": "95eb802f",
   "metadata": {},
   "outputs": [],
   "source": [
    "search_button=driver.find_element_by_xpath(\"/html/body/div[2]/div[2]/div[1]/div[2]/div/div[3]/span/div[1]/div/div/div[6]/ul[4]/li[12]/span/a/span\")\n",
    "search_button.click()"
   ]
  },
  {
   "cell_type": "code",
   "execution_count": 8,
   "id": "8195bb43",
   "metadata": {},
   "outputs": [
    {
     "data": {
      "text/plain": [
       "[<selenium.webdriver.remote.webelement.WebElement (session=\"134c7f94c01bff471c08f17659c93a93\", element=\"eb697840-a700-4e41-9ba7-d5afdcea4a9f\")>,\n",
       " <selenium.webdriver.remote.webelement.WebElement (session=\"134c7f94c01bff471c08f17659c93a93\", element=\"306604f3-99b2-44a1-a70d-1228baf32dda\")>,\n",
       " <selenium.webdriver.remote.webelement.WebElement (session=\"134c7f94c01bff471c08f17659c93a93\", element=\"26a8a30c-b423-446c-8cd8-0f204dfd4d2a\")>,\n",
       " <selenium.webdriver.remote.webelement.WebElement (session=\"134c7f94c01bff471c08f17659c93a93\", element=\"0a6f031a-420a-4c6e-b8bf-ac021728ac82\")>,\n",
       " <selenium.webdriver.remote.webelement.WebElement (session=\"134c7f94c01bff471c08f17659c93a93\", element=\"def3de1a-560c-4a45-b59a-949b94a946c5\")>,\n",
       " <selenium.webdriver.remote.webelement.WebElement (session=\"134c7f94c01bff471c08f17659c93a93\", element=\"6b4b4b20-939e-4e67-811d-4a4cc981754e\")>,\n",
       " <selenium.webdriver.remote.webelement.WebElement (session=\"134c7f94c01bff471c08f17659c93a93\", element=\"9ccdc5a1-be27-42ff-a102-3aa3ef23bdac\")>,\n",
       " <selenium.webdriver.remote.webelement.WebElement (session=\"134c7f94c01bff471c08f17659c93a93\", element=\"20f616cb-e026-40f4-9afb-b33a32c5c1e0\")>,\n",
       " <selenium.webdriver.remote.webelement.WebElement (session=\"134c7f94c01bff471c08f17659c93a93\", element=\"b02848d4-98b6-4630-9fa5-b6c7aeedb8f5\")>,\n",
       " <selenium.webdriver.remote.webelement.WebElement (session=\"134c7f94c01bff471c08f17659c93a93\", element=\"1fd984dc-3e5b-4f77-a3c3-fed7d77f85a9\")>]"
      ]
     },
     "execution_count": 8,
     "metadata": {},
     "output_type": "execute_result"
    }
   ],
   "source": [
    "titles_tags=driver.find_elements_by_xpath(\"//h2[@class='a-size-mini a-spacing-none a-color-base s-line-clamp-2']\")\n",
    "titles_tags[0:10]"
   ]
  },
  {
   "cell_type": "code",
   "execution_count": 9,
   "id": "4a42bd59",
   "metadata": {},
   "outputs": [],
   "source": [
    "titles=[]\n",
    "for i in titles_tags:\n",
    "    title=i.text\n",
    "    titles.append(title)\n",
    "titles=titles[0:10]"
   ]
  },
  {
   "cell_type": "code",
   "execution_count": 10,
   "id": "ef76d3ac",
   "metadata": {},
   "outputs": [
    {
     "data": {
      "text/plain": [
       "['LG Gram 16 inches Intel Evo 11th Gen Core i7 Ultra-Light Laptop (16 GB RAM, 512 GB SSD, New Windows 11 Home Preload, Iris Xe Graphics, USC -C x 2 (with Power), 1.19 kg, 16Z90P-G.AH85A2, Black)',\n",
       " 'LG Gram Intel Evo 11th Gen Core i7 17 inches Ultra-Light Laptop (16 GB RAM, 512 GB SSD, New Windows 11 Home Preload, Iris Xe Graphics, USC -C x 2 (with Power), 1.35 kg, 17Z90P-G.AH85A2, Black)',\n",
       " 'Mi Notebook Ultra 3.2K Resolution Display Intel Core i7-11370H 11th Gen 15.6-inch(39.62 cm) Thin and Light Laptop (16GB/512GB SSD/Iris Xe Graphic/Win 10/MS Office 21/Backlit KB/FP Sensor/1.7Kg)',\n",
       " 'ASUS TUF Gaming F15 (2021), 15.6\" (39.62 cms) FHD 144Hz, Intel Core i7-11600H 11th Gen, 4GB RTX 3050 Graphics, Gaming Laptop (16GB/512GB SSD/Windows 10/Office 2019/Gray/2.3 Kg), FX566HCB-HN299TS',\n",
       " 'Lenovo ThinkBook 15 Intel 11th Gen Core i7 15.6\"(39.62 cm)FHD Thin and Light Laptop (16GB/512GB SSD/Windows 11 Home/MS Office H&S 2021/Iris® Xe Graphics/Backlit/Mineral Grey/1.7 Kg) 20VE00W4IH',\n",
       " 'ASUS VivoBook 14 (2021), 14-inch (35.56 cms) FHD, Intel Core i7-1065G7 10th Gen, Thin and Light Laptop (16GB/512GB SSD/Integrated Graphics/Office 2021/Windows 11/Silver/1.6 Kg), X415JA-EK701WS',\n",
       " 'HP Pavilion 14, 11th Gen Intel Core i7-16GB RAM/1TB SSD 14 inch(35.6 cm) Laptop/Intel Iris Xe Graphics/Backlit Keyboard/Alexa/B&O Audio/Fast Charge/FPR/Win 11/MS Office, 14-dv1029TU,Natural Silver',\n",
       " 'Samsung Galaxy Book2 Intel 12th Gen core i7 EvoTM  39.6cm (15.6\") FHD LED Thin & Light Laptop (16 GB/512 GB SSD/Windows 11/MS Office Home & Student 2021/Graphite/1.55Kg), NP750XED-KC2IN',\n",
       " 'LG Gram Intel Evo 11th Gen Core i7 17 inches Ultra-Light Laptop (16 GB RAM, 512 GB SSD, New Windows 11 Home Preload, Iris Xe Graphics, USC -C x 2 (with Power), 1.35 kg, 17Z90P-G.AH85A2, Black)',\n",
       " 'LG Gram 16 inches Intel Evo 11th Gen Core i7 Ultra-Light Laptop (16 GB RAM, 512 GB SSD, New Windows 11 Home Preload, Iris Xe Graphics, USC -C x 2 (with Power), 1.19 kg, 16Z90P-G.AH85A2, Black)']"
      ]
     },
     "execution_count": 10,
     "metadata": {},
     "output_type": "execute_result"
    }
   ],
   "source": [
    "titles"
   ]
  },
  {
   "cell_type": "code",
   "execution_count": 11,
   "id": "14fee8b8",
   "metadata": {},
   "outputs": [
    {
     "data": {
      "text/plain": [
       "[<selenium.webdriver.remote.webelement.WebElement (session=\"134c7f94c01bff471c08f17659c93a93\", element=\"7ff51a8a-77f0-4d97-b036-ef2e5956ec5e\")>,\n",
       " <selenium.webdriver.remote.webelement.WebElement (session=\"134c7f94c01bff471c08f17659c93a93\", element=\"53a73a4c-7d26-42fe-8b19-c91cddf03e7f\")>,\n",
       " <selenium.webdriver.remote.webelement.WebElement (session=\"134c7f94c01bff471c08f17659c93a93\", element=\"a4e249af-8e7d-47e9-ab1f-794894bd6cfc\")>,\n",
       " <selenium.webdriver.remote.webelement.WebElement (session=\"134c7f94c01bff471c08f17659c93a93\", element=\"62c14246-7484-4b66-8e62-6b4628fffdff\")>,\n",
       " <selenium.webdriver.remote.webelement.WebElement (session=\"134c7f94c01bff471c08f17659c93a93\", element=\"2df08f80-62c8-4e18-a8c3-eec4bd572a46\")>,\n",
       " <selenium.webdriver.remote.webelement.WebElement (session=\"134c7f94c01bff471c08f17659c93a93\", element=\"def0b717-9f17-449a-9fb2-531bdda9c2a1\")>,\n",
       " <selenium.webdriver.remote.webelement.WebElement (session=\"134c7f94c01bff471c08f17659c93a93\", element=\"b2f28182-d2d5-45b2-a475-07f00a410cb2\")>,\n",
       " <selenium.webdriver.remote.webelement.WebElement (session=\"134c7f94c01bff471c08f17659c93a93\", element=\"7fe9c2f4-5592-4de2-a701-38a2dd65ce42\")>,\n",
       " <selenium.webdriver.remote.webelement.WebElement (session=\"134c7f94c01bff471c08f17659c93a93\", element=\"f9037d39-f547-4881-ba5a-a33430c3b2e1\")>,\n",
       " <selenium.webdriver.remote.webelement.WebElement (session=\"134c7f94c01bff471c08f17659c93a93\", element=\"2b9d4ffa-285c-4f99-8ec4-3b30bdaf4e75\")>]"
      ]
     },
     "execution_count": 11,
     "metadata": {},
     "output_type": "execute_result"
    }
   ],
   "source": [
    "prices_tags=driver.find_elements_by_xpath(\"//span[@class='a-price-whole']\")\n",
    "prices_tags[0:10]"
   ]
  },
  {
   "cell_type": "code",
   "execution_count": 12,
   "id": "adfb0bf0",
   "metadata": {},
   "outputs": [],
   "source": [
    "prices=[]\n",
    "for i in prices_tags:\n",
    "    price=i.text\n",
    "    prices.append(price)\n",
    "prices=prices[0:10]"
   ]
  },
  {
   "cell_type": "code",
   "execution_count": 13,
   "id": "5993a887",
   "metadata": {},
   "outputs": [
    {
     "data": {
      "text/plain": [
       "['1,01,112',\n",
       " '93,999',\n",
       " '77,990',\n",
       " '89,990',\n",
       " '86,990',\n",
       " '57,490',\n",
       " '86,990',\n",
       " '82,425',\n",
       " '93,999',\n",
       " '1,01,112']"
      ]
     },
     "execution_count": 13,
     "metadata": {},
     "output_type": "execute_result"
    }
   ],
   "source": [
    "prices"
   ]
  },
  {
   "cell_type": "code",
   "execution_count": 14,
   "id": "61760589",
   "metadata": {},
   "outputs": [
    {
     "data": {
      "text/html": [
       "<div>\n",
       "<style scoped>\n",
       "    .dataframe tbody tr th:only-of-type {\n",
       "        vertical-align: middle;\n",
       "    }\n",
       "\n",
       "    .dataframe tbody tr th {\n",
       "        vertical-align: top;\n",
       "    }\n",
       "\n",
       "    .dataframe thead th {\n",
       "        text-align: right;\n",
       "    }\n",
       "</style>\n",
       "<table border=\"1\" class=\"dataframe\">\n",
       "  <thead>\n",
       "    <tr style=\"text-align: right;\">\n",
       "      <th></th>\n",
       "      <th>Title</th>\n",
       "      <th>Prices</th>\n",
       "    </tr>\n",
       "  </thead>\n",
       "  <tbody>\n",
       "    <tr>\n",
       "      <th>0</th>\n",
       "      <td>LG Gram 16 inches Intel Evo 11th Gen Core i7 U...</td>\n",
       "      <td>1,01,112</td>\n",
       "    </tr>\n",
       "    <tr>\n",
       "      <th>1</th>\n",
       "      <td>LG Gram Intel Evo 11th Gen Core i7 17 inches U...</td>\n",
       "      <td>93,999</td>\n",
       "    </tr>\n",
       "    <tr>\n",
       "      <th>2</th>\n",
       "      <td>Mi Notebook Ultra 3.2K Resolution Display Inte...</td>\n",
       "      <td>77,990</td>\n",
       "    </tr>\n",
       "    <tr>\n",
       "      <th>3</th>\n",
       "      <td>ASUS TUF Gaming F15 (2021), 15.6\" (39.62 cms) ...</td>\n",
       "      <td>89,990</td>\n",
       "    </tr>\n",
       "    <tr>\n",
       "      <th>4</th>\n",
       "      <td>Lenovo ThinkBook 15 Intel 11th Gen Core i7 15....</td>\n",
       "      <td>86,990</td>\n",
       "    </tr>\n",
       "    <tr>\n",
       "      <th>5</th>\n",
       "      <td>ASUS VivoBook 14 (2021), 14-inch (35.56 cms) F...</td>\n",
       "      <td>57,490</td>\n",
       "    </tr>\n",
       "    <tr>\n",
       "      <th>6</th>\n",
       "      <td>HP Pavilion 14, 11th Gen Intel Core i7-16GB RA...</td>\n",
       "      <td>86,990</td>\n",
       "    </tr>\n",
       "    <tr>\n",
       "      <th>7</th>\n",
       "      <td>Samsung Galaxy Book2 Intel 12th Gen core i7 Ev...</td>\n",
       "      <td>82,425</td>\n",
       "    </tr>\n",
       "    <tr>\n",
       "      <th>8</th>\n",
       "      <td>LG Gram Intel Evo 11th Gen Core i7 17 inches U...</td>\n",
       "      <td>93,999</td>\n",
       "    </tr>\n",
       "    <tr>\n",
       "      <th>9</th>\n",
       "      <td>LG Gram 16 inches Intel Evo 11th Gen Core i7 U...</td>\n",
       "      <td>1,01,112</td>\n",
       "    </tr>\n",
       "  </tbody>\n",
       "</table>\n",
       "</div>"
      ],
      "text/plain": [
       "                                               Title    Prices\n",
       "0  LG Gram 16 inches Intel Evo 11th Gen Core i7 U...  1,01,112\n",
       "1  LG Gram Intel Evo 11th Gen Core i7 17 inches U...    93,999\n",
       "2  Mi Notebook Ultra 3.2K Resolution Display Inte...    77,990\n",
       "3  ASUS TUF Gaming F15 (2021), 15.6\" (39.62 cms) ...    89,990\n",
       "4  Lenovo ThinkBook 15 Intel 11th Gen Core i7 15....    86,990\n",
       "5  ASUS VivoBook 14 (2021), 14-inch (35.56 cms) F...    57,490\n",
       "6  HP Pavilion 14, 11th Gen Intel Core i7-16GB RA...    86,990\n",
       "7  Samsung Galaxy Book2 Intel 12th Gen core i7 Ev...    82,425\n",
       "8  LG Gram Intel Evo 11th Gen Core i7 17 inches U...    93,999\n",
       "9  LG Gram 16 inches Intel Evo 11th Gen Core i7 U...  1,01,112"
      ]
     },
     "execution_count": 14,
     "metadata": {},
     "output_type": "execute_result"
    }
   ],
   "source": [
    "df=pd.DataFrame({'Title':titles,'Prices':prices})\n",
    "df"
   ]
  },
  {
   "cell_type": "code",
   "execution_count": 25,
   "id": "3a2ac97c",
   "metadata": {},
   "outputs": [],
   "source": [
    "driver.close()"
   ]
  },
  {
   "cell_type": "code",
   "execution_count": 28,
   "id": "1c085511",
   "metadata": {},
   "outputs": [],
   "source": [
    "driver.get('https://www.ambitionbox.com/')"
   ]
  },
  {
   "cell_type": "code",
   "execution_count": 29,
   "id": "4ccd9499",
   "metadata": {},
   "outputs": [],
   "source": [
    "search_button=driver.find_element_by_xpath(\"/html/body/div[1]/nav/nav/a[4]\")\n",
    "search_button.click()"
   ]
  },
  {
   "cell_type": "code",
   "execution_count": 30,
   "id": "a0e7b0a9",
   "metadata": {},
   "outputs": [],
   "source": [
    "search_field_designation=driver.find_element_by_xpath(\"/html/body/div/div/div/main/section[1]/div[2]/div[1]/span/input\")\n",
    "search_field_designation.send_keys(\"Data Scientist\")"
   ]
  },
  {
   "cell_type": "code",
   "execution_count": 31,
   "id": "762643a8",
   "metadata": {},
   "outputs": [],
   "source": [
    "search_button=driver.find_element_by_xpath(\"/html/body/div/div/div/main/section[1]/div[2]/div[1]/i[1]\")\n",
    "search_button.click()"
   ]
  },
  {
   "cell_type": "code",
   "execution_count": 32,
   "id": "4163291d",
   "metadata": {},
   "outputs": [
    {
     "data": {
      "text/plain": [
       "[<selenium.webdriver.remote.webelement.WebElement (session=\"cd5e5d142809c56e56f3184df046f398\", element=\"7d353df1-5a2a-4398-8dfe-a218a9b19630\")>,\n",
       " <selenium.webdriver.remote.webelement.WebElement (session=\"cd5e5d142809c56e56f3184df046f398\", element=\"8687baf8-0e0c-4f79-8ea7-1a402e5db911\")>,\n",
       " <selenium.webdriver.remote.webelement.WebElement (session=\"cd5e5d142809c56e56f3184df046f398\", element=\"b854e606-fac5-47dd-9665-e07723aeaa6b\")>,\n",
       " <selenium.webdriver.remote.webelement.WebElement (session=\"cd5e5d142809c56e56f3184df046f398\", element=\"d9ea6f57-42bd-4e1b-94da-d02193c9a98b\")>,\n",
       " <selenium.webdriver.remote.webelement.WebElement (session=\"cd5e5d142809c56e56f3184df046f398\", element=\"b65638cd-0ac8-4102-971a-b375dba21339\")>,\n",
       " <selenium.webdriver.remote.webelement.WebElement (session=\"cd5e5d142809c56e56f3184df046f398\", element=\"84a89759-a129-4c28-aa13-39300ef48a2e\")>,\n",
       " <selenium.webdriver.remote.webelement.WebElement (session=\"cd5e5d142809c56e56f3184df046f398\", element=\"f4f33959-0244-4ce3-a343-910ee37c5ae9\")>,\n",
       " <selenium.webdriver.remote.webelement.WebElement (session=\"cd5e5d142809c56e56f3184df046f398\", element=\"8729ade9-e219-48a4-8295-005da72f37f7\")>,\n",
       " <selenium.webdriver.remote.webelement.WebElement (session=\"cd5e5d142809c56e56f3184df046f398\", element=\"aa65c13a-7c15-44af-9544-2e744f7fa8de\")>,\n",
       " <selenium.webdriver.remote.webelement.WebElement (session=\"cd5e5d142809c56e56f3184df046f398\", element=\"65615d16-92fd-43a6-9e42-08fdfa4d20a8\")>]"
      ]
     },
     "execution_count": 32,
     "metadata": {},
     "output_type": "execute_result"
    }
   ],
   "source": [
    "companies_tags=driver.find_elements_by_xpath(\"//div[@class='name']\")\n",
    "companies_tags[0:10]"
   ]
  },
  {
   "cell_type": "code",
   "execution_count": 33,
   "id": "f179cee6",
   "metadata": {},
   "outputs": [],
   "source": [
    "company_name=[]\n",
    "for i in companies_tags:\n",
    "    company=i.text\n",
    "    company_name.append(company)\n",
    "company_name=company_name[0:10]"
   ]
  },
  {
   "cell_type": "code",
   "execution_count": 34,
   "id": "1eaba2c9",
   "metadata": {},
   "outputs": [
    {
     "data": {
      "text/plain": [
       "['Google\\nbased on 11 salaries',\n",
       " 'Arista Networks\\nbased on 13 salaries',\n",
       " 'Microsoft Corporation\\nbased on 253 salaries',\n",
       " 'Goldman Sachs\\nbased on 16 salaries',\n",
       " 'Tekion\\nbased on 32 salaries',\n",
       " 'Flipkart\\nbased on 61 salaries',\n",
       " 'Servicenow Software Development India\\nbased on 54 salaries',\n",
       " 'Walmart\\nbased on 81 salaries',\n",
       " 'PayPal\\nbased on 26 salaries',\n",
       " 'Amazon\\nbased on 103 salaries']"
      ]
     },
     "execution_count": 34,
     "metadata": {},
     "output_type": "execute_result"
    }
   ],
   "source": [
    "company_name"
   ]
  },
  {
   "cell_type": "code",
   "execution_count": 35,
   "id": "b91658c6",
   "metadata": {},
   "outputs": [
    {
     "data": {
      "text/plain": [
       "[<selenium.webdriver.remote.webelement.WebElement (session=\"cd5e5d142809c56e56f3184df046f398\", element=\"97ec9732-65bf-4540-9ecd-88909c8f94c1\")>,\n",
       " <selenium.webdriver.remote.webelement.WebElement (session=\"cd5e5d142809c56e56f3184df046f398\", element=\"bef7aeb7-e82d-47be-a6fa-809cf902d883\")>,\n",
       " <selenium.webdriver.remote.webelement.WebElement (session=\"cd5e5d142809c56e56f3184df046f398\", element=\"21acc6f7-e041-4b8e-8a32-e7cb89d443f4\")>,\n",
       " <selenium.webdriver.remote.webelement.WebElement (session=\"cd5e5d142809c56e56f3184df046f398\", element=\"fbc12c51-5e40-4b4e-8df1-6e44fa87eac7\")>,\n",
       " <selenium.webdriver.remote.webelement.WebElement (session=\"cd5e5d142809c56e56f3184df046f398\", element=\"cc05c179-f4b7-4950-b9f4-15741c848046\")>,\n",
       " <selenium.webdriver.remote.webelement.WebElement (session=\"cd5e5d142809c56e56f3184df046f398\", element=\"3fcb9973-6f52-48fe-bbe3-ef7f1920bda4\")>,\n",
       " <selenium.webdriver.remote.webelement.WebElement (session=\"cd5e5d142809c56e56f3184df046f398\", element=\"79a9ad8d-0bfe-492c-81ae-ce0ae82be48d\")>,\n",
       " <selenium.webdriver.remote.webelement.WebElement (session=\"cd5e5d142809c56e56f3184df046f398\", element=\"247f91df-1e2c-4247-baae-ca3e565ea42e\")>,\n",
       " <selenium.webdriver.remote.webelement.WebElement (session=\"cd5e5d142809c56e56f3184df046f398\", element=\"e23f665d-5e06-4270-a831-cd36135ba1fb\")>,\n",
       " <selenium.webdriver.remote.webelement.WebElement (session=\"cd5e5d142809c56e56f3184df046f398\", element=\"db2bb48e-e517-45d9-b72f-a7d14e3aacfa\")>]"
      ]
     },
     "execution_count": 35,
     "metadata": {},
     "output_type": "execute_result"
    }
   ],
   "source": [
    "average_salary=driver.find_elements_by_xpath(\"//p[@class='averageCtc']\")\n",
    "average_salary[0:10]"
   ]
  },
  {
   "cell_type": "code",
   "execution_count": 36,
   "id": "52410bcc",
   "metadata": {},
   "outputs": [],
   "source": [
    "average_salaries=[]\n",
    "for i in average_salary:\n",
    "    average=i.text\n",
    "    average_salaries.append(average)\n",
    "average_salaries=average_salaries[0:10]"
   ]
  },
  {
   "cell_type": "code",
   "execution_count": 37,
   "id": "a0ab06bf",
   "metadata": {},
   "outputs": [
    {
     "data": {
      "text/plain": [
       "['₹ 26.9L',\n",
       " '₹ 24.7L',\n",
       " '₹ 23.7L',\n",
       " '₹ 22.3L',\n",
       " '₹ 21.0L',\n",
       " '₹ 20.3L',\n",
       " '₹ 20.2L',\n",
       " '₹ 19.9L',\n",
       " '₹ 19.8L',\n",
       " '₹ 19.7L']"
      ]
     },
     "execution_count": 37,
     "metadata": {},
     "output_type": "execute_result"
    }
   ],
   "source": [
    "average_salaries"
   ]
  },
  {
   "cell_type": "code",
   "execution_count": 38,
   "id": "8ef3ceb3",
   "metadata": {},
   "outputs": [
    {
     "data": {
      "text/plain": [
       "[<selenium.webdriver.remote.webelement.WebElement (session=\"cd5e5d142809c56e56f3184df046f398\", element=\"d96e538d-4303-4834-9e75-ff51026816f4\")>,\n",
       " <selenium.webdriver.remote.webelement.WebElement (session=\"cd5e5d142809c56e56f3184df046f398\", element=\"a5d23af1-9ce7-4c4a-8ddc-1d59a0f62ebd\")>,\n",
       " <selenium.webdriver.remote.webelement.WebElement (session=\"cd5e5d142809c56e56f3184df046f398\", element=\"e6c03694-307f-4005-95aa-58c5dc4d4291\")>,\n",
       " <selenium.webdriver.remote.webelement.WebElement (session=\"cd5e5d142809c56e56f3184df046f398\", element=\"ab92be46-ef7c-49b4-8c5c-7eee7f372bdc\")>,\n",
       " <selenium.webdriver.remote.webelement.WebElement (session=\"cd5e5d142809c56e56f3184df046f398\", element=\"53ce034d-2618-486e-9649-e0f6bf4b8f8a\")>,\n",
       " <selenium.webdriver.remote.webelement.WebElement (session=\"cd5e5d142809c56e56f3184df046f398\", element=\"b208358c-ee33-4ae5-9596-ef207a5cbb6f\")>,\n",
       " <selenium.webdriver.remote.webelement.WebElement (session=\"cd5e5d142809c56e56f3184df046f398\", element=\"034430c9-987b-4590-a538-540ce847c2be\")>,\n",
       " <selenium.webdriver.remote.webelement.WebElement (session=\"cd5e5d142809c56e56f3184df046f398\", element=\"335cedc7-a08d-4fab-8b98-98844b2f8490\")>,\n",
       " <selenium.webdriver.remote.webelement.WebElement (session=\"cd5e5d142809c56e56f3184df046f398\", element=\"f3d4d90d-a6ff-4fb5-a281-bc707918f008\")>,\n",
       " <selenium.webdriver.remote.webelement.WebElement (session=\"cd5e5d142809c56e56f3184df046f398\", element=\"eda13d02-0677-4310-b9e0-f79712e090d5\")>,\n",
       " <selenium.webdriver.remote.webelement.WebElement (session=\"cd5e5d142809c56e56f3184df046f398\", element=\"0e475c9a-d94f-4dd5-aa5c-dbc7f128239e\")>,\n",
       " <selenium.webdriver.remote.webelement.WebElement (session=\"cd5e5d142809c56e56f3184df046f398\", element=\"a6e3fe9b-5c43-4fb5-a6c0-06fc38aab7f4\")>,\n",
       " <selenium.webdriver.remote.webelement.WebElement (session=\"cd5e5d142809c56e56f3184df046f398\", element=\"90d2aced-baf3-40c3-8169-aff53544099a\")>,\n",
       " <selenium.webdriver.remote.webelement.WebElement (session=\"cd5e5d142809c56e56f3184df046f398\", element=\"ee325a38-8e9c-4a52-9427-79b8ac432670\")>,\n",
       " <selenium.webdriver.remote.webelement.WebElement (session=\"cd5e5d142809c56e56f3184df046f398\", element=\"b38a79bf-f372-4544-9a6d-4cd38506120d\")>,\n",
       " <selenium.webdriver.remote.webelement.WebElement (session=\"cd5e5d142809c56e56f3184df046f398\", element=\"e7a1fdfc-7bc0-421e-b61a-5ece005d31e6\")>,\n",
       " <selenium.webdriver.remote.webelement.WebElement (session=\"cd5e5d142809c56e56f3184df046f398\", element=\"ad4063a6-d371-4e53-bfa2-08f56f63a267\")>,\n",
       " <selenium.webdriver.remote.webelement.WebElement (session=\"cd5e5d142809c56e56f3184df046f398\", element=\"fc63d9c2-9aa8-4eac-adc9-503c3821f641\")>,\n",
       " <selenium.webdriver.remote.webelement.WebElement (session=\"cd5e5d142809c56e56f3184df046f398\", element=\"403d58e5-9814-4f97-8536-73b5655a36c7\")>,\n",
       " <selenium.webdriver.remote.webelement.WebElement (session=\"cd5e5d142809c56e56f3184df046f398\", element=\"8b4e49e2-2e2b-4653-811b-01683b9f3b8a\")>]"
      ]
     },
     "execution_count": 38,
     "metadata": {},
     "output_type": "execute_result"
    }
   ],
   "source": [
    "minimum_salary=driver.find_elements_by_xpath(\"//div[@class='value body-medium']\")\n",
    "minimum_salary[0:20]"
   ]
  },
  {
   "cell_type": "code",
   "execution_count": 39,
   "id": "15f5e2cc",
   "metadata": {},
   "outputs": [],
   "source": [
    "minimum_salaries=[]\n",
    "for i in minimum_salary:\n",
    "    minimum=i.text\n",
    "    minimum_salaries.append(minimum)\n",
    "minimum_salaries=minimum_salaries[0:20]"
   ]
  },
  {
   "cell_type": "code",
   "execution_count": 40,
   "id": "463e961a",
   "metadata": {},
   "outputs": [
    {
     "data": {
      "text/plain": [
       "['₹ 10.4L',\n",
       " '₹ 40.0L',\n",
       " '₹ 10.7L',\n",
       " '₹ 38.0L',\n",
       " '₹ 13.0L',\n",
       " '₹ 45.0L',\n",
       " '₹ 12.0L',\n",
       " '₹ 34.0L',\n",
       " '₹ 12.0L',\n",
       " '₹ 33.0L',\n",
       " '₹ 7.5L',\n",
       " '₹ 31.0L',\n",
       " '₹ 13.0L',\n",
       " '₹ 26.3L',\n",
       " '₹ 11.0L',\n",
       " '₹ 32.5L',\n",
       " '₹ 12.0L',\n",
       " '₹ 30.0L',\n",
       " '₹ 8.0L',\n",
       " '₹ 43.0L']"
      ]
     },
     "execution_count": 40,
     "metadata": {},
     "output_type": "execute_result"
    }
   ],
   "source": [
    "minimum_salaries"
   ]
  },
  {
   "cell_type": "code",
   "execution_count": 41,
   "id": "e202a630",
   "metadata": {},
   "outputs": [],
   "source": [
    "min_salary=minimum_salaries[::2]\n",
    "max_salary=minimum_salaries[1::2]"
   ]
  },
  {
   "cell_type": "code",
   "execution_count": 42,
   "id": "739e7886",
   "metadata": {},
   "outputs": [
    {
     "data": {
      "text/plain": [
       "['₹ 10.4L',\n",
       " '₹ 10.7L',\n",
       " '₹ 13.0L',\n",
       " '₹ 12.0L',\n",
       " '₹ 12.0L',\n",
       " '₹ 7.5L',\n",
       " '₹ 13.0L',\n",
       " '₹ 11.0L',\n",
       " '₹ 12.0L',\n",
       " '₹ 8.0L']"
      ]
     },
     "execution_count": 42,
     "metadata": {},
     "output_type": "execute_result"
    }
   ],
   "source": [
    "min_salary"
   ]
  },
  {
   "cell_type": "code",
   "execution_count": 43,
   "id": "6838bd0a",
   "metadata": {},
   "outputs": [
    {
     "data": {
      "text/plain": [
       "['₹ 40.0L',\n",
       " '₹ 38.0L',\n",
       " '₹ 45.0L',\n",
       " '₹ 34.0L',\n",
       " '₹ 33.0L',\n",
       " '₹ 31.0L',\n",
       " '₹ 26.3L',\n",
       " '₹ 32.5L',\n",
       " '₹ 30.0L',\n",
       " '₹ 43.0L']"
      ]
     },
     "execution_count": 43,
     "metadata": {},
     "output_type": "execute_result"
    }
   ],
   "source": [
    "max_salary"
   ]
  },
  {
   "cell_type": "code",
   "execution_count": 44,
   "id": "157486e2",
   "metadata": {},
   "outputs": [
    {
     "data": {
      "text/plain": [
       "[<selenium.webdriver.remote.webelement.WebElement (session=\"cd5e5d142809c56e56f3184df046f398\", element=\"2280433a-83c4-45c8-bfe3-09bd96be1fa7\")>,\n",
       " <selenium.webdriver.remote.webelement.WebElement (session=\"cd5e5d142809c56e56f3184df046f398\", element=\"bd327d73-3a66-40a0-9d72-df95963a678c\")>,\n",
       " <selenium.webdriver.remote.webelement.WebElement (session=\"cd5e5d142809c56e56f3184df046f398\", element=\"b41d1301-df8c-466e-81fb-1f7f8a3c8338\")>,\n",
       " <selenium.webdriver.remote.webelement.WebElement (session=\"cd5e5d142809c56e56f3184df046f398\", element=\"6919899d-0b9e-4e42-a5bf-8813e8073937\")>,\n",
       " <selenium.webdriver.remote.webelement.WebElement (session=\"cd5e5d142809c56e56f3184df046f398\", element=\"3bdeaafb-fcc3-467d-93c2-1ed5c60afa1e\")>,\n",
       " <selenium.webdriver.remote.webelement.WebElement (session=\"cd5e5d142809c56e56f3184df046f398\", element=\"3d3fa174-8359-4b23-b77c-86d64eefb353\")>,\n",
       " <selenium.webdriver.remote.webelement.WebElement (session=\"cd5e5d142809c56e56f3184df046f398\", element=\"8faa0dab-f7ae-4e43-891f-44eecccb2612\")>,\n",
       " <selenium.webdriver.remote.webelement.WebElement (session=\"cd5e5d142809c56e56f3184df046f398\", element=\"b00f0b81-7e8a-49e9-9548-545c67ae8e41\")>,\n",
       " <selenium.webdriver.remote.webelement.WebElement (session=\"cd5e5d142809c56e56f3184df046f398\", element=\"4cef1553-76dd-4997-8abf-a241eb80e541\")>,\n",
       " <selenium.webdriver.remote.webelement.WebElement (session=\"cd5e5d142809c56e56f3184df046f398\", element=\"6a5e9af1-f8bc-47b0-9c46-b7ca7352d5db\")>]"
      ]
     },
     "execution_count": 44,
     "metadata": {},
     "output_type": "execute_result"
    }
   ],
   "source": [
    "experience=driver.find_elements_by_xpath(\"//div[@class='salaries sbold-list-header']\")\n",
    "experience[0:10]"
   ]
  },
  {
   "cell_type": "code",
   "execution_count": 45,
   "id": "a3850257",
   "metadata": {},
   "outputs": [],
   "source": [
    "experiences=[]\n",
    "for i in experience:\n",
    "    exp=i.text\n",
    "    experiences.append(exp)\n",
    "experiences=experiences[0:10]"
   ]
  },
  {
   "cell_type": "code",
   "execution_count": 46,
   "id": "8ac8f90b",
   "metadata": {},
   "outputs": [
    {
     "data": {
      "text/plain": [
       "['Software Engineer\\n . \\n1 yr exp',\n",
       " 'Software Engineer\\n . \\n3 yrs exp',\n",
       " 'Software Engineer\\n . \\n1-4 yrs exp',\n",
       " 'Software Engineer\\n . \\n2 yrs exp',\n",
       " 'Software Engineer\\n . \\n2-4 yrs exp',\n",
       " 'Software Engineer\\n . \\n1-4 yrs exp',\n",
       " 'Software Engineer\\n . \\n2-4 yrs exp',\n",
       " 'Software Engineer\\n . \\n1-4 yrs exp',\n",
       " 'Software Engineer\\n . \\n1-2 yrs exp',\n",
       " 'Software Engineer\\n . \\n1-4 yrs exp']"
      ]
     },
     "execution_count": 46,
     "metadata": {},
     "output_type": "execute_result"
    }
   ],
   "source": [
    "experiences"
   ]
  },
  {
   "cell_type": "code",
   "execution_count": 47,
   "id": "2b26783a",
   "metadata": {},
   "outputs": [
    {
     "data": {
      "text/html": [
       "<div>\n",
       "<style scoped>\n",
       "    .dataframe tbody tr th:only-of-type {\n",
       "        vertical-align: middle;\n",
       "    }\n",
       "\n",
       "    .dataframe tbody tr th {\n",
       "        vertical-align: top;\n",
       "    }\n",
       "\n",
       "    .dataframe thead th {\n",
       "        text-align: right;\n",
       "    }\n",
       "</style>\n",
       "<table border=\"1\" class=\"dataframe\">\n",
       "  <thead>\n",
       "    <tr style=\"text-align: right;\">\n",
       "      <th></th>\n",
       "      <th>Company&amp;No.of Salaries</th>\n",
       "      <th>Average Salaries</th>\n",
       "      <th>Minimum Salary</th>\n",
       "      <th>Maximum Salary</th>\n",
       "      <th>Experience</th>\n",
       "    </tr>\n",
       "  </thead>\n",
       "  <tbody>\n",
       "    <tr>\n",
       "      <th>0</th>\n",
       "      <td>Google\\nbased on 11 salaries</td>\n",
       "      <td>₹ 26.9L</td>\n",
       "      <td>₹ 10.4L</td>\n",
       "      <td>₹ 40.0L</td>\n",
       "      <td>Software Engineer\\n . \\n1 yr exp</td>\n",
       "    </tr>\n",
       "    <tr>\n",
       "      <th>1</th>\n",
       "      <td>Arista Networks\\nbased on 13 salaries</td>\n",
       "      <td>₹ 24.7L</td>\n",
       "      <td>₹ 10.7L</td>\n",
       "      <td>₹ 38.0L</td>\n",
       "      <td>Software Engineer\\n . \\n3 yrs exp</td>\n",
       "    </tr>\n",
       "    <tr>\n",
       "      <th>2</th>\n",
       "      <td>Microsoft Corporation\\nbased on 253 salaries</td>\n",
       "      <td>₹ 23.7L</td>\n",
       "      <td>₹ 13.0L</td>\n",
       "      <td>₹ 45.0L</td>\n",
       "      <td>Software Engineer\\n . \\n1-4 yrs exp</td>\n",
       "    </tr>\n",
       "    <tr>\n",
       "      <th>3</th>\n",
       "      <td>Goldman Sachs\\nbased on 16 salaries</td>\n",
       "      <td>₹ 22.3L</td>\n",
       "      <td>₹ 12.0L</td>\n",
       "      <td>₹ 34.0L</td>\n",
       "      <td>Software Engineer\\n . \\n2 yrs exp</td>\n",
       "    </tr>\n",
       "    <tr>\n",
       "      <th>4</th>\n",
       "      <td>Tekion\\nbased on 32 salaries</td>\n",
       "      <td>₹ 21.0L</td>\n",
       "      <td>₹ 12.0L</td>\n",
       "      <td>₹ 33.0L</td>\n",
       "      <td>Software Engineer\\n . \\n2-4 yrs exp</td>\n",
       "    </tr>\n",
       "    <tr>\n",
       "      <th>5</th>\n",
       "      <td>Flipkart\\nbased on 61 salaries</td>\n",
       "      <td>₹ 20.3L</td>\n",
       "      <td>₹ 7.5L</td>\n",
       "      <td>₹ 31.0L</td>\n",
       "      <td>Software Engineer\\n . \\n1-4 yrs exp</td>\n",
       "    </tr>\n",
       "    <tr>\n",
       "      <th>6</th>\n",
       "      <td>Servicenow Software Development India\\nbased o...</td>\n",
       "      <td>₹ 20.2L</td>\n",
       "      <td>₹ 13.0L</td>\n",
       "      <td>₹ 26.3L</td>\n",
       "      <td>Software Engineer\\n . \\n2-4 yrs exp</td>\n",
       "    </tr>\n",
       "    <tr>\n",
       "      <th>7</th>\n",
       "      <td>Walmart\\nbased on 81 salaries</td>\n",
       "      <td>₹ 19.9L</td>\n",
       "      <td>₹ 11.0L</td>\n",
       "      <td>₹ 32.5L</td>\n",
       "      <td>Software Engineer\\n . \\n1-4 yrs exp</td>\n",
       "    </tr>\n",
       "    <tr>\n",
       "      <th>8</th>\n",
       "      <td>PayPal\\nbased on 26 salaries</td>\n",
       "      <td>₹ 19.8L</td>\n",
       "      <td>₹ 12.0L</td>\n",
       "      <td>₹ 30.0L</td>\n",
       "      <td>Software Engineer\\n . \\n1-2 yrs exp</td>\n",
       "    </tr>\n",
       "    <tr>\n",
       "      <th>9</th>\n",
       "      <td>Amazon\\nbased on 103 salaries</td>\n",
       "      <td>₹ 19.7L</td>\n",
       "      <td>₹ 8.0L</td>\n",
       "      <td>₹ 43.0L</td>\n",
       "      <td>Software Engineer\\n . \\n1-4 yrs exp</td>\n",
       "    </tr>\n",
       "  </tbody>\n",
       "</table>\n",
       "</div>"
      ],
      "text/plain": [
       "                              Company&No.of Salaries Average Salaries  \\\n",
       "0                       Google\\nbased on 11 salaries          ₹ 26.9L   \n",
       "1              Arista Networks\\nbased on 13 salaries          ₹ 24.7L   \n",
       "2       Microsoft Corporation\\nbased on 253 salaries          ₹ 23.7L   \n",
       "3                Goldman Sachs\\nbased on 16 salaries          ₹ 22.3L   \n",
       "4                       Tekion\\nbased on 32 salaries          ₹ 21.0L   \n",
       "5                     Flipkart\\nbased on 61 salaries          ₹ 20.3L   \n",
       "6  Servicenow Software Development India\\nbased o...          ₹ 20.2L   \n",
       "7                      Walmart\\nbased on 81 salaries          ₹ 19.9L   \n",
       "8                       PayPal\\nbased on 26 salaries          ₹ 19.8L   \n",
       "9                      Amazon\\nbased on 103 salaries          ₹ 19.7L   \n",
       "\n",
       "  Minimum Salary Maximum Salary                           Experience  \n",
       "0        ₹ 10.4L        ₹ 40.0L     Software Engineer\\n . \\n1 yr exp  \n",
       "1        ₹ 10.7L        ₹ 38.0L    Software Engineer\\n . \\n3 yrs exp  \n",
       "2        ₹ 13.0L        ₹ 45.0L  Software Engineer\\n . \\n1-4 yrs exp  \n",
       "3        ₹ 12.0L        ₹ 34.0L    Software Engineer\\n . \\n2 yrs exp  \n",
       "4        ₹ 12.0L        ₹ 33.0L  Software Engineer\\n . \\n2-4 yrs exp  \n",
       "5         ₹ 7.5L        ₹ 31.0L  Software Engineer\\n . \\n1-4 yrs exp  \n",
       "6        ₹ 13.0L        ₹ 26.3L  Software Engineer\\n . \\n2-4 yrs exp  \n",
       "7        ₹ 11.0L        ₹ 32.5L  Software Engineer\\n . \\n1-4 yrs exp  \n",
       "8        ₹ 12.0L        ₹ 30.0L  Software Engineer\\n . \\n1-2 yrs exp  \n",
       "9         ₹ 8.0L        ₹ 43.0L  Software Engineer\\n . \\n1-4 yrs exp  "
      ]
     },
     "execution_count": 47,
     "metadata": {},
     "output_type": "execute_result"
    }
   ],
   "source": [
    "import pandas as pd\n",
    "df=pd.DataFrame({'Company&No.of Salaries':company_name,'Average Salaries':average_salaries,'Minimum Salary':min_salary,'Maximum Salary':max_salary,'Experience':experiences})\n",
    "\n",
    "df"
   ]
  },
  {
   "cell_type": "code",
   "execution_count": 48,
   "id": "337db26b",
   "metadata": {},
   "outputs": [],
   "source": [
    "driver.close()"
   ]
  },
  {
   "cell_type": "code",
   "execution_count": 3,
   "id": "87aea533",
   "metadata": {},
   "outputs": [],
   "source": [
    "driver.get('https://www.myntra.com/shoes')"
   ]
  },
  {
   "cell_type": "code",
   "execution_count": 6,
   "id": "45a4386f",
   "metadata": {},
   "outputs": [],
   "source": [
    "search_button=driver.find_element_by_xpath(\"/html/body/div[2]/div/div[1]/main/div[3]/div[1]/section/div/div[5]/ul/li[2]/label/div\")\n",
    "search_button.click()"
   ]
  },
  {
   "cell_type": "code",
   "execution_count": 5,
   "id": "f796e199",
   "metadata": {},
   "outputs": [],
   "source": [
    "search_button=driver.find_element_by_xpath(\"/html/body/div[2]/div/div[1]/main/div[3]/div[1]/section/div/div[6]/ul/li[1]/label/div\")\n",
    "search_button.click()"
   ]
  },
  {
   "cell_type": "code",
   "execution_count": 7,
   "id": "717834fb",
   "metadata": {},
   "outputs": [],
   "source": [
    "brand=[]\n",
    "for i in range(0,2):\n",
    "    b_tags=driver.find_elements_by_xpath(\"//span[@class='product-wishlistFlex product-actionsButton product-wishlist ']\")\n",
    "    for i in b_tags:\n",
    "        br=i.text\n",
    "        brand.append(br)\n",
    "    next_button=driver.find_element_by_xpath(\"/html/body/div[2]/div/div[1]/main/div[3]/div[2]/div/div[2]/section/div[2]/ul/li[12]/a\")\n",
    "    next_button.click()\n",
    "    time.sleep(5)"
   ]
  },
  {
   "cell_type": "code",
   "execution_count": 8,
   "id": "ffa03080",
   "metadata": {},
   "outputs": [
    {
     "data": {
      "text/plain": [
       "['',\n",
       " '',\n",
       " '',\n",
       " '',\n",
       " '',\n",
       " '',\n",
       " '',\n",
       " '',\n",
       " '',\n",
       " '',\n",
       " '',\n",
       " '',\n",
       " '',\n",
       " '',\n",
       " '',\n",
       " '',\n",
       " '',\n",
       " '',\n",
       " '',\n",
       " '',\n",
       " '',\n",
       " '',\n",
       " '',\n",
       " '',\n",
       " '',\n",
       " '',\n",
       " '',\n",
       " '',\n",
       " '',\n",
       " '',\n",
       " '',\n",
       " '',\n",
       " '',\n",
       " '',\n",
       " '',\n",
       " '',\n",
       " '',\n",
       " '',\n",
       " '',\n",
       " '',\n",
       " '',\n",
       " '',\n",
       " '',\n",
       " '',\n",
       " '',\n",
       " '',\n",
       " '',\n",
       " '',\n",
       " '',\n",
       " '',\n",
       " '',\n",
       " '',\n",
       " '',\n",
       " '',\n",
       " '',\n",
       " '',\n",
       " '',\n",
       " '',\n",
       " '',\n",
       " '',\n",
       " '',\n",
       " '',\n",
       " '',\n",
       " '',\n",
       " '',\n",
       " '',\n",
       " '',\n",
       " '',\n",
       " '',\n",
       " '',\n",
       " '',\n",
       " '',\n",
       " '',\n",
       " '',\n",
       " '',\n",
       " '',\n",
       " '',\n",
       " '',\n",
       " '',\n",
       " '',\n",
       " '',\n",
       " '',\n",
       " '',\n",
       " '',\n",
       " '',\n",
       " '',\n",
       " '',\n",
       " '',\n",
       " '',\n",
       " '',\n",
       " '',\n",
       " '',\n",
       " '',\n",
       " '',\n",
       " '',\n",
       " '',\n",
       " '',\n",
       " '',\n",
       " '',\n",
       " '']"
      ]
     },
     "execution_count": 8,
     "metadata": {},
     "output_type": "execute_result"
    }
   ],
   "source": [
    "brand"
   ]
  },
  {
   "cell_type": "code",
   "execution_count": 9,
   "id": "e074d8ec",
   "metadata": {},
   "outputs": [
    {
     "data": {
      "text/plain": [
       "100"
      ]
     },
     "execution_count": 9,
     "metadata": {},
     "output_type": "execute_result"
    }
   ],
   "source": [
    "len(brand)"
   ]
  },
  {
   "cell_type": "code",
   "execution_count": null,
   "id": "b5e1eaa0",
   "metadata": {},
   "outputs": [],
   "source": []
  },
  {
   "cell_type": "code",
   "execution_count": null,
   "id": "e074e5f3",
   "metadata": {},
   "outputs": [],
   "source": []
  },
  {
   "cell_type": "code",
   "execution_count": null,
   "id": "73d47cdc",
   "metadata": {},
   "outputs": [],
   "source": []
  },
  {
   "cell_type": "code",
   "execution_count": null,
   "id": "de3cb016",
   "metadata": {},
   "outputs": [],
   "source": []
  },
  {
   "cell_type": "code",
   "execution_count": 10,
   "id": "55b35bcf",
   "metadata": {},
   "outputs": [],
   "source": [
    "driver.close()"
   ]
  },
  {
   "cell_type": "code",
   "execution_count": 3,
   "id": "88d33520",
   "metadata": {},
   "outputs": [],
   "source": [
    "driver.get('https://www.flipkart.com/apple-iphone-11-black-64-gb-includes- earpods-power-adapter/p/itm0f37c2240b217?pid=MOBFKCTSVZAXUHGR&lid=LSTMOBFKCTSVZAXUHGREPBFGI&marketplace')"
   ]
  },
  {
   "cell_type": "code",
   "execution_count": 8,
   "id": "ca2071cd",
   "metadata": {},
   "outputs": [],
   "source": [
    "brand=[]# rating being wrongly taken as brand\n",
    "for i in range(0,11):\n",
    "    b_tags=driver.find_elements_by_xpath(\"//div[@class='_3LWZlK _1BLPMq']\")\n",
    "    for i in b_tags:\n",
    "        br=i.text\n",
    "        brand.append(br)\n",
    "    next_button=driver.find_element_by_xpath(\"/html/body/div[1]/div/div[3]/div/div/div[2]/div[13]/div/div/nav/a[12]\")\n",
    "    next_button.click()\n",
    "    time.sleep(5)"
   ]
  },
  {
   "cell_type": "code",
   "execution_count": 9,
   "id": "45cbf9ec",
   "metadata": {},
   "outputs": [
    {
     "data": {
      "text/plain": [
       "['5',\n",
       " '5',\n",
       " '5',\n",
       " '5',\n",
       " '5',\n",
       " '5',\n",
       " '5',\n",
       " '3',\n",
       " '5',\n",
       " '5',\n",
       " '5',\n",
       " '5',\n",
       " '4',\n",
       " '5',\n",
       " '5',\n",
       " '5',\n",
       " '4',\n",
       " '5',\n",
       " '5',\n",
       " '5',\n",
       " '5',\n",
       " '4',\n",
       " '5',\n",
       " '5',\n",
       " '5',\n",
       " '4',\n",
       " '5',\n",
       " '5',\n",
       " '5',\n",
       " '5',\n",
       " '4',\n",
       " '5',\n",
       " '5',\n",
       " '5',\n",
       " '5',\n",
       " '5',\n",
       " '4',\n",
       " '5',\n",
       " '5',\n",
       " '4',\n",
       " '5',\n",
       " '5',\n",
       " '5',\n",
       " '5',\n",
       " '5',\n",
       " '4',\n",
       " '5',\n",
       " '5',\n",
       " '5',\n",
       " '5',\n",
       " '5',\n",
       " '5',\n",
       " '5',\n",
       " '5',\n",
       " '5',\n",
       " '5',\n",
       " '5',\n",
       " '5',\n",
       " '5',\n",
       " '5',\n",
       " '5',\n",
       " '5',\n",
       " '5',\n",
       " '5',\n",
       " '5',\n",
       " '5',\n",
       " '5',\n",
       " '5',\n",
       " '5',\n",
       " '3',\n",
       " '5',\n",
       " '5',\n",
       " '5',\n",
       " '5',\n",
       " '5',\n",
       " '5',\n",
       " '5',\n",
       " '5',\n",
       " '5',\n",
       " '3',\n",
       " '5',\n",
       " '5',\n",
       " '5',\n",
       " '5',\n",
       " '5',\n",
       " '5',\n",
       " '4',\n",
       " '4',\n",
       " '5',\n",
       " '4',\n",
       " '5',\n",
       " '4',\n",
       " '5',\n",
       " '5',\n",
       " '5',\n",
       " '5',\n",
       " '4',\n",
       " '4',\n",
       " '5',\n",
       " '4',\n",
       " '5',\n",
       " '4',\n",
       " '5',\n",
       " '5',\n",
       " '5',\n",
       " '5']"
      ]
     },
     "execution_count": 9,
     "metadata": {},
     "output_type": "execute_result"
    }
   ],
   "source": [
    "brand"
   ]
  },
  {
   "cell_type": "code",
   "execution_count": 17,
   "id": "e26a371c",
   "metadata": {},
   "outputs": [],
   "source": [
    "rating=brand   #rating was wrongly quoted as brand"
   ]
  },
  {
   "cell_type": "code",
   "execution_count": 10,
   "id": "b973ad14",
   "metadata": {},
   "outputs": [
    {
     "data": {
      "text/plain": [
       "106"
      ]
     },
     "execution_count": 10,
     "metadata": {},
     "output_type": "execute_result"
    }
   ],
   "source": [
    "len(brand)"
   ]
  },
  {
   "cell_type": "code",
   "execution_count": 11,
   "id": "97c8f184",
   "metadata": {},
   "outputs": [],
   "source": [
    "fullreview=[]\n",
    "for i in range(0,11):\n",
    "    r_tags=driver.find_elements_by_xpath(\"//div[@class='t-ZTKy']\")\n",
    "    for i in r_tags:\n",
    "        fr=i.text\n",
    "        fullreview.append(fr)\n",
    "    next_button=driver.find_element_by_xpath(\"/html/body/div[1]/div/div[3]/div/div/div[2]/div[13]/div/div/nav/a[12]\")\n",
    "    next_button.click()\n",
    "    time.sleep(5)"
   ]
  },
  {
   "cell_type": "code",
   "execution_count": 12,
   "id": "b2cdc4d3",
   "metadata": {},
   "outputs": [
    {
     "data": {
      "text/plain": [
       "['Got my iPhone 11 today! It’s totally worth it even in 2021. Takes wonderful images and the stabilisation of video on this phone is just awesome although it is a 2019 model. Performance wise it’s ultra fast as expected to be. The only drawback per paper is the screen it has, but in usage I noticed nothing bad and the screen was totally fine for me!\\nI upgraded from Nokia 6.1 Plus and it’s great 🤩',\n",
       " \"Great quality at not so great price, But worth it. Don't go for specs, better performance than so called spec master Chinese phones. The display could have been atleast an smiled one with atleast 90hz at this price point.\",\n",
       " 'Wow wow and wow, in 48k you will not get anything better than this, processor is awsome, camera is a beast, display is superb, this is my first iphone, and I am already in love with these',\n",
       " 'Reviewing within 1st Month\\n\\n\\n1st Month Review\\nThis is my first Iphone. So been new to the Ios Environment i faced some basic issues. Whatever issues i am facing is because of change in environment.\\nVideo Output is amazing.\\nBattery - Typical One Day Battery. 20 W fast charger is amazing which charges the iphone within 40-60 Mins ( purchased separately)\\nCamera - Good and Natural Colours. ( I have Samsung S21+ and not at par with its camera) but the output is same all the time which is good.\\n...\\nREAD MORE',\n",
       " 'Value for money product. This iphone 11 is really amazing. Again nice release by apple. Great camera, battery backup is excellent. I just love this phone',\n",
       " '🤩🤩🤩🤩🤩🤩I loved the Phone.. Every time I pick up the phone it makes me happy... The phone is beast💪💪 and the camera is fabulous 🥰🥰🥰.. I think one of my great purchase from Flipkart.. Thank you Filpkart..',\n",
       " 'I upgraded from one plus 6 to iPhone 11 and it’s too good. Very smooth, battery also good. I love it. And thanks flipkart for fast delivery.',\n",
       " 'Well , as we all know if its not an Iphone , its not an iphone . The iphones are always beast . The camera game has been level up . The A13 Bionic is just fabulous . The update this year are certainly the camera which is damn good with d addition of wide angle lens as well as ultra wide . If anyones purchasing an iphone for the first time , do opt for the black color . Its just feels more than premium . Battery life is damn good with lasting fully a day . Overall a nice package . Well managed...\\nREAD MORE',\n",
       " 'The only thing i didnt like about the phone is its display as its only an non full hd display means its not 1080p one and not an amoled one of course but still better than all the lcds out there in the market but at this price point android alternatives provide 144hz samoled like the rog phone 5, Aside from that the performance is top notch as you would expect from an Iphone and will last you for many years unlike androids who stop getting updates in less than 2 years',\n",
       " 'Flipkart honoured on time delivery, I have used 6s , now I have upgraded apple 11 . Really great experience for new iPhone. Thank you apple and flipkart.',\n",
       " \"Just an awesome phone...upgraded from 6s to 11 and trust me guys it's super cool with amazing features..loved it ♥️ and a big thank you to Flipkart for delivering it in just 2 days ?\",\n",
       " 'As usual a great product from Apple. but the look wise there were some scope to make it more attractive. from the back it looks nice. picture quality is awesome . face id is blazing fast. The lightning fast bionic processor makes the phone butter smooth.Battery back up is unbeatable and best of the released iPhone.full display is still missing. however, a iPhone is a iPhone. The iPhone lovers know the value of an iPhone 🙂',\n",
       " \"Ok, so after almost 3 years I am again back into Apple Ecosystem. Switching from Android to iOS has just one disadvantage imo, and that's you can't take your WhatsApp data restored to iOS. Everything starts fresh, pretty sad. I am so glad that I chose iPhone 11 over 12. With 5G nowhere in India for at least an year will have an added advantage to iPhone 11. Spending extra 25k just for A14 chipset and OLED display is not a clever choice. Anyways, a fantastic phone with everything fit perfectly...\\nREAD MORE\",\n",
       " \"Great phone and camera and timely delivery by Flipkart!\\nYou wouldn't love the display if you're coming from a one plus or Samsung, go for iPhone 12. If display isn't your priority, this is a great choice.\",\n",
       " 'Not mere a phone , Its more than that for fun and enjoy life. Just grab it. Best luck',\n",
       " 'Very good phone. All the apps are running smoothly. Sleek and sturdy design. No more words for apple as it has its own class.',\n",
       " 'After using more than a year of using iPhone11 here is my complete review:\\n1. Camera is almost perfect 8/10 except for some advantages you’ll see in Samsung S20. (Zoom, Better Image stabilisation etc)\\n2. Battery performance is 10/10\\n3. OS performance is 10/10\\n4. Build Quality 9/10 as you need to buy good quality back cover with tampered\\n5. Face Lock feature is awesome 10/10\\n6. You need to buy new charger but don’t buy more than 18 watt charger optimum is 15 / 18 watt charger. For fast chargin...\\nREAD MORE',\n",
       " \"Awesome Product. Initially I was looking for green color but wasn't available and then I went for white one and believe me it's really awesome color.\",\n",
       " 'Fkng awesome phone, you won’t regret spending money on it.\\nBattery is 3110mah, sufficient amount if you’re not continuously using it. Performance is up-to to the point.\\nFace ID is extremely fast and smooth, you wont even realize you’ve unlocked your phone.\\nFYI I’m reviewing this product after 3 months of usage because I wanted to know how the battery and other things are in this phone. So if you are thinking of buying it, Just go for it.',\n",
       " 'This iphone 11 by apple is simply amazing . Ios is so crisp and smooth that you will love .\\nI will definitely recommend it , earlier i was confused between iphone 11 and oneplus 9r. But i have made a correct choice.\\nGo with this beast without any hasitation.',\n",
       " \"Just an awesome phone...upgraded from 6s to 11 and trust me guys it's super cool with amazing features..loved it ♥️ and a big thank you to Flipkart for delivering it in just 2 days ?\",\n",
       " 'As usual a great product from Apple. but the look wise there were some scope to make it more attractive. from the back it looks nice. picture quality is awesome . face id is blazing fast. The lightning fast bionic processor makes the phone butter smooth.Battery back up is unbeatable and best of the released iPhone.full display is still missing. however, a iPhone is a iPhone. The iPhone lovers know the value of an iPhone 🙂',\n",
       " \"Ok, so after almost 3 years I am again back into Apple Ecosystem. Switching from Android to iOS has just one disadvantage imo, and that's you can't take your WhatsApp data restored to iOS. Everything starts fresh, pretty sad. I am so glad that I chose iPhone 11 over 12. With 5G nowhere in India for at least an year will have an added advantage to iPhone 11. Spending extra 25k just for A14 chipset and OLED display is not a clever choice. Anyways, a fantastic phone with everything fit perfectly...\\nREAD MORE\",\n",
       " \"Great phone and camera and timely delivery by Flipkart!\\nYou wouldn't love the display if you're coming from a one plus or Samsung, go for iPhone 12. If display isn't your priority, this is a great choice.\",\n",
       " 'Not mere a phone , Its more than that for fun and enjoy life. Just grab it. Best luck',\n",
       " 'Very good phone. All the apps are running smoothly. Sleek and sturdy design. No more words for apple as it has its own class.',\n",
       " 'After using more than a year of using iPhone11 here is my complete review:\\n1. Camera is almost perfect 8/10 except for some advantages you’ll see in Samsung S20. (Zoom, Better Image stabilisation etc)\\n2. Battery performance is 10/10\\n3. OS performance is 10/10\\n4. Build Quality 9/10 as you need to buy good quality back cover with tampered\\n5. Face Lock feature is awesome 10/10\\n6. You need to buy new charger but don’t buy more than 18 watt charger optimum is 15 / 18 watt charger. For fast chargin...\\nREAD MORE',\n",
       " \"Awesome Product. Initially I was looking for green color but wasn't available and then I went for white one and believe me it's really awesome color.\",\n",
       " 'Fkng awesome phone, you won’t regret spending money on it.\\nBattery is 3110mah, sufficient amount if you’re not continuously using it. Performance is up-to to the point.\\nFace ID is extremely fast and smooth, you wont even realize you’ve unlocked your phone.\\nFYI I’m reviewing this product after 3 months of usage because I wanted to know how the battery and other things are in this phone. So if you are thinking of buying it, Just go for it.',\n",
       " 'This iphone 11 by apple is simply amazing . Ios is so crisp and smooth that you will love .\\nI will definitely recommend it , earlier i was confused between iphone 11 and oneplus 9r. But i have made a correct choice.\\nGo with this beast without any hasitation.',\n",
       " 'I liked it very much, super performance , giving best battery life around one day. fast charging is super. camera quality is excellent no words.',\n",
       " \"This is my first I phone and I'm very happy to have it but it's battery life is not good as Android have that's all. All over phone is Awesome\",\n",
       " 'Excellent service by Flipkart. The phone is true value for money, the camera is great especially the low light night photography.\\nThe processor is fast making gaming a lot of fun.\\nI read a lot of negative reviews about the display but I was using a OnePlus before and somehow the iphone 11 display is more easy on the eyes and the adaptive brightness is more effective than any of the other phones that I have used.\\nCharging is a bit slow owing to the smaller charger included in the box inste...\\nREAD MORE',\n",
       " 'It’s a quiet good for new users. And I’m happy with it. Thanks apple and Flipkart too. 😊♥️',\n",
       " 'I have my first iPhone\\nI love it\\nusing 15 day very good performance\\n\\nMobile- 5/4\\nCharging- 5/5\\nCamera- 5/5\\nBattery backup -5/5\\nDisplay- 5/4\\nCourier facility- 5/0 Very bad\\nCourier facility is poor. I have not happy in courier facility..',\n",
       " 'excellent mobile phone with amazing feautures. 100% value for money.The greatest attribute was its battery(all day long usage). dont hesitate to buy. Only difference between 11pro and 11 is display and its telescope lens remaining all are same',\n",
       " \"Good display in this phone however screen is LCD, you'll get a bit disappointed .\\nCamera is superb , I have tried underwater shot is sea water, works good. Video quality is a bit inferior as compared to similar price range phones.\\nPerformance is superb. Maybe the best in this range , even with A13 bionic chip and 4GB ram, it works really smooth.\\nBattery is fine, you'll get decent backup.\\nNo charger inside , that's very disappointing for 1st time users. I had previously iPhone and iPad so it...\\nREAD MORE\",\n",
       " 'At time of writing this review this phone processor definitely beat any flagship android phone !\\n\\nUpgraded from 7 Plus which is also quite good\\n\\nBut this phone performance is huge ! Fast and always to roll 😅\\nLow light Camera is great\\nBut i think portrait mode is not good as iPhone 7 plus\\nIn this phone portrait mode is looks like artificial but on my previous phone it looks like dslr photo maybe i am missing setting on this !\\n\\nOtherwise everything is good !',\n",
       " 'This is very second time I am using iphone I am not a huge fan of I phone but as my past experience iphone is always iphone whn you use it in your hand and it feel firmly buildup and camera quality is awesome processing is fast and realy smooth while using it.Night mode is awesome and photography is brilliant. Go for it and it will be great if you buy it worth it',\n",
       " 'I’d like to start by saying that the overall experience with the iPhone 11 is super smooth and amazing in every aspect. It’s an absolute powerhouse.\\n\\nPerformance - The Apple A13 Bionic is super optimised. You will not face any performance issue at all. You will never have to worry about the lag on this one.\\n\\nBattery - Battery life is one of the best you can get in a iPhone at this time. It’s better than the XR. Average use can get you more than a day and heavy use will get you through the da...\\nREAD MORE',\n",
       " 'I liked it very much, super performance , giving best battery life around one day. fast charging is super. camera quality is excellent no words.',\n",
       " \"This is my first I phone and I'm very happy to have it but it's battery life is not good as Android have that's all. All over phone is Awesome\",\n",
       " 'Excellent service by Flipkart. The phone is true value for money, the camera is great especially the low light night photography.\\nThe processor is fast making gaming a lot of fun.\\nI read a lot of negative reviews about the display but I was using a OnePlus before and somehow the iphone 11 display is more easy on the eyes and the adaptive brightness is more effective than any of the other phones that I have used.\\nCharging is a bit slow owing to the smaller charger included in the box inste...\\nREAD MORE',\n",
       " 'It’s a quiet good for new users. And I’m happy with it. Thanks apple and Flipkart too. 😊♥️',\n",
       " 'I have my first iPhone\\nI love it\\nusing 15 day very good performance\\n\\nMobile- 5/4\\nCharging- 5/5\\nCamera- 5/5\\nBattery backup -5/5\\nDisplay- 5/4\\nCourier facility- 5/0 Very bad\\nCourier facility is poor. I have not happy in courier facility..',\n",
       " 'excellent mobile phone with amazing feautures. 100% value for money.The greatest attribute was its battery(all day long usage). dont hesitate to buy. Only difference between 11pro and 11 is display and its telescope lens remaining all are same',\n",
       " \"Good display in this phone however screen is LCD, you'll get a bit disappointed .\\nCamera is superb , I have tried underwater shot is sea water, works good. Video quality is a bit inferior as compared to similar price range phones.\\nPerformance is superb. Maybe the best in this range , even with A13 bionic chip and 4GB ram, it works really smooth.\\nBattery is fine, you'll get decent backup.\\nNo charger inside , that's very disappointing for 1st time users. I had previously iPhone and iPad so it...\\nREAD MORE\",\n",
       " 'At time of writing this review this phone processor definitely beat any flagship android phone !\\n\\nUpgraded from 7 Plus which is also quite good\\n\\nBut this phone performance is huge ! Fast and always to roll 😅\\nLow light Camera is great\\nBut i think portrait mode is not good as iPhone 7 plus\\nIn this phone portrait mode is looks like artificial but on my previous phone it looks like dslr photo maybe i am missing setting on this !\\n\\nOtherwise everything is good !',\n",
       " 'This is very second time I am using iphone I am not a huge fan of I phone but as my past experience iphone is always iphone whn you use it in your hand and it feel firmly buildup and camera quality is awesome processing is fast and realy smooth while using it.Night mode is awesome and photography is brilliant. Go for it and it will be great if you buy it worth it',\n",
       " 'I’d like to start by saying that the overall experience with the iPhone 11 is super smooth and amazing in every aspect. It’s an absolute powerhouse.\\n\\nPerformance - The Apple A13 Bionic is super optimised. You will not face any performance issue at all. You will never have to worry about the lag on this one.\\n\\nBattery - Battery life is one of the best you can get in a iPhone at this time. It’s better than the XR. Average use can get you more than a day and heavy use will get you through the da...\\nREAD MORE',\n",
       " 'Worst product delivered by Flipkart\\nAfter 10days of delivery mobile will not work properly\\nVolume and silent buttons are not working.\\nNo worth to buy in Flipkart.\\nPlease don’t buy apple products in Flipkart',\n",
       " 'Good buy.. working perfectly !\\n\\nThat was upgrade from 6S to 11. I see no deference in both the phones except:\\n1. Battery performance\\n2. Camera quality\\n3. Face detection unlock\\n\\nGo for it..!',\n",
       " 'I will just say its an awesome phone. Starting from speed , battery life, resolutions, camera quality, features it is superior in all department versus its predecessor. Also would like to state that at this price point it is an extraordinary value product. Recommend anyone who is looking for a highend smart phone within a range of 60k to 100K. .',\n",
       " 'Have used both iPhone X and iPhone XR and I can say upgrade only if you want better camera it’s awesome with great display even though lcd but still better than oled on iPhone X or XS.\\nThe camera is huge improvement in low light and very nice improvement in less light and times better than iPhone X but not that big improvement on iPhone XR in day light but very big improvement in low light.',\n",
       " 'Best phone in this price segment people say that it is a IPS display but don’t judge a book with the specs sheet only I have not seen any LCD Display like this in any smartphone industry leading IPS display . Everything is awesome in this phone but sometime but apple should have been giving OLED in this price segment',\n",
       " 'Just go for it without a second thought, if you are looking for a best phone in the market and want to save 40k to not go for iPhone 11 pro, the only thing i think this product is feel missing is Oled display software do the job of portrait, so go for it rather than 11 pro. Everything is at top with this phone. I am writing this review after using this phone for more than 2 months.',\n",
       " 'Nice camera for front and back.. The display is not as good because it makes sound when we tap on it! But overall it’s a good phone.',\n",
       " 'Best iphone ever.. best value for money phone.. easy to hold and face unlock is very fast and works even in dark.. looks very cool.. delivered in one day.. best flipkart experience and get also the original product. Red one is the .best color and most selling color so I love red one.',\n",
       " \"Genuine review after few weeks.\\nDecent camera quality.\\nDon't expect to meet the quality and features of the upcoming brands with cheaper prices and better megapixels. Overall smooth experience and everything seems so good. If you have used iOS before, you know the ease of using it.\\nLooks so secure and fast.\\nDefinately it beats my 6GB phones in performance.\\nIf you play games don't bother about RAM, the processor kills it.\\nOverall a good choice to switch from Android to iOS.\\nDon't expect that V...\\nREAD MORE\",\n",
       " \"I was using android phone earlier..I was thinking apple phones are much more costy than other phones with less specifications..so why to waste money in this??..But trust me guys once if you start using ios then you won't go back to android...beleive me this phone is the best than all other...There is no other phone which can beat iphones in terms of camera..iphones gives the best real image..its very faster and smoother than android phones...if you think to switch to ios iphone 11 is the best...\\nREAD MORE\",\n",
       " 'Worst product delivered by Flipkart\\nAfter 10days of delivery mobile will not work properly\\nVolume and silent buttons are not working.\\nNo worth to buy in Flipkart.\\nPlease don’t buy apple products in Flipkart',\n",
       " 'Good buy.. working perfectly !\\n\\nThat was upgrade from 6S to 11. I see no deference in both the phones except:\\n1. Battery performance\\n2. Camera quality\\n3. Face detection unlock\\n\\nGo for it..!',\n",
       " 'I will just say its an awesome phone. Starting from speed , battery life, resolutions, camera quality, features it is superior in all department versus its predecessor. Also would like to state that at this price point it is an extraordinary value product. Recommend anyone who is looking for a highend smart phone within a range of 60k to 100K. .',\n",
       " 'Have used both iPhone X and iPhone XR and I can say upgrade only if you want better camera it’s awesome with great display even though lcd but still better than oled on iPhone X or XS.\\nThe camera is huge improvement in low light and very nice improvement in less light and times better than iPhone X but not that big improvement on iPhone XR in day light but very big improvement in low light.',\n",
       " 'Best phone in this price segment people say that it is a IPS display but don’t judge a book with the specs sheet only I have not seen any LCD Display like this in any smartphone industry leading IPS display . Everything is awesome in this phone but sometime but apple should have been giving OLED in this price segment',\n",
       " 'Just go for it without a second thought, if you are looking for a best phone in the market and want to save 40k to not go for iPhone 11 pro, the only thing i think this product is feel missing is Oled display software do the job of portrait, so go for it rather than 11 pro. Everything is at top with this phone. I am writing this review after using this phone for more than 2 months.',\n",
       " 'Nice camera for front and back.. The display is not as good because it makes sound when we tap on it! But overall it’s a good phone.',\n",
       " 'Best iphone ever.. best value for money phone.. easy to hold and face unlock is very fast and works even in dark.. looks very cool.. delivered in one day.. best flipkart experience and get also the original product. Red one is the .best color and most selling color so I love red one.',\n",
       " \"Genuine review after few weeks.\\nDecent camera quality.\\nDon't expect to meet the quality and features of the upcoming brands with cheaper prices and better megapixels. Overall smooth experience and everything seems so good. If you have used iOS before, you know the ease of using it.\\nLooks so secure and fast.\\nDefinately it beats my 6GB phones in performance.\\nIf you play games don't bother about RAM, the processor kills it.\\nOverall a good choice to switch from Android to iOS.\\nDon't expect that V...\\nREAD MORE\",\n",
       " \"I was using android phone earlier..I was thinking apple phones are much more costy than other phones with less specifications..so why to waste money in this??..But trust me guys once if you start using ios then you won't go back to android...beleive me this phone is the best than all other...There is no other phone which can beat iphones in terms of camera..iphones gives the best real image..its very faster and smoother than android phones...if you think to switch to ios iphone 11 is the best...\\nREAD MORE\",\n",
       " 'I really liked the budget iPhone. First I thought display would be issue as it is a LCD with less pixels, then after using my perception changed and I never felt like I am using an outdated display. Though I also use S 10+ with Amoled display.\\n\\nSo this is perfect iPhone and a real value for money.',\n",
       " 'Bought iphone 11 last month. I must say that this is a good phone overall package for content creators, business persons. Very good camera quality. High end performance. Good screen and touch. But very expensive.',\n",
       " \"Loved it, although images get pixelated while using vivid mode , but overall performance wise it's worth buying..\",\n",
       " 'Awesome mobile… Battery Backup is really impressive, getting a solid battery life of 1.5 days with a normal usage. Even if u are a heavy user, u will get a day of backup for sure. Excellent audio quality. Overall I’m very much satisfied with the device :)',\n",
       " 'I have been using iphone 11 model since its launch. Here is my review\\nPros:\\nPerformance\\nPrivacy\\nOS Updates\\nBuild quality\\nSound\\n\\nCons:\\nDisplay issue: After using for nearly a year a small line popped up at left notch and slowly it spread to right notch. Well it could an exceptional case\\n\\nAt this price range \\uf8ff could have given OLED screen.\\n\\nPrice: I strongly believe this product has been overpriced.\\nSignal Issue: I see this issue across the \\uf8ff devices.\\nCharging: I takes around 4hrs for 100% wit...\\nREAD MORE',\n",
       " \"I am using IOS devices since last 4 years. So its not a new thing for me. But this model is such an extraordinary product that Apple has ever made. I am putting some points for helping other buyers.\\nBattery- Don't know what technology they are using in it, but literally it shocks everyone by its power consumption and backup. A big 👍 to Team Apple.\\nCamera- People are usually running behind the numbers of lenses. But when it comes to an Iphone, u don't need to count the lenses. Its Dynamic Ra...\\nREAD MORE\",\n",
       " 'Finally switched to iOS from android\\nThere is some things which u can’t do like using android but it’s worth to iOS. Battery backup is good holds for a day in average. Cam quality is okay. Good night mode visibility.',\n",
       " 'Very good smartphone and value for smoother and speedy response and work',\n",
       " 'This is very nice phone with great camera, performance, battery but their display is not good as their price overall best iphone to purchase right now',\n",
       " 'Got delivered by good packing from Flipkart with a agreed time line. Apple always stood good and great products towards their customers and this is my 2nd Iphone overall experience with phone is great, Especially when it comes battery gives long-standing performance for applications and gaming purposes, Camera is one of the great features includes in this mobile\\n\\nI will strongly suggest this !',\n",
       " 'I really liked the budget iPhone. First I thought display would be issue as it is a LCD with less pixels, then after using my perception changed and I never felt like I am using an outdated display. Though I also use S 10+ with Amoled display.\\n\\nSo this is perfect iPhone and a real value for money.',\n",
       " 'Bought iphone 11 last month. I must say that this is a good phone overall package for content creators, business persons. Very good camera quality. High end performance. Good screen and touch. But very expensive.',\n",
       " \"Loved it, although images get pixelated while using vivid mode , but overall performance wise it's worth buying..\",\n",
       " 'Awesome mobile… Battery Backup is really impressive, getting a solid battery life of 1.5 days with a normal usage. Even if u are a heavy user, u will get a day of backup for sure. Excellent audio quality. Overall I’m very much satisfied with the device :)',\n",
       " 'I have been using iphone 11 model since its launch. Here is my review\\nPros:\\nPerformance\\nPrivacy\\nOS Updates\\nBuild quality\\nSound\\n\\nCons:\\nDisplay issue: After using for nearly a year a small line popped up at left notch and slowly it spread to right notch. Well it could an exceptional case\\n\\nAt this price range \\uf8ff could have given OLED screen.\\n\\nPrice: I strongly believe this product has been overpriced.\\nSignal Issue: I see this issue across the \\uf8ff devices.\\nCharging: I takes around 4hrs for 100% wit...\\nREAD MORE',\n",
       " \"I am using IOS devices since last 4 years. So its not a new thing for me. But this model is such an extraordinary product that Apple has ever made. I am putting some points for helping other buyers.\\nBattery- Don't know what technology they are using in it, but literally it shocks everyone by its power consumption and backup. A big 👍 to Team Apple.\\nCamera- People are usually running behind the numbers of lenses. But when it comes to an Iphone, u don't need to count the lenses. Its Dynamic Ra...\\nREAD MORE\",\n",
       " 'Finally switched to iOS from android\\nThere is some things which u can’t do like using android but it’s worth to iOS. Battery backup is good holds for a day in average. Cam quality is okay. Good night mode visibility.',\n",
       " 'Very good smartphone and value for smoother and speedy response and work',\n",
       " 'This is very nice phone with great camera, performance, battery but their display is not good as their price overall best iphone to purchase right now',\n",
       " 'Got delivered by good packing from Flipkart with a agreed time line. Apple always stood good and great products towards their customers and this is my 2nd Iphone overall experience with phone is great, Especially when it comes battery gives long-standing performance for applications and gaming purposes, Camera is one of the great features includes in this mobile\\n\\nI will strongly suggest this !',\n",
       " 'Iphone is best ever but Flipkart delivered is quality on the product is so promising i really satisfied and trust with it by Flipkart assured\\nTq..🥰',\n",
       " 'Quite osm more then expected . Purple color truly recommended its lookin so beautiful then others .Someone suggest me and have selected the same color its beautiful.\\n\\n\\nPerformance is far better then my last i phone',\n",
       " 'My first iPhone. Still wondering where was I lost all this while. Always thought that an iPhone is just to pricey and not worth its cost. Trust me, I didn’t regret once for this mighty purchase. It is a different ecosystem all together and I have become an Apple fan instantly. Now all my gadgets ought to be Apple. Just seamless, timeless, super smooth, flamboyant, style statement, and the list is endless. The back camera is worth the hype not the selfie camera. Sound quality is surround sound...\\nREAD MORE',\n",
       " 'PROS:\\n1. Ballistic performance\\n2. Amazing image quality from the camera setup\\n3. Superb battery performance,\\n4. Design\\n5. Fit and finish.\\n6. iOS 13 integration with the hardware.\\nCONS:\\n1. Display quality leaves a lot to be desired. The non-1080p display is hardly noticeable during regular usage and is more than a pass. But if you are someone who use their phone for a majority of video playback, you’re in for a disappointment. Otherwise, it’s perfect for every other need.\\n2. The overall s...\\nREAD MORE',\n",
       " 'iPhone 11 is good but if someone want Superior phone then go for 11 pro because screen display is too good from iPhone 11 and as well as camera quality',\n",
       " 'Everything good as expected from Apple, but only thing thing missing is the 18w power adapter, because if the phone is compatible for fast charging and it takes more than 3 hours for full charge on a normal charger then it should come bundled with the 18w adapter.',\n",
       " 'Great product as usual. Handy phone with best processor and camera quality in the market. Recommended 128GB storage 👍',\n",
       " 'Terrific!!! Lucky to get this phone in first lot. First switch over for me from android. awesome camera.. One of the best in class.. go for iphone 11 if you are the first time user.',\n",
       " 'Iphone 11 black 64gb is really a cool phone\\n\\n1. Camera is superb using it long time heats the phone a bit\\n2. iOS 13 is elegant and nice\\n3. Video yet to test\\n4. Charger : Phone has the capability to fast charge but charger is not capable of doing it which frustrates being a top brand and providing and charger like this is worst from Apple\\n5. Sound quality especially in headphones is wonderful',\n",
       " 'This is phone is super duper sexy.\\nYou will get in love with this phone the moment you will unbox it.\\nPerformance is awesome.\\nSo smooth, easy to handle.\\nSometimes, if working continuously, you will feel that the phone is heavy otherwise you won’t if worked for shorter period of time.\\nI would personally suggest you to go for 128GB version because it will be a true value for money.\\nTalking about colour, I find white colour as a royal one.',\n",
       " 'Iphone is best ever but Flipkart delivered is quality on the product is so promising i really satisfied and trust with it by Flipkart assured\\nTq..🥰',\n",
       " 'Quite osm more then expected . Purple color truly recommended its lookin so beautiful then others .Someone suggest me and have selected the same color its beautiful.\\n\\n\\nPerformance is far better then my last i phone',\n",
       " 'My first iPhone. Still wondering where was I lost all this while. Always thought that an iPhone is just to pricey and not worth its cost. Trust me, I didn’t regret once for this mighty purchase. It is a different ecosystem all together and I have become an Apple fan instantly. Now all my gadgets ought to be Apple. Just seamless, timeless, super smooth, flamboyant, style statement, and the list is endless. The back camera is worth the hype not the selfie camera. Sound quality is surround sound...\\nREAD MORE',\n",
       " 'PROS:\\n1. Ballistic performance\\n2. Amazing image quality from the camera setup\\n3. Superb battery performance,\\n4. Design\\n5. Fit and finish.\\n6. iOS 13 integration with the hardware.\\nCONS:\\n1. Display quality leaves a lot to be desired. The non-1080p display is hardly noticeable during regular usage and is more than a pass. But if you are someone who use their phone for a majority of video playback, you’re in for a disappointment. Otherwise, it’s perfect for every other need.\\n2. The overall s...\\nREAD MORE',\n",
       " 'iPhone 11 is good but if someone want Superior phone then go for 11 pro because screen display is too good from iPhone 11 and as well as camera quality',\n",
       " 'Everything good as expected from Apple, but only thing thing missing is the 18w power adapter, because if the phone is compatible for fast charging and it takes more than 3 hours for full charge on a normal charger then it should come bundled with the 18w adapter.',\n",
       " 'Great product as usual. Handy phone with best processor and camera quality in the market. Recommended 128GB storage 👍',\n",
       " 'Terrific!!! Lucky to get this phone in first lot. First switch over for me from android. awesome camera.. One of the best in class.. go for iphone 11 if you are the first time user.',\n",
       " 'Iphone 11 black 64gb is really a cool phone\\n\\n1. Camera is superb using it long time heats the phone a bit\\n2. iOS 13 is elegant and nice\\n3. Video yet to test\\n4. Charger : Phone has the capability to fast charge but charger is not capable of doing it which frustrates being a top brand and providing and charger like this is worst from Apple\\n5. Sound quality especially in headphones is wonderful',\n",
       " 'This is phone is super duper sexy.\\nYou will get in love with this phone the moment you will unbox it.\\nPerformance is awesome.\\nSo smooth, easy to handle.\\nSometimes, if working continuously, you will feel that the phone is heavy otherwise you won’t if worked for shorter period of time.\\nI would personally suggest you to go for 128GB version because it will be a true value for money.\\nTalking about colour, I find white colour as a royal one.']"
      ]
     },
     "execution_count": 12,
     "metadata": {},
     "output_type": "execute_result"
    }
   ],
   "source": [
    "fullreview"
   ]
  },
  {
   "cell_type": "code",
   "execution_count": 13,
   "id": "fa4763c4",
   "metadata": {},
   "outputs": [
    {
     "data": {
      "text/plain": [
       "110"
      ]
     },
     "execution_count": 13,
     "metadata": {},
     "output_type": "execute_result"
    }
   ],
   "source": [
    "len(fullreview)"
   ]
  },
  {
   "cell_type": "code",
   "execution_count": 14,
   "id": "0b56b3d4",
   "metadata": {},
   "outputs": [],
   "source": [
    "reviewsummary=[]\n",
    "for i in range(0,11):\n",
    "    rs_tags=driver.find_elements_by_xpath(\"//p[@class='_2-N8zT']\")\n",
    "    for i in rs_tags:\n",
    "        rs=i.text\n",
    "        reviewsummary.append(rs)\n",
    "    next_button=driver.find_element_by_xpath(\"/html/body/div[1]/div/div[3]/div/div/div[2]/div[13]/div/div/nav/a[12]\")\n",
    "    next_button.click()\n",
    "    time.sleep(5)"
   ]
  },
  {
   "cell_type": "code",
   "execution_count": 15,
   "id": "980988ee",
   "metadata": {},
   "outputs": [
    {
     "data": {
      "text/plain": [
       "['Worth every penny',\n",
       " 'Super!',\n",
       " 'Terrific',\n",
       " 'Mind-blowing purchase',\n",
       " 'Awesome',\n",
       " 'Wonderful',\n",
       " 'Does the job',\n",
       " 'Terrific',\n",
       " 'Fabulous!',\n",
       " 'Just okay',\n",
       " 'Worth every penny',\n",
       " 'Super!',\n",
       " 'Terrific',\n",
       " 'Mind-blowing purchase',\n",
       " 'Awesome',\n",
       " 'Wonderful',\n",
       " 'Does the job',\n",
       " 'Terrific',\n",
       " 'Fabulous!',\n",
       " 'Just okay',\n",
       " 'Terrific purchase',\n",
       " 'Expected a better product',\n",
       " 'Delightful',\n",
       " 'Mind-blowing purchase',\n",
       " 'Good quality product',\n",
       " 'Simply awesome',\n",
       " 'Wonderful',\n",
       " 'Classy product',\n",
       " 'Excellent',\n",
       " 'Perfect product!',\n",
       " 'Terrific purchase',\n",
       " 'Expected a better product',\n",
       " 'Delightful',\n",
       " 'Mind-blowing purchase',\n",
       " 'Good quality product',\n",
       " 'Simply awesome',\n",
       " 'Wonderful',\n",
       " 'Classy product',\n",
       " 'Excellent',\n",
       " 'Perfect product!',\n",
       " 'Super!',\n",
       " 'Brilliant',\n",
       " 'Mind-blowing purchase',\n",
       " 'Terrific purchase',\n",
       " 'Excellent',\n",
       " 'Mind-blowing purchase',\n",
       " 'Super!',\n",
       " 'Brilliant',\n",
       " 'Wonderful',\n",
       " 'Classy product',\n",
       " 'Classy product',\n",
       " 'Mind-blowing purchase',\n",
       " 'Fabulous!',\n",
       " 'Fabulous!',\n",
       " 'Brilliant',\n",
       " 'Highly recommended',\n",
       " 'Awesome',\n",
       " 'Great product',\n",
       " 'Worth every penny',\n",
       " 'Terrific purchase',\n",
       " 'Classy product',\n",
       " 'Mind-blowing purchase',\n",
       " 'Fabulous!',\n",
       " 'Fabulous!',\n",
       " 'Brilliant',\n",
       " 'Highly recommended',\n",
       " 'Awesome',\n",
       " 'Great product',\n",
       " 'Worth every penny',\n",
       " 'Terrific purchase',\n",
       " 'Simply awesome',\n",
       " 'Perfect product!',\n",
       " 'Highly recommended',\n",
       " 'Perfect product!',\n",
       " 'Just wow!',\n",
       " 'Super!',\n",
       " 'Best in the market!',\n",
       " 'Wonderful',\n",
       " 'Classy product',\n",
       " 'Perfect product!',\n",
       " 'Simply awesome',\n",
       " 'Perfect product!',\n",
       " 'Highly recommended',\n",
       " 'Perfect product!',\n",
       " 'Just wow!',\n",
       " 'Super!',\n",
       " 'Best in the market!',\n",
       " 'Wonderful',\n",
       " 'Classy product',\n",
       " 'Perfect product!',\n",
       " 'Super!',\n",
       " 'Pretty good',\n",
       " 'Brilliant',\n",
       " 'Perfect product!',\n",
       " 'Worth the money',\n",
       " 'Wonderful',\n",
       " 'Perfect product!',\n",
       " 'Good choice',\n",
       " 'Pretty good',\n",
       " 'Excellent',\n",
       " 'Super!',\n",
       " 'Pretty good',\n",
       " 'Brilliant',\n",
       " 'Perfect product!',\n",
       " 'Worth the money',\n",
       " 'Wonderful',\n",
       " 'Perfect product!',\n",
       " 'Good choice',\n",
       " 'Pretty good',\n",
       " 'Excellent']"
      ]
     },
     "execution_count": 15,
     "metadata": {},
     "output_type": "execute_result"
    }
   ],
   "source": [
    "reviewsummary"
   ]
  },
  {
   "cell_type": "code",
   "execution_count": 16,
   "id": "0f3662e7",
   "metadata": {},
   "outputs": [
    {
     "data": {
      "text/plain": [
       "110"
      ]
     },
     "execution_count": 16,
     "metadata": {},
     "output_type": "execute_result"
    }
   ],
   "source": [
    "len(reviewsummary)"
   ]
  },
  {
   "cell_type": "code",
   "execution_count": 18,
   "id": "feed9721",
   "metadata": {},
   "outputs": [],
   "source": [
    "rating=rating[0:100]\n",
    "fullreview=fullreview[0:100]\n",
    "reviewsummary=reviewsummary[0:100]"
   ]
  },
  {
   "cell_type": "code",
   "execution_count": 19,
   "id": "f95128bd",
   "metadata": {},
   "outputs": [
    {
     "data": {
      "text/html": [
       "<div>\n",
       "<style scoped>\n",
       "    .dataframe tbody tr th:only-of-type {\n",
       "        vertical-align: middle;\n",
       "    }\n",
       "\n",
       "    .dataframe tbody tr th {\n",
       "        vertical-align: top;\n",
       "    }\n",
       "\n",
       "    .dataframe thead th {\n",
       "        text-align: right;\n",
       "    }\n",
       "</style>\n",
       "<table border=\"1\" class=\"dataframe\">\n",
       "  <thead>\n",
       "    <tr style=\"text-align: right;\">\n",
       "      <th></th>\n",
       "      <th>Rating</th>\n",
       "      <th>ReviewSummary</th>\n",
       "      <th>FullReview</th>\n",
       "    </tr>\n",
       "  </thead>\n",
       "  <tbody>\n",
       "    <tr>\n",
       "      <th>0</th>\n",
       "      <td>5</td>\n",
       "      <td>Worth every penny</td>\n",
       "      <td>Got my iPhone 11 today! It’s totally worth it ...</td>\n",
       "    </tr>\n",
       "    <tr>\n",
       "      <th>1</th>\n",
       "      <td>5</td>\n",
       "      <td>Super!</td>\n",
       "      <td>Great quality at not so great price, But worth...</td>\n",
       "    </tr>\n",
       "    <tr>\n",
       "      <th>2</th>\n",
       "      <td>5</td>\n",
       "      <td>Terrific</td>\n",
       "      <td>Wow wow and wow, in 48k you will not get anyth...</td>\n",
       "    </tr>\n",
       "    <tr>\n",
       "      <th>3</th>\n",
       "      <td>5</td>\n",
       "      <td>Mind-blowing purchase</td>\n",
       "      <td>Reviewing within 1st Month\\n\\n\\n1st Month Revi...</td>\n",
       "    </tr>\n",
       "    <tr>\n",
       "      <th>4</th>\n",
       "      <td>5</td>\n",
       "      <td>Awesome</td>\n",
       "      <td>Value for money product. This iphone 11 is rea...</td>\n",
       "    </tr>\n",
       "    <tr>\n",
       "      <th>...</th>\n",
       "      <td>...</td>\n",
       "      <td>...</td>\n",
       "      <td>...</td>\n",
       "    </tr>\n",
       "    <tr>\n",
       "      <th>95</th>\n",
       "      <td>5</td>\n",
       "      <td>Wonderful</td>\n",
       "      <td>Everything good as expected from Apple, but on...</td>\n",
       "    </tr>\n",
       "    <tr>\n",
       "      <th>96</th>\n",
       "      <td>4</td>\n",
       "      <td>Perfect product!</td>\n",
       "      <td>Great product as usual. Handy phone with best ...</td>\n",
       "    </tr>\n",
       "    <tr>\n",
       "      <th>97</th>\n",
       "      <td>4</td>\n",
       "      <td>Good choice</td>\n",
       "      <td>Terrific!!! Lucky to get this phone in first l...</td>\n",
       "    </tr>\n",
       "    <tr>\n",
       "      <th>98</th>\n",
       "      <td>5</td>\n",
       "      <td>Pretty good</td>\n",
       "      <td>Iphone 11 black 64gb is really a cool phone\\n\\...</td>\n",
       "    </tr>\n",
       "    <tr>\n",
       "      <th>99</th>\n",
       "      <td>4</td>\n",
       "      <td>Excellent</td>\n",
       "      <td>This is phone is super duper sexy.\\nYou will g...</td>\n",
       "    </tr>\n",
       "  </tbody>\n",
       "</table>\n",
       "<p>100 rows × 3 columns</p>\n",
       "</div>"
      ],
      "text/plain": [
       "   Rating          ReviewSummary  \\\n",
       "0       5      Worth every penny   \n",
       "1       5                 Super!   \n",
       "2       5               Terrific   \n",
       "3       5  Mind-blowing purchase   \n",
       "4       5                Awesome   \n",
       "..    ...                    ...   \n",
       "95      5              Wonderful   \n",
       "96      4       Perfect product!   \n",
       "97      4            Good choice   \n",
       "98      5            Pretty good   \n",
       "99      4              Excellent   \n",
       "\n",
       "                                           FullReview  \n",
       "0   Got my iPhone 11 today! It’s totally worth it ...  \n",
       "1   Great quality at not so great price, But worth...  \n",
       "2   Wow wow and wow, in 48k you will not get anyth...  \n",
       "3   Reviewing within 1st Month\\n\\n\\n1st Month Revi...  \n",
       "4   Value for money product. This iphone 11 is rea...  \n",
       "..                                                ...  \n",
       "95  Everything good as expected from Apple, but on...  \n",
       "96  Great product as usual. Handy phone with best ...  \n",
       "97  Terrific!!! Lucky to get this phone in first l...  \n",
       "98  Iphone 11 black 64gb is really a cool phone\\n\\...  \n",
       "99  This is phone is super duper sexy.\\nYou will g...  \n",
       "\n",
       "[100 rows x 3 columns]"
      ]
     },
     "execution_count": 19,
     "metadata": {},
     "output_type": "execute_result"
    }
   ],
   "source": [
    "df=pd.DataFrame({'Rating':rating,'ReviewSummary':reviewsummary,'FullReview':fullreview})\n",
    "df"
   ]
  },
  {
   "cell_type": "code",
   "execution_count": 20,
   "id": "147a7f7a",
   "metadata": {},
   "outputs": [],
   "source": [
    "driver.close()"
   ]
  },
  {
   "cell_type": "code",
   "execution_count": 3,
   "id": "175d326b",
   "metadata": {},
   "outputs": [],
   "source": [
    "driver.get('https://www.flipkart.com/')"
   ]
  },
  {
   "cell_type": "code",
   "execution_count": 4,
   "id": "6036f0a3",
   "metadata": {},
   "outputs": [],
   "source": [
    "search_field_designation=driver.find_element_by_xpath(\"/html/body/div[1]/div/div[1]/div[1]/div[2]/div[2]/form/div/div/input\")\n",
    "search_field_designation.send_keys(\"Sneakers\")\n"
   ]
  },
  {
   "cell_type": "code",
   "execution_count": 5,
   "id": "2b259591",
   "metadata": {},
   "outputs": [],
   "source": [
    "search_button=driver.find_element_by_xpath(\"/html/body/div[1]/div/div[1]/div[1]/div[2]/div[2]/form/div/button\")\n",
    "search_button.click()\n"
   ]
  },
  {
   "cell_type": "code",
   "execution_count": 6,
   "id": "58d332ef",
   "metadata": {},
   "outputs": [],
   "source": [
    "brand=[]\n",
    "for i in range(0,3):\n",
    "    b_tags=driver.find_elements_by_xpath(\"//div[@class='_2WkVRV']\")\n",
    "    for i in b_tags:\n",
    "        br=i.text\n",
    "        brand.append(br)\n",
    "    next_button=driver.find_element_by_xpath(\"/html/body/div[1]/div/div[3]/div[1]/div[2]/div[12]/div/div/nav/a[11]\")\n",
    "    next_button.click()\n",
    "    time.sleep(5)\n",
    "\n"
   ]
  },
  {
   "cell_type": "code",
   "execution_count": 7,
   "id": "c2c8fe52",
   "metadata": {},
   "outputs": [
    {
     "data": {
      "text/plain": [
       "['BRUTON',\n",
       " 'RapidBox',\n",
       " 'URBANBOX',\n",
       " 'BRUTON',\n",
       " 'Labbin',\n",
       " 'corsac',\n",
       " 'BIRDE',\n",
       " 'Roadster',\n",
       " 'KWIK FIT',\n",
       " 'ONECENTRE',\n",
       " 'World Wear Footwear',\n",
       " 'HRX by Hrithik Roshan',\n",
       " 'BRUTON',\n",
       " 'ASTEROID',\n",
       " 'BRUTON',\n",
       " 'Roadster',\n",
       " 'World Wear Footwear',\n",
       " 'Kraasa',\n",
       " 'Layasa',\n",
       " 'BRUTON',\n",
       " 'aadi',\n",
       " 'ASTEROID',\n",
       " 'Kraasa',\n",
       " 'KWIK FIT',\n",
       " 'SCATCHITE',\n",
       " 'corsac',\n",
       " 'World Wear Footwear',\n",
       " 'RapidBox',\n",
       " 'CLYMB',\n",
       " 'Chevit',\n",
       " 'luxury fashion',\n",
       " 'HRX by Hrithik Roshan',\n",
       " 'World Wear Footwear',\n",
       " 'BRUTON',\n",
       " 'Robbie jones',\n",
       " 'Echor',\n",
       " 'Hida',\n",
       " 'Numenzo',\n",
       " 'Echor',\n",
       " 'Numenzo',\n",
       " 'Hida',\n",
       " 'WHITE WALKERS',\n",
       " 'Bacan',\n",
       " 'KWIK FIT',\n",
       " 'Arohi',\n",
       " 'EMPTILE',\n",
       " 'Echor',\n",
       " 'DUNKASTON',\n",
       " 'Kraasa',\n",
       " 'Chevit',\n",
       " 'Robbie jones',\n",
       " 'Hotmess',\n",
       " 'BIRDE',\n",
       " 'PUMA',\n",
       " 'Robbie jones',\n",
       " 'Bacan',\n",
       " 'Dizzler',\n",
       " 'ASIAN',\n",
       " 'SPARX',\n",
       " 'Bretton',\n",
       " 'Robbie jones',\n",
       " 'Chevit',\n",
       " 'MAFLO',\n",
       " 'Glowlife',\n",
       " 'RODDICK SHOES',\n",
       " 'RapidBox',\n",
       " 'WHITE WALKERS',\n",
       " 'Blue Horse',\n",
       " 'Ktiz',\n",
       " 'ASIAN',\n",
       " 'ASIAN',\n",
       " 'Rontex',\n",
       " 'Chevit',\n",
       " 'Robbie jones',\n",
       " 'Airland',\n",
       " 'DUNKASTON',\n",
       " 'PEXLO',\n",
       " 'Shoes Bank',\n",
       " 'bluemaker',\n",
       " 'Viv',\n",
       " 'Zsyto',\n",
       " 'BIRDE',\n",
       " 'HOTSTYLE',\n",
       " 'Absolutee shoes',\n",
       " 'PEXLO',\n",
       " 'SPARX',\n",
       " 'BRUTON',\n",
       " 'PUMA',\n",
       " 'U.S. POLO ASSN.',\n",
       " 'PUMA',\n",
       " 'Mr ShoesWala',\n",
       " 'PUMA',\n",
       " 'RED TAPE',\n",
       " 'BRUTON',\n",
       " 'Old Skool',\n",
       " 'Extoes',\n",
       " 'SPARX',\n",
       " 'U.S. POLO ASSN.',\n",
       " 'DUCATI',\n",
       " 'iD',\n",
       " 'EZDEZARIO',\n",
       " 'PUMA',\n",
       " 'PUMA',\n",
       " 'PUMA',\n",
       " 'bacca bucci',\n",
       " 'DUCATI',\n",
       " \"LEVI'S\",\n",
       " 'Absolutee shoes',\n",
       " 'Roadster',\n",
       " 'KNIGHT WALKERS',\n",
       " 'ADIDAS ORIGINALS',\n",
       " 'CALCADOS',\n",
       " 'SPARX',\n",
       " 'Airland',\n",
       " \"Neeman's\",\n",
       " 'Cipramo',\n",
       " 'T-ROCK',\n",
       " 'Zixer',\n",
       " 'Skechers',\n",
       " 'Absolutee shoes']"
      ]
     },
     "execution_count": 7,
     "metadata": {},
     "output_type": "execute_result"
    }
   ],
   "source": [
    "brand"
   ]
  },
  {
   "cell_type": "code",
   "execution_count": 8,
   "id": "208764db",
   "metadata": {},
   "outputs": [
    {
     "data": {
      "text/plain": [
       "120"
      ]
     },
     "execution_count": 8,
     "metadata": {},
     "output_type": "execute_result"
    }
   ],
   "source": [
    "len(brand)"
   ]
  },
  {
   "cell_type": "code",
   "execution_count": 14,
   "id": "75bb7c28",
   "metadata": {},
   "outputs": [],
   "source": [
    "description=[]\n",
    "for i in range(0,3):\n",
    "    d_tags=driver.find_elements_by_xpath(\"//a[@class='IRpwTa']\")\n",
    "    for i in d_tags:\n",
    "        de=i.text\n",
    "        description.append(de)\n",
    "    next_button=driver.find_element_by_xpath(\"/html/body/div[1]/div/div[3]/div[1]/div[2]/div[12]/div/div/nav/a[11]\")\n",
    "    next_button.click()\n",
    "    time.sleep(5)"
   ]
  },
  {
   "cell_type": "code",
   "execution_count": 15,
   "id": "cc2d7b5e",
   "metadata": {
    "scrolled": true
   },
   "outputs": [
    {
     "data": {
      "text/plain": [
       "['Sneakers For Men',\n",
       " 'Sneakers For Men',\n",
       " 'Canvas shoes for Men Sneakers For Men',\n",
       " 'Sneakers For Men',\n",
       " 'STYLISH MENS BLACK AND WHITE SNEAKER Sneakers For Men',\n",
       " 'Stylish Comfortable Lightweight, Breathable Walking Sho...',\n",
       " 'PL Neo Cat Sneakers For Men',\n",
       " 'Kwik FIT casual sneaker shoes and partywear shoes Casua...',\n",
       " 'STR2 Sneakers For Men',\n",
       " 'Men 5014 Latest Collection Stylish Casual Sports Loafer...',\n",
       " 'PL Neo Cat Sneakers For Men',\n",
       " 'Sneaker Sneakers For Men',\n",
       " '5011-Latest Collection Stylish & Trendy Casual Sneakers...',\n",
       " 'Original Luxury Branded Black Fancy Casual Walking Part...',\n",
       " 'Sneakers For Men',\n",
       " 'Lattest Sneakers Shoe Sneakers For Men',\n",
       " 'Shark-41 Sneakers For Men',\n",
       " 'Sneakers For Men',\n",
       " 'Sneakers For Men',\n",
       " 'Sneakers For Men',\n",
       " \"Luxury Branded Fashionable Men's Casual Walking Partywe...\",\n",
       " 'Series 7 Sneakers For Men',\n",
       " 'STYLISH MENS BLACK TRENDY SNEAKER FOR MENS Sneakers For...',\n",
       " 'Sneakers Sneakers For Men',\n",
       " '5013-Latest Collection Stylish & Trendy of casuals Snea...',\n",
       " 'Sneakers For Men',\n",
       " 'Sneakers For Men',\n",
       " 'Sneakers For Men',\n",
       " 'Latest Collection-1227 Stylish Casual Sports Sneakers F...',\n",
       " 'Lightweight Pack Of 1 Trendy Sneakers Sneakers For Men',\n",
       " 'Sneakers For Men',\n",
       " '411 Casual Sneakers For Men',\n",
       " \"Men's Sneakers Fashion Lightweight Running Shoes Tennis...\",\n",
       " 'Sneakers For Men',\n",
       " 'Stylish & Trending Outdoor Walking Comfortable Sneakers...',\n",
       " 'Sneakers For Men',\n",
       " 'Sneakers For Men',\n",
       " 'Sneakers For Men',\n",
       " 'all white heartbeat casual shoe Sneakers For Men',\n",
       " \"Men's Sneakers Fashion Lightweight Running Shoes Tennis...\",\n",
       " 'Casuals, Canvas, Partywear Sneakers For Men',\n",
       " 'Chevit Combo Pack of 5 Casual Sneakers With Canvas Shoe...',\n",
       " 'Sneakers For Men',\n",
       " 'Stylish Comfortable Lightweight, Breathable Walking Sho...',\n",
       " 'Play one8 Sneakers For Men',\n",
       " 'Sneakers For Men',\n",
       " 'WATERPROOF-05cFULLBLACK Sneakers For Men',\n",
       " 'Men White Sneakers Sneakers For Men',\n",
       " 'Casual Sneakers Shoes For Men And Boys Sneakers For Men',\n",
       " 'Perfect Combo Pack of 02 Pairs Casual Sneakers Outdoor ...',\n",
       " 'Sneakers For Men',\n",
       " 'Fashion Outdoor Canvas Casual Light Weight Lace-up Even...',\n",
       " 'Stylish & Trending Outdoor Walking Comfortable Sneakers...',\n",
       " 'Sneakers For Men',\n",
       " 'WATERPROOF-05cFULLWHITE Sneakers For Men',\n",
       " 'Skypy-31 Walking Shoes,Training Shoes,Sneakers,Loafers,...',\n",
       " '516 Trendy Star Perfect Sneakers For Men',\n",
       " 'Casual Sneakers White Shoes For Men Sneakers For Men',\n",
       " '1259 smart black lace-ups sneakers for men Sneakers For...',\n",
       " 'Combo Pack of 3 Casual Shoes Sneakers For Men',\n",
       " \"White Sneaker For Men's/Boy's Sneakers For Men\",\n",
       " 'casual shoe for men Sneakers For Men',\n",
       " 'Sneakers For Men',\n",
       " 'Black 303 Casual Shoes (Sneakers Shoes) Sneakers For Me...',\n",
       " 'Luxury Fashionable casual sneaker shoes Sneakers For Me...',\n",
       " 'Sneakers For Men',\n",
       " 'Sneakers For Men',\n",
       " 'Sneakers For Men',\n",
       " 'Boys White Sports Shoes/ White Lace Up/White Canvas/Whi...',\n",
       " 'Stylish and Trendy New Design Lightweight,Casual shoes ...',\n",
       " 'Combo Pack of 3 Casual Shoes, Sneakers For Men',\n",
       " 'Casual Sneakers Sneakers For Men',\n",
       " 'Combo Pack Of 2 Latest Stylish Casual Shoes for Men Lac...',\n",
       " 'Sneakers For Men',\n",
       " 'UP Sneakers For Men',\n",
       " \"Men's Casual Shoes in White Color Walking Running Gymwe...\",\n",
       " 'Combo Pack Of 4 Canvas Sneakers For Men',\n",
       " 'SD-323 Sneakers For Men',\n",
       " 'Nassy Sneakers For Men',\n",
       " 'Sneakers For Men',\n",
       " 'Fashion Outdoor Canvas Casual Light Weight Lace-up Even...',\n",
       " 'R78 Trek Sneakers For Men',\n",
       " 'Smash L Sneakers For Men',\n",
       " 'Comfy Mid-Top Casual Chunky Streetwear Fashion Sneakers...',\n",
       " 'Sneakers For Men',\n",
       " 'INDI EXCLUSIVE Sneakers For Men',\n",
       " 'Sneakers For Men',\n",
       " 'Sneakers For Men',\n",
       " 'Stan Smith Sneakers For Men',\n",
       " 'Men SM-406 Navy Blue Grey Sneakers For Men',\n",
       " 'Sneakers For Men',\n",
       " 'Sneakers For Men',\n",
       " 'Stylish White Casual Sneakers shoes Men and Boys Sneake...',\n",
       " 'GLIDE-STEP SPORT-CONTROLLER Sneakers For Men',\n",
       " 'Combo Pack of 2 Casual Shoes (Loafers Shoes) Sneakers F...',\n",
       " 'Men White Solid Sneakers Sneakers For Men',\n",
       " 'Wild Rider Rollin Sneakers For Men',\n",
       " 'U.S. Polo Assn. Men Black Blue Colourblocked Sneakers S...',\n",
       " 'Sneakers For Men',\n",
       " 'Sneakers For Men']"
      ]
     },
     "execution_count": 15,
     "metadata": {},
     "output_type": "execute_result"
    }
   ],
   "source": [
    "description"
   ]
  },
  {
   "cell_type": "code",
   "execution_count": 16,
   "id": "06f92daa",
   "metadata": {},
   "outputs": [
    {
     "data": {
      "text/plain": [
       "100"
      ]
     },
     "execution_count": 16,
     "metadata": {},
     "output_type": "execute_result"
    }
   ],
   "source": [
    "len(description)"
   ]
  },
  {
   "cell_type": "code",
   "execution_count": 17,
   "id": "8f4e1fe9",
   "metadata": {},
   "outputs": [],
   "source": [
    "prices=[]\n",
    "for i in range(0,3):\n",
    "    pr_tags=driver.find_elements_by_xpath(\"//div[@class='_30jeq3']\")\n",
    "    for i in pr_tags:\n",
    "        price=i.text\n",
    "        prices.append(price)\n",
    "    next_button=driver.find_element_by_xpath(\"/html/body/div[1]/div/div[3]/div[1]/div[2]/div[12]/div/div/nav/a[11]\")\n",
    "    next_button.click()\n",
    "    time.sleep(5)"
   ]
  },
  {
   "cell_type": "code",
   "execution_count": 18,
   "id": "8f52ab94",
   "metadata": {},
   "outputs": [
    {
     "data": {
      "text/plain": [
       "['₹4,049',\n",
       " '₹249',\n",
       " '₹449',\n",
       " '₹1,099',\n",
       " '₹796',\n",
       " '₹1,826',\n",
       " '₹3,380',\n",
       " '₹3,819',\n",
       " '₹1,862',\n",
       " '₹2,885',\n",
       " '₹549',\n",
       " '₹1,699',\n",
       " '₹720',\n",
       " '₹614',\n",
       " '₹3,353',\n",
       " '₹2,144',\n",
       " '₹499',\n",
       " '₹498',\n",
       " '₹1,099',\n",
       " '₹2,693',\n",
       " '₹429',\n",
       " '₹699',\n",
       " '₹494',\n",
       " '₹4,199',\n",
       " '₹2,712',\n",
       " '₹2,130',\n",
       " '₹449',\n",
       " '₹431',\n",
       " '₹599',\n",
       " '₹584',\n",
       " '₹1,096',\n",
       " '₹649',\n",
       " '₹1,409',\n",
       " '₹699',\n",
       " '₹1,480',\n",
       " '₹4,787',\n",
       " '₹1,130',\n",
       " '₹3,055',\n",
       " '₹490',\n",
       " '₹399',\n",
       " '₹493',\n",
       " '₹383',\n",
       " '₹1,349',\n",
       " '₹628',\n",
       " '₹665',\n",
       " '₹1,618',\n",
       " '₹2,880',\n",
       " '₹1,019',\n",
       " '₹1,259',\n",
       " '₹249',\n",
       " '₹1,721',\n",
       " '₹895',\n",
       " '₹5,999',\n",
       " '₹716',\n",
       " '₹519',\n",
       " '₹1,999',\n",
       " '₹3,683',\n",
       " '₹399',\n",
       " '₹796',\n",
       " '₹4,558',\n",
       " '₹1,119',\n",
       " '₹499',\n",
       " '₹1,198',\n",
       " '₹429',\n",
       " '₹299',\n",
       " '₹886',\n",
       " '₹4,352',\n",
       " '₹2,399',\n",
       " '₹224',\n",
       " '₹439',\n",
       " '₹1,602',\n",
       " '₹1,899',\n",
       " '₹1,799',\n",
       " '₹2,699',\n",
       " '₹1,557',\n",
       " '₹749',\n",
       " '₹849',\n",
       " '₹2,875',\n",
       " '₹716',\n",
       " '₹1,099',\n",
       " '₹449',\n",
       " '₹461',\n",
       " '₹2,029',\n",
       " '₹660',\n",
       " '₹549',\n",
       " '₹1,499',\n",
       " '₹1,599',\n",
       " '₹2,599',\n",
       " '₹1,449',\n",
       " '₹359',\n",
       " '₹2,149',\n",
       " '₹399',\n",
       " '₹1,685',\n",
       " '₹3,477',\n",
       " '₹1,539',\n",
       " '₹449',\n",
       " '₹1,650',\n",
       " '₹290',\n",
       " '₹225',\n",
       " '₹299',\n",
       " '₹2,609',\n",
       " '₹2,472',\n",
       " '₹589',\n",
       " '₹499',\n",
       " '₹1,699',\n",
       " '₹1,096',\n",
       " '₹525',\n",
       " '₹1,499',\n",
       " '₹1,079',\n",
       " '₹499',\n",
       " '₹269',\n",
       " '₹680',\n",
       " '₹799',\n",
       " '₹998',\n",
       " '₹809',\n",
       " '₹499',\n",
       " '₹499',\n",
       " '₹995',\n",
       " '₹5,268',\n",
       " '₹1,799']"
      ]
     },
     "execution_count": 18,
     "metadata": {},
     "output_type": "execute_result"
    }
   ],
   "source": [
    "prices"
   ]
  },
  {
   "cell_type": "code",
   "execution_count": 19,
   "id": "882d90bb",
   "metadata": {},
   "outputs": [
    {
     "data": {
      "text/plain": [
       "120"
      ]
     },
     "execution_count": 19,
     "metadata": {},
     "output_type": "execute_result"
    }
   ],
   "source": [
    "len(prices)"
   ]
  },
  {
   "cell_type": "code",
   "execution_count": 20,
   "id": "c1437a51",
   "metadata": {},
   "outputs": [],
   "source": [
    "offers=[]\n",
    "for i in range(0,3):\n",
    "    off_tags=driver.find_elements_by_xpath(\"//div[@class='_3Ay6Sb']\")\n",
    "    for i in off_tags:\n",
    "        offer=i.text\n",
    "        offers.append(offer)\n",
    "    next_button=driver.find_element_by_xpath(\"/html/body/div[1]/div/div[3]/div[1]/div[2]/div[12]/div/div/nav/a[11]\")\n",
    "    next_button.click()\n",
    "    time.sleep(5)"
   ]
  },
  {
   "cell_type": "code",
   "execution_count": 21,
   "id": "d46f84ba",
   "metadata": {},
   "outputs": [
    {
     "data": {
      "text/plain": [
       "['77% off',\n",
       " '53% off',\n",
       " '42% off',\n",
       " '33% off',\n",
       " '45% off',\n",
       " '11% off',\n",
       " '33% off',\n",
       " '27% off',\n",
       " '64% off',\n",
       " '50% off',\n",
       " '60% off',\n",
       " '43% off',\n",
       " '36% off',\n",
       " '61% off',\n",
       " '77% off',\n",
       " '44% off',\n",
       " '41% off',\n",
       " '54% off',\n",
       " '76% off',\n",
       " '42% off',\n",
       " '38% off',\n",
       " '41% off',\n",
       " '75% off',\n",
       " '60% off',\n",
       " '47% off',\n",
       " '46% off',\n",
       " '73% off',\n",
       " '50% off',\n",
       " '90% off',\n",
       " '31% off',\n",
       " '60% off',\n",
       " '73% off',\n",
       " '10% off',\n",
       " '68% off',\n",
       " '50% off',\n",
       " '50% off',\n",
       " '47% off',\n",
       " '45% off',\n",
       " '77% off',\n",
       " '53% off',\n",
       " '42% off',\n",
       " '33% off',\n",
       " '45% off',\n",
       " '11% off',\n",
       " '33% off',\n",
       " '27% off',\n",
       " '64% off',\n",
       " '50% off',\n",
       " '60% off',\n",
       " '43% off',\n",
       " '36% off',\n",
       " '61% off',\n",
       " '77% off',\n",
       " '44% off',\n",
       " '41% off',\n",
       " '54% off',\n",
       " '76% off',\n",
       " '42% off',\n",
       " '38% off',\n",
       " '41% off',\n",
       " '75% off',\n",
       " '60% off',\n",
       " '47% off',\n",
       " '46% off',\n",
       " '73% off',\n",
       " '50% off',\n",
       " '90% off',\n",
       " '31% off',\n",
       " '60% off',\n",
       " '73% off',\n",
       " '10% off',\n",
       " '68% off',\n",
       " '50% off',\n",
       " '50% off',\n",
       " '47% off',\n",
       " '45% off',\n",
       " '77% off',\n",
       " '53% off',\n",
       " '42% off',\n",
       " '33% off',\n",
       " '45% off',\n",
       " '11% off',\n",
       " '33% off',\n",
       " '27% off',\n",
       " '64% off',\n",
       " '50% off',\n",
       " '60% off',\n",
       " '43% off',\n",
       " '36% off',\n",
       " '61% off',\n",
       " '77% off',\n",
       " '44% off',\n",
       " '41% off',\n",
       " '54% off',\n",
       " '76% off',\n",
       " '42% off',\n",
       " '38% off',\n",
       " '41% off',\n",
       " '75% off',\n",
       " '60% off',\n",
       " '47% off',\n",
       " '46% off',\n",
       " '73% off',\n",
       " '50% off',\n",
       " '90% off',\n",
       " '31% off',\n",
       " '60% off',\n",
       " '73% off',\n",
       " '10% off',\n",
       " '68% off',\n",
       " '50% off',\n",
       " '50% off',\n",
       " '47% off',\n",
       " '45% off']"
      ]
     },
     "execution_count": 21,
     "metadata": {},
     "output_type": "execute_result"
    }
   ],
   "source": [
    "offers"
   ]
  },
  {
   "cell_type": "code",
   "execution_count": 22,
   "id": "3be122d7",
   "metadata": {},
   "outputs": [
    {
     "data": {
      "text/plain": [
       "114"
      ]
     },
     "execution_count": 22,
     "metadata": {},
     "output_type": "execute_result"
    }
   ],
   "source": [
    "len(offers)"
   ]
  },
  {
   "cell_type": "code",
   "execution_count": 23,
   "id": "5d3bcf1e",
   "metadata": {},
   "outputs": [],
   "source": [
    "brand=brand[0:100]\n",
    "description=description[0:100]\n",
    "prices=prices[0:100]\n",
    "offers=offers[0:100]"
   ]
  },
  {
   "cell_type": "code",
   "execution_count": 24,
   "id": "4c980cb6",
   "metadata": {},
   "outputs": [
    {
     "data": {
      "text/html": [
       "<div>\n",
       "<style scoped>\n",
       "    .dataframe tbody tr th:only-of-type {\n",
       "        vertical-align: middle;\n",
       "    }\n",
       "\n",
       "    .dataframe tbody tr th {\n",
       "        vertical-align: top;\n",
       "    }\n",
       "\n",
       "    .dataframe thead th {\n",
       "        text-align: right;\n",
       "    }\n",
       "</style>\n",
       "<table border=\"1\" class=\"dataframe\">\n",
       "  <thead>\n",
       "    <tr style=\"text-align: right;\">\n",
       "      <th></th>\n",
       "      <th>Brand</th>\n",
       "      <th>ProductDescription</th>\n",
       "      <th>Price</th>\n",
       "      <th>Offers</th>\n",
       "    </tr>\n",
       "  </thead>\n",
       "  <tbody>\n",
       "    <tr>\n",
       "      <th>0</th>\n",
       "      <td>BRUTON</td>\n",
       "      <td>Sneakers For Men</td>\n",
       "      <td>₹4,049</td>\n",
       "      <td>77% off</td>\n",
       "    </tr>\n",
       "    <tr>\n",
       "      <th>1</th>\n",
       "      <td>RapidBox</td>\n",
       "      <td>Sneakers For Men</td>\n",
       "      <td>₹249</td>\n",
       "      <td>53% off</td>\n",
       "    </tr>\n",
       "    <tr>\n",
       "      <th>2</th>\n",
       "      <td>URBANBOX</td>\n",
       "      <td>Canvas shoes for Men Sneakers For Men</td>\n",
       "      <td>₹449</td>\n",
       "      <td>42% off</td>\n",
       "    </tr>\n",
       "    <tr>\n",
       "      <th>3</th>\n",
       "      <td>BRUTON</td>\n",
       "      <td>Sneakers For Men</td>\n",
       "      <td>₹1,099</td>\n",
       "      <td>33% off</td>\n",
       "    </tr>\n",
       "    <tr>\n",
       "      <th>4</th>\n",
       "      <td>Labbin</td>\n",
       "      <td>STYLISH MENS BLACK AND WHITE SNEAKER Sneakers ...</td>\n",
       "      <td>₹796</td>\n",
       "      <td>45% off</td>\n",
       "    </tr>\n",
       "    <tr>\n",
       "      <th>...</th>\n",
       "      <td>...</td>\n",
       "      <td>...</td>\n",
       "      <td>...</td>\n",
       "      <td>...</td>\n",
       "    </tr>\n",
       "    <tr>\n",
       "      <th>95</th>\n",
       "      <td>Extoes</td>\n",
       "      <td>Men White Solid Sneakers Sneakers For Men</td>\n",
       "      <td>₹449</td>\n",
       "      <td>42% off</td>\n",
       "    </tr>\n",
       "    <tr>\n",
       "      <th>96</th>\n",
       "      <td>SPARX</td>\n",
       "      <td>Wild Rider Rollin Sneakers For Men</td>\n",
       "      <td>₹1,650</td>\n",
       "      <td>38% off</td>\n",
       "    </tr>\n",
       "    <tr>\n",
       "      <th>97</th>\n",
       "      <td>U.S. POLO ASSN.</td>\n",
       "      <td>U.S. Polo Assn. Men Black Blue Colourblocked S...</td>\n",
       "      <td>₹290</td>\n",
       "      <td>41% off</td>\n",
       "    </tr>\n",
       "    <tr>\n",
       "      <th>98</th>\n",
       "      <td>DUCATI</td>\n",
       "      <td>Sneakers For Men</td>\n",
       "      <td>₹225</td>\n",
       "      <td>75% off</td>\n",
       "    </tr>\n",
       "    <tr>\n",
       "      <th>99</th>\n",
       "      <td>iD</td>\n",
       "      <td>Sneakers For Men</td>\n",
       "      <td>₹299</td>\n",
       "      <td>60% off</td>\n",
       "    </tr>\n",
       "  </tbody>\n",
       "</table>\n",
       "<p>100 rows × 4 columns</p>\n",
       "</div>"
      ],
      "text/plain": [
       "              Brand                                 ProductDescription  \\\n",
       "0            BRUTON                                   Sneakers For Men   \n",
       "1          RapidBox                                   Sneakers For Men   \n",
       "2          URBANBOX              Canvas shoes for Men Sneakers For Men   \n",
       "3            BRUTON                                   Sneakers For Men   \n",
       "4            Labbin  STYLISH MENS BLACK AND WHITE SNEAKER Sneakers ...   \n",
       "..              ...                                                ...   \n",
       "95           Extoes          Men White Solid Sneakers Sneakers For Men   \n",
       "96            SPARX                 Wild Rider Rollin Sneakers For Men   \n",
       "97  U.S. POLO ASSN.  U.S. Polo Assn. Men Black Blue Colourblocked S...   \n",
       "98           DUCATI                                   Sneakers For Men   \n",
       "99               iD                                   Sneakers For Men   \n",
       "\n",
       "     Price   Offers  \n",
       "0   ₹4,049  77% off  \n",
       "1     ₹249  53% off  \n",
       "2     ₹449  42% off  \n",
       "3   ₹1,099  33% off  \n",
       "4     ₹796  45% off  \n",
       "..     ...      ...  \n",
       "95    ₹449  42% off  \n",
       "96  ₹1,650  38% off  \n",
       "97    ₹290  41% off  \n",
       "98    ₹225  75% off  \n",
       "99    ₹299  60% off  \n",
       "\n",
       "[100 rows x 4 columns]"
      ]
     },
     "execution_count": 24,
     "metadata": {},
     "output_type": "execute_result"
    }
   ],
   "source": [
    "df=pd.DataFrame({'Brand':brand,'ProductDescription':description,'Price':prices,'Offers':offers})\n",
    "df"
   ]
  },
  {
   "cell_type": "code",
   "execution_count": 1,
   "id": "50e1e548",
   "metadata": {},
   "outputs": [],
   "source": [
    "# Not done Q No. 7 as per directions of Mohd Kashif Sir. "
   ]
  },
  {
   "cell_type": "code",
   "execution_count": 2,
   "id": "0c68044f",
   "metadata": {},
   "outputs": [],
   "source": [
    "#The reason being when we put cursor on brand & short description 'Wishlist' is popping out for both."
   ]
  },
  {
   "cell_type": "code",
   "execution_count": 3,
   "id": "53006356",
   "metadata": {},
   "outputs": [],
   "source": [
    "#So is is not possible to find out the relative xpaths."
   ]
  },
  {
   "cell_type": "code",
   "execution_count": 4,
   "id": "493e1576",
   "metadata": {},
   "outputs": [],
   "source": [
    "# Also not done ratings in Q No. 8 as per your instructions"
   ]
  },
  {
   "cell_type": "code",
   "execution_count": null,
   "id": "429ef4fd",
   "metadata": {},
   "outputs": [],
   "source": []
  }
 ],
 "metadata": {
  "kernelspec": {
   "display_name": "Python 3 (ipykernel)",
   "language": "python",
   "name": "python3"
  },
  "language_info": {
   "codemirror_mode": {
    "name": "ipython",
    "version": 3
   },
   "file_extension": ".py",
   "mimetype": "text/x-python",
   "name": "python",
   "nbconvert_exporter": "python",
   "pygments_lexer": "ipython3",
   "version": "3.9.7"
  }
 },
 "nbformat": 4,
 "nbformat_minor": 5
}
